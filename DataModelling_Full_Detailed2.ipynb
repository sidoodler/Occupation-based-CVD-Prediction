{
  "cells": [
    {
      "cell_type": "code",
      "execution_count": null,
      "metadata": {
        "id": "2aXwowx73JPS"
      },
      "outputs": [],
      "source": [
        "import numpy as np\n",
        "import pandas as pd\n",
        "import seaborn as sns\n",
        "import matplotlib.pyplot as plt\n",
        "from sklearn.ensemble import RandomForestClassifier\n",
        "from sklearn.model_selection import train_test_split\n",
        "from sklearn.preprocessing import MinMaxScaler, StandardScaler\n",
        "from sklearn.metrics import accuracy_score\n",
        "from sklearn.metrics import confusion_matrix\n",
        "from sklearn.metrics import f1_score\n",
        "from sklearn.model_selection import KFold\n",
        "from sklearn.linear_model import LogisticRegression\n",
        "from sklearn.ensemble import GradientBoostingClassifier\n",
        "from sklearn import svm\n",
        "from keras.wrappers.scikit_learn import KerasClassifier\n",
        "from keras.utils import np_utils\n",
        "\n",
        "# for modeling\n",
        "from keras.models import Sequential\n",
        "from keras.layers import Dense, Dropout\n",
        "from keras.callbacks import EarlyStopping\n",
        "%matplotlib inline"
      ]
    },
    {
      "cell_type": "code",
      "execution_count": null,
      "metadata": {
        "colab": {
          "base_uri": "https://localhost:8080/"
        },
        "id": "Lrh35cU13LxA",
        "outputId": "84ce7ccb-8b03-497c-cbea-159962dc50cb"
      },
      "outputs": [
        {
          "output_type": "stream",
          "name": "stdout",
          "text": [
            "(61050, 144)\n",
            "(10000, 144)\n",
            "(10000, 144)\n"
          ]
        }
      ],
      "source": [
        "data=pd.read_csv(\"finalpreprocessed_detailed.csv\")\n",
        "print(data.shape)\n",
        "gan=pd.read_csv(\"synthetic_dataGAN.csv\").drop(['Unnamed: 0', 'id'], axis=1)\n",
        "print(gan.shape)\n",
        "gc=pd.read_csv(\"synthetic_dataGC.csv\").drop(['Unnamed: 0', 'id'], axis=1)\n",
        "print(gc.shape)\n",
        "# data=pd.read_csv(\"finalpreprocessed_simple.csv\")\n",
        "# print(data.shape)"
      ]
    },
    {
      "cell_type": "code",
      "execution_count": null,
      "metadata": {
        "id": "ca8Unb9QY3cO"
      },
      "outputs": [],
      "source": [
        "gan_3x = pd.concat([gan]*3, ignore_index=True)\n",
        "gc_2x = pd.concat([gc]*2, ignore_index=True)\n",
        "data = pd.concat([data, gan_3x, gc_2x], ignore_index=True)\n",
        "data = data.sample(frac=1).reset_index(drop=True)\n"
      ]
    },
    {
      "cell_type": "code",
      "execution_count": null,
      "metadata": {
        "colab": {
          "base_uri": "https://localhost:8080/"
        },
        "id": "lQEBjSpIYWCW",
        "outputId": "182c6f5d-c9fd-4c4a-91ed-6a45695a5285"
      },
      "outputs": [
        {
          "output_type": "execute_result",
          "data": {
            "text/plain": [
              "1.0    56207\n",
              "0.0    54843\n",
              "Name: CVD, dtype: int64"
            ]
          },
          "metadata": {},
          "execution_count": 16
        }
      ],
      "source": [
        "data['CVD'].value_counts()"
      ]
    },
    {
      "cell_type": "code",
      "execution_count": null,
      "metadata": {
        "id": "It8dw6VJ3U_1"
      },
      "outputs": [],
      "source": [
        "selected_features = 'AGEP_A,SEX_A,RACEALLP_A_1,RACEALLP_A_2,RACEALLP_A_3,RACEALLP_A_4,RACEALLP_A_5,RACEALLP_A_6,HYPEV_A,CHLEV_A,DIBTYPE_A_1,DIBTYPE_A_2,DIBTYPE_A_3,SMKCIGST_A_1,SMKCIGST_A_2,SMKCIGST_A_3,SMKCIGST_A_4,HYPMED_A,CVD'\n",
        "selected_columns = selected_features.split(',')\n",
        "selected_columns_with_occ = selected_columns.copy()+[col for col in data.columns if col.startswith(\"EMDOCCUPN\") or col.startswith(\"EMDINDSTN\") or col.startswith(\"EMDWRKCAT\")]\n",
        "pce_features_data = data[selected_columns]\n",
        "pce_and_occ_features_data = data[selected_columns_with_occ]\n",
        "\n",
        "# pce_features_data0=pce_features_data[pce_features_data['CVD']==0.0]\n",
        "# pce_features_data1=pce_features_data[pce_features_data['CVD']==1.0]\n",
        "# pce_features_data0=pce_features_data0.sample(n=10000, random_state=1)\n",
        "# pce_features_data=pd.concat([pce_features_data0,pce_features_data1])\n",
        "# pce_features_data= pce_features_data.sample(frac = 1)\n",
        "\n",
        "# pce_and_occ_features_data0=pce_and_occ_features_data[pce_and_occ_features_data['CVD']==0.0]\n",
        "# pce_and_occ_features_data1=pce_and_occ_features_data[pce_and_occ_features_data['CVD']==1.0]\n",
        "# pce_and_occ_features_data0=pce_and_occ_features_data0.sample(n=10000, random_state=1)\n",
        "# pce_and_occ_features_data=pd.concat([pce_and_occ_features_data0,pce_and_occ_features_data1])\n",
        "# pce_and_occ_features_data= pce_and_occ_features_data.sample(frac = 1)"
      ]
    },
    {
      "cell_type": "code",
      "execution_count": null,
      "metadata": {
        "id": "hehkzpbSFelJ"
      },
      "outputs": [],
      "source": [
        "X = pce_and_occ_features_data.drop('CVD', axis=1)\n",
        "y = pce_and_occ_features_data['CVD']"
      ]
    },
    {
      "cell_type": "code",
      "execution_count": null,
      "metadata": {
        "id": "BJCWxI9LFg0C"
      },
      "outputs": [],
      "source": [
        "# min_max_scaler = MinMaxScaler()\n",
        "# X_normalized = min_max_scaler.fit_transform(X)\n",
        "# standard_scaler = StandardScaler()\n",
        "# X_standardized = standard_scaler.fit_transform(X_normalized)"
      ]
    },
    {
      "cell_type": "code",
      "execution_count": null,
      "metadata": {
        "id": "Czw9YBK1JThd"
      },
      "outputs": [],
      "source": [
        "X_train, X_test, y_train, y_test = train_test_split(X, y, test_size=0.3, random_state=42)"
      ]
    },
    {
      "cell_type": "code",
      "execution_count": null,
      "metadata": {
        "id": "efKxF4YuRJS6"
      },
      "outputs": [],
      "source": [
        "# (we actually should not include any augmented data in test set)"
      ]
    },
    {
      "cell_type": "markdown",
      "metadata": {
        "id": "inO3uUYz32dH"
      },
      "source": [
        "#Model fitting\n",
        "##Models fitted: Random Forest, LR with weights adjusted, SVM, GB"
      ]
    },
    {
      "cell_type": "markdown",
      "metadata": {
        "id": "99Jh1BbWZbVY"
      },
      "source": [
        "##Using PCE + Occupation Features"
      ]
    },
    {
      "cell_type": "markdown",
      "metadata": {
        "id": "b_emSr2IZnEK"
      },
      "source": [
        "###Random Forest"
      ]
    },
    {
      "cell_type": "code",
      "execution_count": null,
      "metadata": {
        "colab": {
          "base_uri": "https://localhost:8080/",
          "height": 74
        },
        "id": "6Wm6gdoDFqot",
        "outputId": "4a05d2ac-3f50-4faa-9642-d1e425fd560d"
      },
      "outputs": [
        {
          "data": {
            "text/html": [
              "<style>#sk-container-id-1 {color: black;background-color: white;}#sk-container-id-1 pre{padding: 0;}#sk-container-id-1 div.sk-toggleable {background-color: white;}#sk-container-id-1 label.sk-toggleable__label {cursor: pointer;display: block;width: 100%;margin-bottom: 0;padding: 0.3em;box-sizing: border-box;text-align: center;}#sk-container-id-1 label.sk-toggleable__label-arrow:before {content: \"▸\";float: left;margin-right: 0.25em;color: #696969;}#sk-container-id-1 label.sk-toggleable__label-arrow:hover:before {color: black;}#sk-container-id-1 div.sk-estimator:hover label.sk-toggleable__label-arrow:before {color: black;}#sk-container-id-1 div.sk-toggleable__content {max-height: 0;max-width: 0;overflow: hidden;text-align: left;background-color: #f0f8ff;}#sk-container-id-1 div.sk-toggleable__content pre {margin: 0.2em;color: black;border-radius: 0.25em;background-color: #f0f8ff;}#sk-container-id-1 input.sk-toggleable__control:checked~div.sk-toggleable__content {max-height: 200px;max-width: 100%;overflow: auto;}#sk-container-id-1 input.sk-toggleable__control:checked~label.sk-toggleable__label-arrow:before {content: \"▾\";}#sk-container-id-1 div.sk-estimator input.sk-toggleable__control:checked~label.sk-toggleable__label {background-color: #d4ebff;}#sk-container-id-1 div.sk-label input.sk-toggleable__control:checked~label.sk-toggleable__label {background-color: #d4ebff;}#sk-container-id-1 input.sk-hidden--visually {border: 0;clip: rect(1px 1px 1px 1px);clip: rect(1px, 1px, 1px, 1px);height: 1px;margin: -1px;overflow: hidden;padding: 0;position: absolute;width: 1px;}#sk-container-id-1 div.sk-estimator {font-family: monospace;background-color: #f0f8ff;border: 1px dotted black;border-radius: 0.25em;box-sizing: border-box;margin-bottom: 0.5em;}#sk-container-id-1 div.sk-estimator:hover {background-color: #d4ebff;}#sk-container-id-1 div.sk-parallel-item::after {content: \"\";width: 100%;border-bottom: 1px solid gray;flex-grow: 1;}#sk-container-id-1 div.sk-label:hover label.sk-toggleable__label {background-color: #d4ebff;}#sk-container-id-1 div.sk-serial::before {content: \"\";position: absolute;border-left: 1px solid gray;box-sizing: border-box;top: 0;bottom: 0;left: 50%;z-index: 0;}#sk-container-id-1 div.sk-serial {display: flex;flex-direction: column;align-items: center;background-color: white;padding-right: 0.2em;padding-left: 0.2em;position: relative;}#sk-container-id-1 div.sk-item {position: relative;z-index: 1;}#sk-container-id-1 div.sk-parallel {display: flex;align-items: stretch;justify-content: center;background-color: white;position: relative;}#sk-container-id-1 div.sk-item::before, #sk-container-id-1 div.sk-parallel-item::before {content: \"\";position: absolute;border-left: 1px solid gray;box-sizing: border-box;top: 0;bottom: 0;left: 50%;z-index: -1;}#sk-container-id-1 div.sk-parallel-item {display: flex;flex-direction: column;z-index: 1;position: relative;background-color: white;}#sk-container-id-1 div.sk-parallel-item:first-child::after {align-self: flex-end;width: 50%;}#sk-container-id-1 div.sk-parallel-item:last-child::after {align-self: flex-start;width: 50%;}#sk-container-id-1 div.sk-parallel-item:only-child::after {width: 0;}#sk-container-id-1 div.sk-dashed-wrapped {border: 1px dashed gray;margin: 0 0.4em 0.5em 0.4em;box-sizing: border-box;padding-bottom: 0.4em;background-color: white;}#sk-container-id-1 div.sk-label label {font-family: monospace;font-weight: bold;display: inline-block;line-height: 1.2em;}#sk-container-id-1 div.sk-label-container {text-align: center;}#sk-container-id-1 div.sk-container {/* jupyter's `normalize.less` sets `[hidden] { display: none; }` but bootstrap.min.css set `[hidden] { display: none !important; }` so we also need the `!important` here to be able to override the default hidden behavior on the sphinx rendered scikit-learn.org. See: https://github.com/scikit-learn/scikit-learn/issues/21755 */display: inline-block !important;position: relative;}#sk-container-id-1 div.sk-text-repr-fallback {display: none;}</style><div id=\"sk-container-id-1\" class=\"sk-top-container\"><div class=\"sk-text-repr-fallback\"><pre>RandomForestClassifier(random_state=42)</pre><b>In a Jupyter environment, please rerun this cell to show the HTML representation or trust the notebook. <br />On GitHub, the HTML representation is unable to render, please try loading this page with nbviewer.org.</b></div><div class=\"sk-container\" hidden><div class=\"sk-item\"><div class=\"sk-estimator sk-toggleable\"><input class=\"sk-toggleable__control sk-hidden--visually\" id=\"sk-estimator-id-1\" type=\"checkbox\" checked><label for=\"sk-estimator-id-1\" class=\"sk-toggleable__label sk-toggleable__label-arrow\">RandomForestClassifier</label><div class=\"sk-toggleable__content\"><pre>RandomForestClassifier(random_state=42)</pre></div></div></div></div></div>"
            ],
            "text/plain": [
              "RandomForestClassifier(random_state=42)"
            ]
          },
          "execution_count": 7,
          "metadata": {},
          "output_type": "execute_result"
        }
      ],
      "source": [
        "rf = RandomForestClassifier(n_estimators=100, random_state=42)\n",
        "rf.fit(X_train, y_train)"
      ]
    },
    {
      "cell_type": "code",
      "execution_count": null,
      "metadata": {
        "colab": {
          "base_uri": "https://localhost:8080/"
        },
        "id": "zzmmTdz5F4ow",
        "outputId": "c5c1add1-b00f-4bc2-abbf-590f0d9527e3"
      },
      "outputs": [
        {
          "name": "stdout",
          "output_type": "stream",
          "text": [
            "Accuracy: 0.9055965055965056\n"
          ]
        },
        {
          "data": {
            "text/plain": [
              "(16056, 449, 1280, 530, 0.380064539261384)"
            ]
          },
          "execution_count": 8,
          "metadata": {},
          "output_type": "execute_result"
        }
      ],
      "source": [
        "y_pred = rf.predict(X_test)\n",
        "accuracy = accuracy_score(y_test, y_pred)\n",
        "cm=confusion_matrix(y_test, y_pred)\n",
        "print(f'Accuracy: {accuracy}')\n",
        "tn, fp, fn, tp = confusion_matrix(y_test, y_pred).ravel()\n",
        "f1 = f1_score(y_test, y_pred)\n",
        "(tn, fp, fn, tp, f1)"
      ]
    },
    {
      "cell_type": "markdown",
      "metadata": {
        "id": "9oPd9wk9ZrmG"
      },
      "source": [
        "###Logistic Regression"
      ]
    },
    {
      "cell_type": "code",
      "execution_count": null,
      "metadata": {
        "colab": {
          "base_uri": "https://localhost:8080/"
        },
        "id": "Q74WYUViGZ6j",
        "outputId": "9b405fbb-a097-4f06-9e41-9815465b7b39"
      },
      "outputs": [
        {
          "name": "stdout",
          "output_type": "stream",
          "text": [
            "Average training accuracy: 90.05%\n",
            "Average testing accuracy: 90.00%\n",
            "Average precision: 0.56\n",
            "Average recall: 0.09\n",
            "Average F1 score: 0.16\n",
            "\n",
            "Average training accuracy: 89.62%\n",
            "Average testing accuracy: 89.57%\n",
            "Average precision: 0.47\n",
            "Average recall: 0.20\n",
            "Average F1 score: 0.28\n",
            "\n",
            "Average training accuracy: 88.75%\n",
            "Average testing accuracy: 88.71%\n",
            "Average precision: 0.43\n",
            "Average recall: 0.31\n",
            "Average F1 score: 0.36\n",
            "\n",
            "Average training accuracy: 86.15%\n",
            "Average testing accuracy: 86.05%\n",
            "Average precision: 0.36\n",
            "Average recall: 0.47\n",
            "Average F1 score: 0.40\n",
            "\n",
            "Average training accuracy: 83.45%\n",
            "Average testing accuracy: 83.37%\n",
            "Average precision: 0.32\n",
            "Average recall: 0.57\n",
            "Average F1 score: 0.41\n",
            "\n",
            "Average training accuracy: 81.15%\n",
            "Average testing accuracy: 81.10%\n",
            "Average precision: 0.30\n",
            "Average recall: 0.65\n",
            "Average F1 score: 0.41\n",
            "\n",
            "Average training accuracy: 78.94%\n",
            "Average testing accuracy: 78.85%\n",
            "Average precision: 0.28\n",
            "Average recall: 0.70\n",
            "Average F1 score: 0.40\n",
            "\n",
            "Average training accuracy: 76.87%\n",
            "Average testing accuracy: 76.82%\n",
            "Average precision: 0.27\n",
            "Average recall: 0.75\n",
            "Average F1 score: 0.40\n",
            "\n",
            "Average training accuracy: 75.08%\n",
            "Average testing accuracy: 75.04%\n",
            "Average precision: 0.26\n",
            "Average recall: 0.79\n",
            "Average F1 score: 0.39\n",
            "\n",
            "Average training accuracy: 73.40%\n",
            "Average testing accuracy: 73.31%\n",
            "Average precision: 0.25\n",
            "Average recall: 0.81\n",
            "Average F1 score: 0.38\n",
            "\n"
          ]
        }
      ],
      "source": [
        "from sklearn.model_selection import KFold\n",
        "from sklearn.linear_model import LogisticRegression\n",
        "from sklearn.metrics import precision_score, recall_score, f1_score\n",
        "\n",
        "# Find the class weights based on the inverse of their frequencies\n",
        "class_weights = y.value_counts().to_dict()\n",
        "weights = [1, 1.5, 2, 3, 4, 5, 6, 7, 8, 9]\n",
        "\n",
        "for i in range(10):\n",
        "  # Initialize the KFold cross-validator with 10 folds\n",
        "  kf = KFold(n_splits=10)\n",
        "\n",
        "  total_training_accuracy = 0\n",
        "  total_testing_accuracy = 0\n",
        "  total_precision = 0\n",
        "  total_recall = 0\n",
        "  total_f1 = 0\n",
        "  fold = 1\n",
        "\n",
        "  class_weights[1.0] = weights[i]\n",
        "  class_weights[0.0] = 1\n",
        "  # for key in class_weights:\n",
        "  #     class_weights[key] = 1 / class_weights[key]\n",
        "  #     print(f\"weight: class {key}: {class_weights[key]}\")\n",
        "\n",
        "  # Initialize the Logistic Regression model with class weights and max_iter=1000\n",
        "  lr = LogisticRegression(max_iter=1000, class_weight=class_weights)\n",
        "\n",
        "  for train_index, test_index in kf.split(X_standardized):\n",
        "      X_train, X_test = X_standardized[train_index], X_standardized[test_index]\n",
        "      y_train, y_test = y.iloc[train_index], y.iloc[test_index]\n",
        "\n",
        "      # Train the model on the training data\n",
        "      lr.fit(X_train, y_train)\n",
        "\n",
        "      # Compute the training accuracy\n",
        "      training_accuracy = lr.score(X_train, y_train)\n",
        "\n",
        "      # Make predictions using the test data\n",
        "      y_test_pred = lr.predict(X_test)\n",
        "\n",
        "      # Compute the testing accuracy, precision, recall, and F1 score\n",
        "      testing_accuracy = lr.score(X_test, y_test)\n",
        "      precision = precision_score(y_test, y_test_pred)\n",
        "      recall = recall_score(y_test, y_test_pred)\n",
        "      f1 = f1_score(y_test, y_test_pred)\n",
        "\n",
        "      # print(f\"Fold {fold}:\")\n",
        "      # print(f\"  Training accuracy: {training_accuracy * 100:.2f}%\")\n",
        "      # print(f\"  Testing accuracy: {testing_accuracy * 100:.2f}%\")\n",
        "      # print(f\"  Precision: {precision:.2f}\")\n",
        "      # print(f\"  Recall: {recall:.2f}\")\n",
        "      # print(f\"  F1 score: {f1:.2f}\")\n",
        "      # print()\n",
        "\n",
        "      total_training_accuracy += training_accuracy\n",
        "      total_testing_accuracy += testing_accuracy\n",
        "      total_precision += precision\n",
        "      total_recall += recall\n",
        "      total_f1 += f1\n",
        "      fold += 1\n",
        "\n",
        "  # Calculate the average training accuracy, testing accuracy, precision, recall, and F1 score\n",
        "  average_training_accuracy = total_training_accuracy / (fold - 1)\n",
        "  average_testing_accuracy = total_testing_accuracy / (fold - 1)\n",
        "  average_precision = total_precision / (fold - 1)\n",
        "  average_recall = total_recall / (fold - 1)\n",
        "  average_f1 = total_f1 / (fold - 1)\n",
        "\n",
        "  print(f\"Average training accuracy: {average_training_accuracy * 100:.2f}%\")\n",
        "  print(f\"Average testing accuracy: {average_testing_accuracy * 100:.2f}%\")\n",
        "  print(f\"Average precision: {average_precision:.2f}\")\n",
        "  print(f\"Average recall: {average_recall:.2f}\")\n",
        "  print(f\"Average F1 score: {average_f1:.2f}\")\n",
        "  print()\n"
      ]
    },
    {
      "cell_type": "markdown",
      "metadata": {
        "id": "6ydzTw5MZwdO"
      },
      "source": [
        "###SVM"
      ]
    },
    {
      "cell_type": "code",
      "execution_count": null,
      "metadata": {
        "colab": {
          "base_uri": "https://localhost:8080/"
        },
        "id": "_7LFmkEK-l3n",
        "outputId": "cfa9ae74-bae8-47bc-88fd-66f804b47e46"
      },
      "outputs": [
        {
          "name": "stdout",
          "output_type": "stream",
          "text": [
            "Average training accuracy: 88.22%\n",
            "Average testing accuracy: 85.08%\n",
            "Average precision: 0.36\n",
            "Average recall: 0.59\n",
            "Average F1 score: 0.45\n",
            "\n",
            "Average training accuracy: 86.55%\n",
            "Average testing accuracy: 83.05%\n",
            "Average precision: 0.33\n",
            "Average recall: 0.63\n",
            "Average F1 score: 0.43\n",
            "\n",
            "Average training accuracy: 84.71%\n",
            "Average testing accuracy: 81.07%\n",
            "Average precision: 0.30\n",
            "Average recall: 0.67\n",
            "Average F1 score: 0.42\n",
            "\n",
            "Average training accuracy: 82.89%\n",
            "Average testing accuracy: 79.29%\n",
            "Average precision: 0.29\n",
            "Average recall: 0.70\n",
            "Average F1 score: 0.41\n",
            "\n",
            "Average training accuracy: 81.83%\n",
            "Average testing accuracy: 78.20%\n",
            "Average precision: 0.28\n",
            "Average recall: 0.72\n",
            "Average F1 score: 0.40\n",
            "\n"
          ]
        }
      ],
      "source": [
        "from sklearn.model_selection import KFold\n",
        "from sklearn.linear_model import LogisticRegression\n",
        "from sklearn.metrics import precision_score, recall_score, f1_score\n",
        "\n",
        "# Find the class weights based on the inverse of their frequencies\n",
        "class_weights = y.value_counts().to_dict()\n",
        "weights = [5, 6, 7, 8, 9]\n",
        "\n",
        "for i in range(5):\n",
        "  # Initialize the KFold cross-validator with 10 folds\n",
        "  kf = KFold(n_splits=2, shuffle=True)\n",
        "\n",
        "  total_training_accuracy = 0\n",
        "  total_testing_accuracy = 0\n",
        "  total_precision = 0\n",
        "  total_recall = 0\n",
        "  total_f1 = 0\n",
        "  fold = 1\n",
        "\n",
        "  class_weights[1.0] = weights[i]\n",
        "  class_weights[0.0] = 1\n",
        "\n",
        "  clf = svm.SVC(class_weight=class_weights)\n",
        "\n",
        "  for train_index, test_index in kf.split(X_standardized):\n",
        "      X_train, X_test = X_standardized[train_index], X_standardized[test_index]\n",
        "      y_train, y_test = y.iloc[train_index], y.iloc[test_index]\n",
        "\n",
        "      # Train the model on the training data\n",
        "      clf.fit(X_train, y_train)\n",
        "\n",
        "      # Compute the training accuracy\n",
        "      training_accuracy = clf.score(X_train, y_train)\n",
        "\n",
        "      # Make predictions using the test data\n",
        "      y_test_pred = clf.predict(X_test)\n",
        "\n",
        "      # Compute the testing accuracy, precision, recall, and F1 score\n",
        "      testing_accuracy = clf.score(X_test, y_test)\n",
        "      precision = precision_score(y_test, y_test_pred)\n",
        "      recall = recall_score(y_test, y_test_pred)\n",
        "      f1 = f1_score(y_test, y_test_pred)\n",
        "\n",
        "      # print(f\"Fold {fold}:\")\n",
        "      # print(f\"  Training accuracy: {training_accuracy * 100:.2f}%\")\n",
        "      # print(f\"  Testing accuracy: {testing_accuracy * 100:.2f}%\")\n",
        "      # print(f\"  Precision: {precision:.2f}\")\n",
        "      # print(f\"  Recall: {recall:.2f}\")\n",
        "      # print(f\"  F1 score: {f1:.2f}\")\n",
        "      # print()\n",
        "\n",
        "      total_training_accuracy += training_accuracy\n",
        "      total_testing_accuracy += testing_accuracy\n",
        "      total_precision += precision\n",
        "      total_recall += recall\n",
        "      total_f1 += f1\n",
        "      fold += 1\n",
        "\n",
        "  # Calculate the average training accuracy, testing accuracy, precision, recall, and F1 score\n",
        "  average_training_accuracy = total_training_accuracy / (fold - 1)\n",
        "  average_testing_accuracy = total_testing_accuracy / (fold - 1)\n",
        "  average_precision = total_precision / (fold - 1)\n",
        "  average_recall = total_recall / (fold - 1)\n",
        "  average_f1 = total_f1 / (fold - 1)\n",
        "\n",
        "  print(f\"Average training accuracy: {average_training_accuracy * 100:.2f}%\")\n",
        "  print(f\"Average testing accuracy: {average_testing_accuracy * 100:.2f}%\")\n",
        "  print(f\"Average precision: {average_precision:.2f}\")\n",
        "  print(f\"Average recall: {average_recall:.2f}\")\n",
        "  print(f\"Average F1 score: {average_f1:.2f}\")\n",
        "  print()\n"
      ]
    },
    {
      "cell_type": "markdown",
      "metadata": {
        "id": "A8MO2aLEZ0ed"
      },
      "source": [
        "###Gradient Boosting"
      ]
    },
    {
      "cell_type": "code",
      "execution_count": null,
      "metadata": {
        "colab": {
          "base_uri": "https://localhost:8080/"
        },
        "id": "QFZNzyO26f-E",
        "outputId": "ca50f0fb-ad5c-4168-d3bc-b7929b0be866"
      },
      "outputs": [
        {
          "name": "stdout",
          "output_type": "stream",
          "text": [
            "Accuracy: 0.8999180999180999\n"
          ]
        }
      ],
      "source": [
        "# # Create a Gradient Boosting classifier\n",
        "# clf = GradientBoostingClassifier()\n",
        "\n",
        "# # Train the classifier on the training data\n",
        "# clf.fit(X_train, y_train)\n",
        "\n",
        "# # Use the trained classifier to predict labels for the test data\n",
        "# y_pred = clf.predict(X_test)\n",
        "\n",
        "# # Compute the accuracy of the classifier\n",
        "# accuracy = accuracy_score(y_test, y_pred)\n",
        "# print(\"Accuracy:\", accuracy)"
      ]
    },
    {
      "cell_type": "markdown",
      "metadata": {
        "id": "UNFiFzJmZ5OZ"
      },
      "source": [
        "###Neural Networks"
      ]
    },
    {
      "cell_type": "markdown",
      "metadata": {
        "id": "XhOuMyVVJg7n"
      },
      "source": [
        "#### keras tuner"
      ]
    },
    {
      "cell_type": "code",
      "execution_count": null,
      "metadata": {
        "colab": {
          "base_uri": "https://localhost:8080/"
        },
        "id": "UcfpWjuqGsqi",
        "outputId": "4e918b0a-2b80-4343-dcfc-5d4ecdae72d1"
      },
      "outputs": [
        {
          "output_type": "stream",
          "name": "stdout",
          "text": [
            "Looking in indexes: https://pypi.org/simple, https://us-python.pkg.dev/colab-wheels/public/simple/\n",
            "Collecting keras-tuner\n",
            "  Downloading keras_tuner-1.3.5-py3-none-any.whl (176 kB)\n",
            "\u001b[2K     \u001b[90m━━━━━━━━━━━━━━━━━━━━━━━━━━━━━━━━━━━━━━━\u001b[0m \u001b[32m176.1/176.1 kB\u001b[0m \u001b[31m4.1 MB/s\u001b[0m eta \u001b[36m0:00:00\u001b[0m\n",
            "\u001b[?25hRequirement already satisfied: packaging in /usr/local/lib/python3.10/dist-packages (from keras-tuner) (23.1)\n",
            "Requirement already satisfied: requests in /usr/local/lib/python3.10/dist-packages (from keras-tuner) (2.27.1)\n",
            "Collecting kt-legacy (from keras-tuner)\n",
            "  Downloading kt_legacy-1.0.5-py3-none-any.whl (9.6 kB)\n",
            "Requirement already satisfied: urllib3<1.27,>=1.21.1 in /usr/local/lib/python3.10/dist-packages (from requests->keras-tuner) (1.26.15)\n",
            "Requirement already satisfied: certifi>=2017.4.17 in /usr/local/lib/python3.10/dist-packages (from requests->keras-tuner) (2022.12.7)\n",
            "Requirement already satisfied: charset-normalizer~=2.0.0 in /usr/local/lib/python3.10/dist-packages (from requests->keras-tuner) (2.0.12)\n",
            "Requirement already satisfied: idna<4,>=2.5 in /usr/local/lib/python3.10/dist-packages (from requests->keras-tuner) (3.4)\n",
            "Installing collected packages: kt-legacy, keras-tuner\n",
            "Successfully installed keras-tuner-1.3.5 kt-legacy-1.0.5\n"
          ]
        }
      ],
      "source": [
        "!pip install keras-tuner"
      ]
    },
    {
      "cell_type": "code",
      "execution_count": null,
      "metadata": {
        "colab": {
          "base_uri": "https://localhost:8080/"
        },
        "id": "Uh9MTKRjGfoL",
        "outputId": "9a5ca1d2-810c-41ab-e184-0d35b4934a5c"
      },
      "outputs": [
        {
          "output_type": "stream",
          "name": "stdout",
          "text": [
            "Trial 5 Complete [00h 03m 54s]\n",
            "val_accuracy: 0.8621414105097452\n",
            "\n",
            "Best val_accuracy So Far: 0.8647142052650452\n",
            "Total elapsed time: 00h 19m 29s\n",
            "1/1 [==============================] - 0s 206ms/step\n",
            "Model: \"sequential_1\"\n",
            "_________________________________________________________________\n",
            " Layer (type)                Output Shape              Param #   \n",
            "=================================================================\n",
            " dense_6 (Dense)             (None, 40)                760       \n",
            "                                                                 \n",
            " dense_7 (Dense)             (None, 104)               4264      \n",
            "                                                                 \n",
            " dense_8 (Dense)             (None, 8)                 840       \n",
            "                                                                 \n",
            " dense_9 (Dense)             (None, 8)                 72        \n",
            "                                                                 \n",
            " dense_10 (Dense)            (None, 1)                 9         \n",
            "                                                                 \n",
            "=================================================================\n",
            "Total params: 5,945\n",
            "Trainable params: 5,945\n",
            "Non-trainable params: 0\n",
            "_________________________________________________________________\n"
          ]
        }
      ],
      "source": [
        "from tensorflow import keras\n",
        "from tensorflow.keras import layers\n",
        "from kerastuner.tuners import RandomSearch\n",
        "from tensorflow.keras import regularizers\n",
        "def build_model(hp):\n",
        "    model = keras.Sequential()\n",
        "    # Use hp.Int to define the number of layers\n",
        "    for i in range(hp.Int('num_layers', 2, 5)):\n",
        "        model.add(layers.Dense(units=hp.Int('units_' + str(i),\n",
        "                                            min_value=8,\n",
        "                                            max_value=128,\n",
        "                                            step=32),\n",
        "                               activation='relu',\n",
        "                               kernel_regularizer=regularizers.l2(hp.Choice('l2_reg_'+str(i), values=[0.01, 0.001, 0.0001]))))\n",
        "    \n",
        "    model.add(layers.Dense(1, activation='sigmoid'))\n",
        "    \n",
        "    model.compile(optimizer=keras.optimizers.Adam(hp.Choice('learning_rate', values=[1e-2, 1e-3, 1e-4])),\n",
        "                  loss='binary_crossentropy',\n",
        "                  metrics=['accuracy'])\n",
        "    \n",
        "    return model\n",
        "\n",
        "tuner = RandomSearch(\n",
        "    build_model,\n",
        "    objective='val_accuracy',  # use validation accuracy as the objective\n",
        "    max_trials=5,\n",
        "    executions_per_trial=3,\n",
        "    directory='my_dir',\n",
        "    project_name='helloworld')\n",
        "\n",
        "tuner.search_space_summary()\n",
        "\n",
        "tuner.search(X_train, y_train,\n",
        "             epochs=10,\n",
        "             validation_split=0.3)\n",
        "\n",
        "# Get the best hyperparameters\n",
        "best_hp = tuner.get_best_hyperparameters(num_trials=1)[0]\n",
        "\n",
        "# Build the model with the best hyperparameters and train it on the data\n",
        "model = tuner.hypermodel.build(best_hp)\n",
        "model.predict(X_train[:1])\n",
        "model.summary()\n"
      ]
    },
    {
      "cell_type": "code",
      "execution_count": null,
      "metadata": {
        "colab": {
          "base_uri": "https://localhost:8080/",
          "height": 1000
        },
        "id": "1oUpdwJaVL55",
        "outputId": "4f775a9a-ca92-4714-e720-63632e34fc32"
      },
      "outputs": [
        {
          "output_type": "stream",
          "name": "stdout",
          "text": [
            "Epoch 1/15\n",
            "1701/1701 [==============================] - 8s 4ms/step - loss: 0.4395 - accuracy: 0.8261 - val_loss: 0.3686 - val_accuracy: 0.8532\n",
            "Epoch 2/15\n",
            "1701/1701 [==============================] - 5s 3ms/step - loss: 0.3629 - accuracy: 0.8524 - val_loss: 0.3511 - val_accuracy: 0.8524\n",
            "Epoch 3/15\n",
            "1701/1701 [==============================] - 6s 4ms/step - loss: 0.3466 - accuracy: 0.8564 - val_loss: 0.3557 - val_accuracy: 0.8491\n",
            "Epoch 4/15\n",
            "1701/1701 [==============================] - 5s 3ms/step - loss: 0.3365 - accuracy: 0.8574 - val_loss: 0.3318 - val_accuracy: 0.8554\n",
            "Epoch 5/15\n",
            "1701/1701 [==============================] - 6s 3ms/step - loss: 0.3301 - accuracy: 0.8594 - val_loss: 0.3229 - val_accuracy: 0.8636\n",
            "Epoch 6/15\n",
            "1701/1701 [==============================] - 6s 3ms/step - loss: 0.3249 - accuracy: 0.8590 - val_loss: 0.3183 - val_accuracy: 0.8618\n",
            "Epoch 7/15\n",
            "1701/1701 [==============================] - 7s 4ms/step - loss: 0.3209 - accuracy: 0.8610 - val_loss: 0.3168 - val_accuracy: 0.8583\n",
            "Epoch 8/15\n",
            "1701/1701 [==============================] - 6s 4ms/step - loss: 0.3192 - accuracy: 0.8589 - val_loss: 0.3127 - val_accuracy: 0.8637\n",
            "Epoch 9/15\n",
            "1701/1701 [==============================] - 5s 3ms/step - loss: 0.3169 - accuracy: 0.8610 - val_loss: 0.3206 - val_accuracy: 0.8558\n",
            "Epoch 10/15\n",
            "1701/1701 [==============================] - 6s 4ms/step - loss: 0.3157 - accuracy: 0.8610 - val_loss: 0.3098 - val_accuracy: 0.8625\n",
            "Epoch 11/15\n",
            "1701/1701 [==============================] - 5s 3ms/step - loss: 0.3138 - accuracy: 0.8611 - val_loss: 0.3086 - val_accuracy: 0.8633\n",
            "Epoch 12/15\n",
            "1701/1701 [==============================] - 6s 4ms/step - loss: 0.3126 - accuracy: 0.8618 - val_loss: 0.3135 - val_accuracy: 0.8603\n",
            "Epoch 13/15\n",
            "1701/1701 [==============================] - 5s 3ms/step - loss: 0.3120 - accuracy: 0.8608 - val_loss: 0.3062 - val_accuracy: 0.8644\n",
            "Epoch 14/15\n",
            "1701/1701 [==============================] - 5s 3ms/step - loss: 0.3109 - accuracy: 0.8613 - val_loss: 0.3083 - val_accuracy: 0.8615\n",
            "Epoch 15/15\n",
            "1701/1701 [==============================] - 6s 3ms/step - loss: 0.3103 - accuracy: 0.8600 - val_loss: 0.3083 - val_accuracy: 0.8645\n"
          ]
        },
        {
          "output_type": "display_data",
          "data": {
            "text/plain": [
              "<Figure size 640x480 with 1 Axes>"
            ],
            "image/png": "[encoded data removed]"
          },
          "metadata": {}
        }
      ],
      "source": [
        "history = model.fit(X_train, y_train, epochs=15, validation_split=0.3)\n",
        "\n",
        "# Now you can create your plots\n",
        "history_dict = history.history\n",
        "\n",
        "# loss\n",
        "loss_values = history_dict['loss']\n",
        "val_loss_values = history_dict['val_loss']\n",
        "\n",
        "# range of X (no. of epochs)\n",
        "epochs = range(1, len(loss_values) + 1) \n",
        "\n",
        "# plot\n",
        "plt.plot(epochs, loss_values, 'bo', label='Training loss')\n",
        "plt.plot(epochs, val_loss_values, 'orange', label='Validation loss')\n",
        "plt.title('Training and validation loss')\n",
        "plt.xlabel('Epochs')\n",
        "plt.ylabel('Loss')\n",
        "plt.legend()\n",
        "plt.show()"
      ]
    },
    {
      "cell_type": "code",
      "execution_count": null,
      "metadata": {
        "colab": {
          "base_uri": "https://localhost:8080/",
          "height": 489
        },
        "id": "FLTbf3EvW-Cl",
        "outputId": "8e3e174d-0f53-443d-b3ef-eb5cb9c3c846"
      },
      "outputs": [
        {
          "output_type": "display_data",
          "data": {
            "text/plain": [
              "<Figure size 640x480 with 1 Axes>"
            ],
            "image/png": "[encoded data removed]"
          },
          "metadata": {}
        },
        {
          "output_type": "execute_result",
          "data": {
            "text/plain": [
              "0.8644569516181946"
            ]
          },
          "metadata": {},
          "execution_count": 14
        }
      ],
      "source": [
        "# Learning curve(accuracy)\n",
        "# let's see the training and validation accuracy by epoch\n",
        "\n",
        "# accuracy\n",
        "acc = history.history['accuracy']\n",
        "val_acc = history.history['val_accuracy']\n",
        "\n",
        "# range of X (no. of epochs)\n",
        "epochs = range(1, len(acc) + 1)\n",
        "\n",
        "# plot\n",
        "# \"bo\" is for \"blue dot\"\n",
        "plt.plot(epochs, acc, 'bo', label='Training accuracy')\n",
        "# orange is for \"orange\"\n",
        "plt.plot(epochs, val_acc, 'orange', label='Validation accuracy')\n",
        "plt.title('Training and validation accuracy')\n",
        "plt.xlabel('Epochs')\n",
        "plt.ylabel('Accuracy')\n",
        "plt.legend()\n",
        "plt.show()\n",
        "\n",
        "# this is the max value - should correspond to\n",
        "# the HIGHEST train accuracy\n",
        "np.max(val_acc)"
      ]
    },
    {
      "cell_type": "code",
      "execution_count": null,
      "metadata": {
        "colab": {
          "base_uri": "https://localhost:8080/"
        },
        "id": "xAo5y8RJPCo4",
        "outputId": "5b4d0ccb-bc83-4693-8e66-ab15971d0773"
      },
      "outputs": [
        {
          "output_type": "stream",
          "name": "stdout",
          "text": [
            "1042/1042 [==============================] - 2s 1ms/step\n",
            "[[14288  2248]\n",
            " [ 2167 14612]]\n",
            "              precision    recall  f1-score   support\n",
            "\n",
            "         0.0       0.87      0.86      0.87     16536\n",
            "         1.0       0.87      0.87      0.87     16779\n",
            "\n",
            "    accuracy                           0.87     33315\n",
            "   macro avg       0.87      0.87      0.87     33315\n",
            "weighted avg       0.87      0.87      0.87     33315\n",
            "\n"
          ]
        },
        {
          "output_type": "execute_result",
          "data": {
            "text/plain": [
              "(14288, 2248, 2167, 14612)"
            ]
          },
          "metadata": {},
          "execution_count": 15
        }
      ],
      "source": [
        "from sklearn.metrics import confusion_matrix\n",
        "from sklearn.metrics import classification_report\n",
        "\n",
        "preds = np.round(model.predict(X_test),0)\n",
        "\n",
        "# confusion matrix\n",
        "print(confusion_matrix(y_test, preds)) # order matters! (actual, predicted)\n",
        "\n",
        "print(classification_report(y_test, preds))\n",
        "\n",
        "tn, fp, fn, tp = confusion_matrix(y_test, preds).ravel()\n",
        "(tn, fp, fn, tp)"
      ]
    },
    {
      "cell_type": "markdown",
      "metadata": {
        "id": "aEavshLHEwxv"
      },
      "source": [
        "##Using PCE"
      ]
    },
    {
      "cell_type": "code",
      "execution_count": null,
      "metadata": {
        "id": "FmnuVRqEFycR"
      },
      "outputs": [],
      "source": [
        "X = pce_features_data.drop('CVD', axis=1)\n",
        "y = pce_features_data['CVD']"
      ]
    },
    {
      "cell_type": "code",
      "execution_count": null,
      "metadata": {
        "id": "hYGXZoFOEwxv"
      },
      "outputs": [],
      "source": [
        "# min_max_scaler = MinMaxScaler()\n",
        "# X_normalized = min_max_scaler.fit_transform(X)\n",
        "# standard_scaler = StandardScaler()\n",
        "# X_standardized = standard_scaler.fit_transform(X_normalized)"
      ]
    },
    {
      "cell_type": "code",
      "execution_count": null,
      "metadata": {
        "id": "_ejulOHEEwxv"
      },
      "outputs": [],
      "source": [
        "X_train, X_test, y_train, y_test = train_test_split(X, y, test_size=0.3, random_state=42)"
      ]
    },
    {
      "cell_type": "markdown",
      "metadata": {
        "id": "IWNNF-L4Ewxw"
      },
      "source": [
        "###Random Forest"
      ]
    },
    {
      "cell_type": "code",
      "execution_count": null,
      "metadata": {
        "colab": {
          "base_uri": "https://localhost:8080/",
          "height": 75
        },
        "id": "JPOVQy9SEwxw",
        "outputId": "eb2769dd-08cd-4b89-af2a-863ed26f64c0"
      },
      "outputs": [
        {
          "data": {
            "text/html": [
              "<style>#sk-container-id-2 {color: black;background-color: white;}#sk-container-id-2 pre{padding: 0;}#sk-container-id-2 div.sk-toggleable {background-color: white;}#sk-container-id-2 label.sk-toggleable__label {cursor: pointer;display: block;width: 100%;margin-bottom: 0;padding: 0.3em;box-sizing: border-box;text-align: center;}#sk-container-id-2 label.sk-toggleable__label-arrow:before {content: \"▸\";float: left;margin-right: 0.25em;color: #696969;}#sk-container-id-2 label.sk-toggleable__label-arrow:hover:before {color: black;}#sk-container-id-2 div.sk-estimator:hover label.sk-toggleable__label-arrow:before {color: black;}#sk-container-id-2 div.sk-toggleable__content {max-height: 0;max-width: 0;overflow: hidden;text-align: left;background-color: #f0f8ff;}#sk-container-id-2 div.sk-toggleable__content pre {margin: 0.2em;color: black;border-radius: 0.25em;background-color: #f0f8ff;}#sk-container-id-2 input.sk-toggleable__control:checked~div.sk-toggleable__content {max-height: 200px;max-width: 100%;overflow: auto;}#sk-container-id-2 input.sk-toggleable__control:checked~label.sk-toggleable__label-arrow:before {content: \"▾\";}#sk-container-id-2 div.sk-estimator input.sk-toggleable__control:checked~label.sk-toggleable__label {background-color: #d4ebff;}#sk-container-id-2 div.sk-label input.sk-toggleable__control:checked~label.sk-toggleable__label {background-color: #d4ebff;}#sk-container-id-2 input.sk-hidden--visually {border: 0;clip: rect(1px 1px 1px 1px);clip: rect(1px, 1px, 1px, 1px);height: 1px;margin: -1px;overflow: hidden;padding: 0;position: absolute;width: 1px;}#sk-container-id-2 div.sk-estimator {font-family: monospace;background-color: #f0f8ff;border: 1px dotted black;border-radius: 0.25em;box-sizing: border-box;margin-bottom: 0.5em;}#sk-container-id-2 div.sk-estimator:hover {background-color: #d4ebff;}#sk-container-id-2 div.sk-parallel-item::after {content: \"\";width: 100%;border-bottom: 1px solid gray;flex-grow: 1;}#sk-container-id-2 div.sk-label:hover label.sk-toggleable__label {background-color: #d4ebff;}#sk-container-id-2 div.sk-serial::before {content: \"\";position: absolute;border-left: 1px solid gray;box-sizing: border-box;top: 0;bottom: 0;left: 50%;z-index: 0;}#sk-container-id-2 div.sk-serial {display: flex;flex-direction: column;align-items: center;background-color: white;padding-right: 0.2em;padding-left: 0.2em;position: relative;}#sk-container-id-2 div.sk-item {position: relative;z-index: 1;}#sk-container-id-2 div.sk-parallel {display: flex;align-items: stretch;justify-content: center;background-color: white;position: relative;}#sk-container-id-2 div.sk-item::before, #sk-container-id-2 div.sk-parallel-item::before {content: \"\";position: absolute;border-left: 1px solid gray;box-sizing: border-box;top: 0;bottom: 0;left: 50%;z-index: -1;}#sk-container-id-2 div.sk-parallel-item {display: flex;flex-direction: column;z-index: 1;position: relative;background-color: white;}#sk-container-id-2 div.sk-parallel-item:first-child::after {align-self: flex-end;width: 50%;}#sk-container-id-2 div.sk-parallel-item:last-child::after {align-self: flex-start;width: 50%;}#sk-container-id-2 div.sk-parallel-item:only-child::after {width: 0;}#sk-container-id-2 div.sk-dashed-wrapped {border: 1px dashed gray;margin: 0 0.4em 0.5em 0.4em;box-sizing: border-box;padding-bottom: 0.4em;background-color: white;}#sk-container-id-2 div.sk-label label {font-family: monospace;font-weight: bold;display: inline-block;line-height: 1.2em;}#sk-container-id-2 div.sk-label-container {text-align: center;}#sk-container-id-2 div.sk-container {/* jupyter's `normalize.less` sets `[hidden] { display: none; }` but bootstrap.min.css set `[hidden] { display: none !important; }` so we also need the `!important` here to be able to override the default hidden behavior on the sphinx rendered scikit-learn.org. See: https://github.com/scikit-learn/scikit-learn/issues/21755 */display: inline-block !important;position: relative;}#sk-container-id-2 div.sk-text-repr-fallback {display: none;}</style><div id=\"sk-container-id-2\" class=\"sk-top-container\"><div class=\"sk-text-repr-fallback\"><pre>RandomForestClassifier(random_state=42)</pre><b>In a Jupyter environment, please rerun this cell to show the HTML representation or trust the notebook. <br />On GitHub, the HTML representation is unable to render, please try loading this page with nbviewer.org.</b></div><div class=\"sk-container\" hidden><div class=\"sk-item\"><div class=\"sk-estimator sk-toggleable\"><input class=\"sk-toggleable__control sk-hidden--visually\" id=\"sk-estimator-id-2\" type=\"checkbox\" checked><label for=\"sk-estimator-id-2\" class=\"sk-toggleable__label sk-toggleable__label-arrow\">RandomForestClassifier</label><div class=\"sk-toggleable__content\"><pre>RandomForestClassifier(random_state=42)</pre></div></div></div></div></div>"
            ],
            "text/plain": [
              "RandomForestClassifier(random_state=42)"
            ]
          },
          "execution_count": 26,
          "metadata": {},
          "output_type": "execute_result"
        }
      ],
      "source": [
        "rf = RandomForestClassifier(n_estimators=100, random_state=42)\n",
        "rf.fit(X_train, y_train)"
      ]
    },
    {
      "cell_type": "code",
      "execution_count": null,
      "metadata": {
        "colab": {
          "base_uri": "https://localhost:8080/"
        },
        "id": "U0L7Fv6IEwxw",
        "outputId": "6d9b224f-d1ca-4218-e08f-c5963d9145f5"
      },
      "outputs": [
        {
          "name": "stdout",
          "output_type": "stream",
          "text": [
            "Accuracy: 0.8905814905814906\n"
          ]
        },
        {
          "data": {
            "text/plain": [
              "(16095, 410, 1594, 216, 0.1773399014778325)"
            ]
          },
          "execution_count": 27,
          "metadata": {},
          "output_type": "execute_result"
        }
      ],
      "source": [
        "y_pred = rf.predict(X_test)\n",
        "accuracy = accuracy_score(y_test, y_pred)\n",
        "cm=confusion_matrix(y_test, y_pred)\n",
        "print(f'Accuracy: {accuracy}')\n",
        "tn, fp, fn, tp = confusion_matrix(y_test, y_pred).ravel()\n",
        "f1 = f1_score(y_test, y_pred)\n",
        "(tn, fp, fn, tp, f1)"
      ]
    },
    {
      "cell_type": "markdown",
      "metadata": {
        "id": "sQz5F2t1Ewxw"
      },
      "source": [
        "###Logistic Regression"
      ]
    },
    {
      "cell_type": "code",
      "execution_count": null,
      "metadata": {
        "colab": {
          "base_uri": "https://localhost:8080/"
        },
        "id": "vXGBO-PfEwxw",
        "outputId": "9b405fbb-a097-4f06-9e41-9815465b7b39"
      },
      "outputs": [
        {
          "name": "stdout",
          "output_type": "stream",
          "text": [
            "Average training accuracy: 90.05%\n",
            "Average testing accuracy: 90.00%\n",
            "Average precision: 0.56\n",
            "Average recall: 0.09\n",
            "Average F1 score: 0.16\n",
            "\n",
            "Average training accuracy: 89.62%\n",
            "Average testing accuracy: 89.57%\n",
            "Average precision: 0.47\n",
            "Average recall: 0.20\n",
            "Average F1 score: 0.28\n",
            "\n",
            "Average training accuracy: 88.75%\n",
            "Average testing accuracy: 88.71%\n",
            "Average precision: 0.43\n",
            "Average recall: 0.31\n",
            "Average F1 score: 0.36\n",
            "\n",
            "Average training accuracy: 86.15%\n",
            "Average testing accuracy: 86.05%\n",
            "Average precision: 0.36\n",
            "Average recall: 0.47\n",
            "Average F1 score: 0.40\n",
            "\n",
            "Average training accuracy: 83.45%\n",
            "Average testing accuracy: 83.37%\n",
            "Average precision: 0.32\n",
            "Average recall: 0.57\n",
            "Average F1 score: 0.41\n",
            "\n",
            "Average training accuracy: 81.15%\n",
            "Average testing accuracy: 81.10%\n",
            "Average precision: 0.30\n",
            "Average recall: 0.65\n",
            "Average F1 score: 0.41\n",
            "\n",
            "Average training accuracy: 78.94%\n",
            "Average testing accuracy: 78.85%\n",
            "Average precision: 0.28\n",
            "Average recall: 0.70\n",
            "Average F1 score: 0.40\n",
            "\n",
            "Average training accuracy: 76.87%\n",
            "Average testing accuracy: 76.82%\n",
            "Average precision: 0.27\n",
            "Average recall: 0.75\n",
            "Average F1 score: 0.40\n",
            "\n",
            "Average training accuracy: 75.08%\n",
            "Average testing accuracy: 75.04%\n",
            "Average precision: 0.26\n",
            "Average recall: 0.79\n",
            "Average F1 score: 0.39\n",
            "\n",
            "Average training accuracy: 73.40%\n",
            "Average testing accuracy: 73.31%\n",
            "Average precision: 0.25\n",
            "Average recall: 0.81\n",
            "Average F1 score: 0.38\n",
            "\n"
          ]
        }
      ],
      "source": [
        "from sklearn.model_selection import KFold\n",
        "from sklearn.linear_model import LogisticRegression\n",
        "from sklearn.metrics import precision_score, recall_score, f1_score\n",
        "\n",
        "# Find the class weights based on the inverse of their frequencies\n",
        "class_weights = y.value_counts().to_dict()\n",
        "weights = [1, 1.5, 2, 3, 4, 5, 6, 7, 8, 9]\n",
        "\n",
        "for i in range(10):\n",
        "  # Initialize the KFold cross-validator with 10 folds\n",
        "  kf = KFold(n_splits=10)\n",
        "\n",
        "  total_training_accuracy = 0\n",
        "  total_testing_accuracy = 0\n",
        "  total_precision = 0\n",
        "  total_recall = 0\n",
        "  total_f1 = 0\n",
        "  fold = 1\n",
        "\n",
        "  class_weights[1.0] = weights[i]\n",
        "  class_weights[0.0] = 1\n",
        "  # for key in class_weights:\n",
        "  #     class_weights[key] = 1 / class_weights[key]\n",
        "  #     print(f\"weight: class {key}: {class_weights[key]}\")\n",
        "\n",
        "  # Initialize the Logistic Regression model with class weights and max_iter=1000\n",
        "  lr = LogisticRegression(max_iter=1000, class_weight=class_weights)\n",
        "\n",
        "  for train_index, test_index in kf.split(X_standardized):\n",
        "      X_train, X_test = X_standardized[train_index], X_standardized[test_index]\n",
        "      y_train, y_test = y.iloc[train_index], y.iloc[test_index]\n",
        "\n",
        "      # Train the model on the training data\n",
        "      lr.fit(X_train, y_train)\n",
        "\n",
        "      # Compute the training accuracy\n",
        "      training_accuracy = lr.score(X_train, y_train)\n",
        "\n",
        "      # Make predictions using the test data\n",
        "      y_test_pred = lr.predict(X_test)\n",
        "\n",
        "      # Compute the testing accuracy, precision, recall, and F1 score\n",
        "      testing_accuracy = lr.score(X_test, y_test)\n",
        "      precision = precision_score(y_test, y_test_pred)\n",
        "      recall = recall_score(y_test, y_test_pred)\n",
        "      f1 = f1_score(y_test, y_test_pred)\n",
        "\n",
        "      # print(f\"Fold {fold}:\")\n",
        "      # print(f\"  Training accuracy: {training_accuracy * 100:.2f}%\")\n",
        "      # print(f\"  Testing accuracy: {testing_accuracy * 100:.2f}%\")\n",
        "      # print(f\"  Precision: {precision:.2f}\")\n",
        "      # print(f\"  Recall: {recall:.2f}\")\n",
        "      # print(f\"  F1 score: {f1:.2f}\")\n",
        "      # print()\n",
        "\n",
        "      total_training_accuracy += training_accuracy\n",
        "      total_testing_accuracy += testing_accuracy\n",
        "      total_precision += precision\n",
        "      total_recall += recall\n",
        "      total_f1 += f1\n",
        "      fold += 1\n",
        "\n",
        "  # Calculate the average training accuracy, testing accuracy, precision, recall, and F1 score\n",
        "  average_training_accuracy = total_training_accuracy / (fold - 1)\n",
        "  average_testing_accuracy = total_testing_accuracy / (fold - 1)\n",
        "  average_precision = total_precision / (fold - 1)\n",
        "  average_recall = total_recall / (fold - 1)\n",
        "  average_f1 = total_f1 / (fold - 1)\n",
        "\n",
        "  print(f\"Average training accuracy: {average_training_accuracy * 100:.2f}%\")\n",
        "  print(f\"Average testing accuracy: {average_testing_accuracy * 100:.2f}%\")\n",
        "  print(f\"Average precision: {average_precision:.2f}\")\n",
        "  print(f\"Average recall: {average_recall:.2f}\")\n",
        "  print(f\"Average F1 score: {average_f1:.2f}\")\n",
        "  print()\n"
      ]
    },
    {
      "cell_type": "markdown",
      "metadata": {
        "id": "6kjc_IH6Ewxw"
      },
      "source": [
        "###SVM"
      ]
    },
    {
      "cell_type": "code",
      "execution_count": null,
      "metadata": {
        "colab": {
          "base_uri": "https://localhost:8080/"
        },
        "id": "azittsttEwxw",
        "outputId": "cfa9ae74-bae8-47bc-88fd-66f804b47e46"
      },
      "outputs": [
        {
          "name": "stdout",
          "output_type": "stream",
          "text": [
            "Average training accuracy: 88.22%\n",
            "Average testing accuracy: 85.08%\n",
            "Average precision: 0.36\n",
            "Average recall: 0.59\n",
            "Average F1 score: 0.45\n",
            "\n",
            "Average training accuracy: 86.55%\n",
            "Average testing accuracy: 83.05%\n",
            "Average precision: 0.33\n",
            "Average recall: 0.63\n",
            "Average F1 score: 0.43\n",
            "\n",
            "Average training accuracy: 84.71%\n",
            "Average testing accuracy: 81.07%\n",
            "Average precision: 0.30\n",
            "Average recall: 0.67\n",
            "Average F1 score: 0.42\n",
            "\n",
            "Average training accuracy: 82.89%\n",
            "Average testing accuracy: 79.29%\n",
            "Average precision: 0.29\n",
            "Average recall: 0.70\n",
            "Average F1 score: 0.41\n",
            "\n",
            "Average training accuracy: 81.83%\n",
            "Average testing accuracy: 78.20%\n",
            "Average precision: 0.28\n",
            "Average recall: 0.72\n",
            "Average F1 score: 0.40\n",
            "\n"
          ]
        }
      ],
      "source": [
        "from sklearn.model_selection import KFold\n",
        "from sklearn.linear_model import LogisticRegression\n",
        "from sklearn.metrics import precision_score, recall_score, f1_score\n",
        "\n",
        "# Find the class weights based on the inverse of their frequencies\n",
        "class_weights = y.value_counts().to_dict()\n",
        "weights = [5, 6, 7, 8, 9]\n",
        "\n",
        "for i in range(5):\n",
        "  # Initialize the KFold cross-validator with 10 folds\n",
        "  kf = KFold(n_splits=2, shuffle=True)\n",
        "\n",
        "  total_training_accuracy = 0\n",
        "  total_testing_accuracy = 0\n",
        "  total_precision = 0\n",
        "  total_recall = 0\n",
        "  total_f1 = 0\n",
        "  fold = 1\n",
        "\n",
        "  class_weights[1.0] = weights[i]\n",
        "  class_weights[0.0] = 1\n",
        "\n",
        "  clf = svm.SVC(class_weight=class_weights)\n",
        "\n",
        "  for train_index, test_index in kf.split(X_standardized):\n",
        "      X_train, X_test = X_standardized[train_index], X_standardized[test_index]\n",
        "      y_train, y_test = y.iloc[train_index], y.iloc[test_index]\n",
        "\n",
        "      # Train the model on the training data\n",
        "      clf.fit(X_train, y_train)\n",
        "\n",
        "      # Compute the training accuracy\n",
        "      training_accuracy = clf.score(X_train, y_train)\n",
        "\n",
        "      # Make predictions using the test data\n",
        "      y_test_pred = clf.predict(X_test)\n",
        "\n",
        "      # Compute the testing accuracy, precision, recall, and F1 score\n",
        "      testing_accuracy = clf.score(X_test, y_test)\n",
        "      precision = precision_score(y_test, y_test_pred)\n",
        "      recall = recall_score(y_test, y_test_pred)\n",
        "      f1 = f1_score(y_test, y_test_pred)\n",
        "\n",
        "      # print(f\"Fold {fold}:\")\n",
        "      # print(f\"  Training accuracy: {training_accuracy * 100:.2f}%\")\n",
        "      # print(f\"  Testing accuracy: {testing_accuracy * 100:.2f}%\")\n",
        "      # print(f\"  Precision: {precision:.2f}\")\n",
        "      # print(f\"  Recall: {recall:.2f}\")\n",
        "      # print(f\"  F1 score: {f1:.2f}\")\n",
        "      # print()\n",
        "\n",
        "      total_training_accuracy += training_accuracy\n",
        "      total_testing_accuracy += testing_accuracy\n",
        "      total_precision += precision\n",
        "      total_recall += recall\n",
        "      total_f1 += f1\n",
        "      fold += 1\n",
        "\n",
        "  # Calculate the average training accuracy, testing accuracy, precision, recall, and F1 score\n",
        "  average_training_accuracy = total_training_accuracy / (fold - 1)\n",
        "  average_testing_accuracy = total_testing_accuracy / (fold - 1)\n",
        "  average_precision = total_precision / (fold - 1)\n",
        "  average_recall = total_recall / (fold - 1)\n",
        "  average_f1 = total_f1 / (fold - 1)\n",
        "\n",
        "  print(f\"Average training accuracy: {average_training_accuracy * 100:.2f}%\")\n",
        "  print(f\"Average testing accuracy: {average_testing_accuracy * 100:.2f}%\")\n",
        "  print(f\"Average precision: {average_precision:.2f}\")\n",
        "  print(f\"Average recall: {average_recall:.2f}\")\n",
        "  print(f\"Average F1 score: {average_f1:.2f}\")\n",
        "  print()\n"
      ]
    },
    {
      "cell_type": "markdown",
      "metadata": {
        "id": "08aQBOSyEwxx"
      },
      "source": [
        "###Gradient Boosting"
      ]
    },
    {
      "cell_type": "code",
      "execution_count": null,
      "metadata": {
        "colab": {
          "base_uri": "https://localhost:8080/"
        },
        "id": "guMgVxYBEwxx",
        "outputId": "ca50f0fb-ad5c-4168-d3bc-b7929b0be866"
      },
      "outputs": [
        {
          "name": "stdout",
          "output_type": "stream",
          "text": [
            "Accuracy: 0.8999180999180999\n"
          ]
        }
      ],
      "source": [
        "# # Create a Gradient Boosting classifier\n",
        "# clf = GradientBoostingClassifier()\n",
        "\n",
        "# # Train the classifier on the training data\n",
        "# clf.fit(X_train, y_train)\n",
        "\n",
        "# # Use the trained classifier to predict labels for the test data\n",
        "# y_pred = clf.predict(X_test)\n",
        "\n",
        "# # Compute the accuracy of the classifier\n",
        "# accuracy = accuracy_score(y_test, y_pred)\n",
        "# print(\"Accuracy:\", accuracy)"
      ]
    },
    {
      "cell_type": "markdown",
      "metadata": {
        "id": "2-mSLishEwxx"
      },
      "source": [
        "###Neural Networks"
      ]
    },
    {
      "cell_type": "markdown",
      "metadata": {
        "id": "ZREBK4BZEwxx"
      },
      "source": [
        "####Finding best weight on model (130,80,40)"
      ]
    },
    {
      "cell_type": "code",
      "execution_count": null,
      "metadata": {
        "id": "Nh24BaF0Znsw"
      },
      "outputs": [],
      "source": [
        "from tensorflow import keras\n",
        "from tensorflow.keras import layers\n",
        "from kerastuner.tuners import RandomSearch\n",
        "\n",
        "def build_model(hp):\n",
        "    model = keras.Sequential()\n",
        "    \n",
        "    # Use hp.Int to define the number of layers\n",
        "    for i in range(hp.Int('num_layers', 2, 20)):\n",
        "        model.add(layers.Dense(units=hp.Int('units_' + str(i),\n",
        "                                            min_value=32,\n",
        "                                            max_value=512,\n",
        "                                            step=32),\n",
        "                               activation='relu'))\n",
        "    \n",
        "    model.add(layers.Dense(1, activation='sigmoid'))\n",
        "    \n",
        "    model.compile(optimizer=keras.optimizers.Adam(hp.Choice('learning_rate', values=[1e-2, 1e-3, 1e-4])),\n",
        "                  loss='binary_crossentropy',\n",
        "                  metrics=['accuracy'])\n",
        "    \n",
        "    return model\n",
        "\n",
        "tuner = RandomSearch(\n",
        "    build_model,\n",
        "    objective='val_accuracy',  # use validation accuracy as the objective\n",
        "    max_trials=5,\n",
        "    executions_per_trial=3,\n",
        "    directory='my_dir',\n",
        "    project_name='helloworld')\n",
        "\n",
        "tuner.search_space_summary()\n",
        "\n",
        "tuner.search(X_train, y_train,\n",
        "             epochs=10,\n",
        "             validation_split=0.3)\n",
        "\n",
        "# Get the best hyperparameters\n",
        "best_hp = tuner.get_best_hyperparameters(num_trials=1)[0]\n",
        "\n",
        "# Build the model with the best hyperparameters and train it on the data\n",
        "model = tuner.hypermodel.build(best_hp)\n",
        "model.predict(X_train[:1])\n",
        "model.summary()\n"
      ]
    },
    {
      "cell_type": "code",
      "execution_count": null,
      "metadata": {
        "id": "4npl9rkYcnXU"
      },
      "outputs": [],
      "source": [
        "history = model.fit(X_train, y_train, epochs=8, validation_split=0.3)\n",
        "\n",
        "# Now you can create your plots\n",
        "history_dict = history.history\n",
        "\n",
        "# loss\n",
        "loss_values = history_dict['loss']\n",
        "val_loss_values = history_dict['val_loss']\n",
        "\n",
        "# range of X (no. of epochs)\n",
        "epochs = range(1, len(loss_values) + 1) \n",
        "\n",
        "# plot\n",
        "plt.plot(epochs, loss_values, 'bo', label='Training loss')\n",
        "plt.plot(epochs, val_loss_values, 'orange', label='Validation loss')\n",
        "plt.title('Training and validation loss')\n",
        "plt.xlabel('Epochs')\n",
        "plt.ylabel('Loss')\n",
        "plt.legend()\n",
        "plt.show()"
      ]
    },
    {
      "cell_type": "code",
      "execution_count": null,
      "metadata": {
        "id": "Xj5_b-taEwxx"
      },
      "outputs": [],
      "source": [
        "import keras.backend as K\n",
        "\n",
        "def custom_loss(y_true, y_pred, class_weights):\n",
        "    epsilon = K.epsilon()  # small value to avoid division by zero\n",
        "    y_pred = K.clip(y_pred, epsilon, 1. - epsilon)  # clip values to avoid log(0)\n",
        "\n",
        "    if class_weights is None:\n",
        "        bce = - y_true * K.log(y_pred) - (1 - y_true) * K.log(1 - y_pred)\n",
        "    else:\n",
        "        bce = - class_weights[0] * y_true * K.log(y_pred) - class_weights[1] * (1 - y_true) * K.log(1 - y_pred)\n",
        "\n",
        "    return K.mean(bce)"
      ]
    },
    {
      "cell_type": "code",
      "execution_count": null,
      "metadata": {
        "colab": {
          "base_uri": "https://localhost:8080/"
        },
        "id": "ymmRrXw0Ewxx",
        "outputId": "d1095447-6040-442b-c694-38c074e6ad3a"
      },
      "outputs": [
        {
          "name": "stdout",
          "output_type": "stream",
          "text": [
            "Model: \"sequential_17\"\n",
            "_________________________________________________________________\n",
            " Layer (type)                Output Shape              Param #   \n",
            "=================================================================\n",
            " dense_70 (Dense)            (None, 130)               2470      \n",
            "                                                                 \n",
            " dense_71 (Dense)            (None, 80)                10480     \n",
            "                                                                 \n",
            " dense_72 (Dense)            (None, 40)                3240      \n",
            "                                                                 \n",
            " dense_73 (Dense)            (None, 1)                 41        \n",
            "                                                                 \n",
            "=================================================================\n",
            "Total params: 16,231\n",
            "Trainable params: 16,231\n",
            "Non-trainable params: 0\n",
            "_________________________________________________________________\n",
            "Epoch 1/80\n",
            "2992/2992 [==============================] - 9s 3ms/step - loss: 0.7094 - accuracy: 0.7800 - val_loss: 0.6747 - val_accuracy: 0.8212\n",
            "Epoch 2/80\n",
            "2992/2992 [==============================] - 9s 3ms/step - loss: 0.6906 - accuracy: 0.7845 - val_loss: 0.6585 - val_accuracy: 0.7773\n",
            "Epoch 3/80\n",
            "2992/2992 [==============================] - 15s 5ms/step - loss: 0.6860 - accuracy: 0.7853 - val_loss: 0.6650 - val_accuracy: 0.7931\n",
            "Epoch 4/80\n",
            "2992/2992 [==============================] - 13s 4ms/step - loss: 0.6849 - accuracy: 0.7878 - val_loss: 0.6591 - val_accuracy: 0.8128\n",
            "Epoch 5/80\n",
            "2992/2992 [==============================] - 8s 3ms/step - loss: 0.6829 - accuracy: 0.7870 - val_loss: 0.6577 - val_accuracy: 0.8050\n",
            "Epoch 6/80\n",
            "2992/2992 [==============================] - 8s 3ms/step - loss: 0.6823 - accuracy: 0.7909 - val_loss: 0.6643 - val_accuracy: 0.8228\n",
            "Epoch 7/80\n",
            "2992/2992 [==============================] - 8s 3ms/step - loss: 0.6812 - accuracy: 0.7957 - val_loss: 0.6541 - val_accuracy: 0.8068\n",
            "Epoch 8/80\n",
            "2992/2992 [==============================] - 8s 3ms/step - loss: 0.6806 - accuracy: 0.7878 - val_loss: 0.6641 - val_accuracy: 0.8347\n",
            "Epoch 9/80\n",
            "2992/2992 [==============================] - 9s 3ms/step - loss: 0.6787 - accuracy: 0.7945 - val_loss: 0.6625 - val_accuracy: 0.8360\n",
            "Epoch 10/80\n",
            "2992/2992 [==============================] - 8s 3ms/step - loss: 0.6804 - accuracy: 0.7887 - val_loss: 0.6577 - val_accuracy: 0.7719\n",
            "Epoch 11/80\n",
            "2992/2992 [==============================] - 7s 2ms/step - loss: 0.6760 - accuracy: 0.7888 - val_loss: 0.6633 - val_accuracy: 0.8236\n",
            "Epoch 12/80\n",
            "2992/2992 [==============================] - 9s 3ms/step - loss: 0.6759 - accuracy: 0.7911 - val_loss: 0.6598 - val_accuracy: 0.7866\n",
            "Epoch 13/80\n",
            "2992/2992 [==============================] - 8s 3ms/step - loss: 0.6752 - accuracy: 0.7864 - val_loss: 0.6552 - val_accuracy: 0.8002\n",
            "Epoch 14/80\n",
            "2992/2992 [==============================] - 8s 3ms/step - loss: 0.6748 - accuracy: 0.7916 - val_loss: 0.6653 - val_accuracy: 0.7917\n",
            "Epoch 15/80\n",
            "2992/2992 [==============================] - 10s 3ms/step - loss: 0.6732 - accuracy: 0.7905 - val_loss: 0.6800 - val_accuracy: 0.7533\n",
            "Epoch 16/80\n",
            "2992/2992 [==============================] - 8s 3ms/step - loss: 0.6716 - accuracy: 0.7891 - val_loss: 0.6624 - val_accuracy: 0.7859\n",
            "Epoch 17/80\n",
            "2992/2992 [==============================] - 7s 2ms/step - loss: 0.6695 - accuracy: 0.7885 - val_loss: 0.6627 - val_accuracy: 0.8004\n",
            "Epoch 18/80\n",
            "2992/2992 [==============================] - 9s 3ms/step - loss: 0.6701 - accuracy: 0.7932 - val_loss: 0.6638 - val_accuracy: 0.8116\n",
            "Epoch 19/80\n",
            "2992/2992 [==============================] - 7s 2ms/step - loss: 0.6676 - accuracy: 0.7931 - val_loss: 0.6666 - val_accuracy: 0.7872\n"
          ]
        }
      ],
      "source": [
        "# build a model\n",
        "model = Sequential()\n",
        "model.add(Dense(130, input_shape=(X.shape[1],), activation='relu')) # Add an input shape! (features,)\n",
        "model.add(Dense(80, activation='relu'))\n",
        "model.add(Dense(40, activation='relu'))\n",
        "model.add(Dense(1, activation='sigmoid'))\n",
        "model.summary()\n",
        "\n",
        "class_weights = [5.0, 1.0]  # adjust the class weights as desired\n",
        "model.compile(optimizer='Adam',\n",
        "               loss=lambda y_true, y_pred: custom_loss(y_true, y_pred, class_weights),\n",
        "               metrics=['accuracy'])\n",
        "\n",
        "# early stopping callback\n",
        "# This callback will stop the training when there is no improvement in  \n",
        "# the validation loss for 10 consecutive epochs.  \n",
        "es = EarlyStopping(monitor='val_accuracy',\n",
        "                                   mode='max', # don't minimize the accuracy!\n",
        "                                   patience=10,\n",
        "                                   restore_best_weights=True)\n",
        "\n",
        "# now we just update our model fit call\n",
        "history = model.fit(X_train,\n",
        "                    y_train,\n",
        "                    callbacks=[es],\n",
        "                    epochs=80, # you can set this to a big number!\n",
        "                    batch_size=10,\n",
        "                    validation_split=0.3,\n",
        "                    shuffle=True,\n",
        "                    verbose=1)"
      ]
    },
    {
      "cell_type": "code",
      "execution_count": null,
      "metadata": {
        "colab": {
          "base_uri": "https://localhost:8080/",
          "height": 472
        },
        "id": "LV7-4-QdEwxx",
        "outputId": "def8042d-a878-40fc-8c28-fa6eb5f77fe4"
      },
      "outputs": [
        {
          "data": {
            "image/png": "[encoded data removed]",
            "text/plain": [
              "<Figure size 640x480 with 1 Axes>"
            ]
          },
          "metadata": {},
          "output_type": "display_data"
        }
      ],
      "source": [
        "history_dict = history.history\n",
        "# Learning curve(Loss)\n",
        "# let's see the training and validation loss by epoch\n",
        "\n",
        "# loss\n",
        "loss_values = history_dict['loss'] # you can change this\n",
        "val_loss_values = history_dict['val_loss'] # you can also change this\n",
        "\n",
        "# range of X (no. of epochs)\n",
        "epochs = range(1, len(loss_values) + 1) \n",
        "\n",
        "# plot\n",
        "plt.plot(epochs, loss_values, 'bo', label='Training loss')\n",
        "plt.plot(epochs, val_loss_values, 'orange', label='Validation loss')\n",
        "plt.title('Training and validation loss')\n",
        "plt.xlabel('Epochs')\n",
        "plt.ylabel('Loss')\n",
        "plt.legend()\n",
        "plt.show()"
      ]
    },
    {
      "cell_type": "code",
      "execution_count": null,
      "metadata": {
        "colab": {
          "base_uri": "https://localhost:8080/",
          "height": 490
        },
        "id": "8DC6T3vnEwxx",
        "outputId": "d6d09dde-510e-49c0-9c5d-0f2b31c03a17"
      },
      "outputs": [
        {
          "data": {
            "image/png": "[encoded data removed]",
            "text/plain": [
              "<Figure size 640x480 with 1 Axes>"
            ]
          },
          "metadata": {},
          "output_type": "display_data"
        },
        {
          "data": {
            "text/plain": [
              "0.835972249507904"
            ]
          },
          "execution_count": 99,
          "metadata": {},
          "output_type": "execute_result"
        }
      ],
      "source": [
        "# Learning curve(accuracy)\n",
        "# let's see the training and validation accuracy by epoch\n",
        "\n",
        "# accuracy\n",
        "acc = history.history['accuracy']\n",
        "val_acc = history.history['val_accuracy']\n",
        "\n",
        "# range of X (no. of epochs)\n",
        "epochs = range(1, len(acc) + 1)\n",
        "\n",
        "# plot\n",
        "# \"bo\" is for \"blue dot\"\n",
        "plt.plot(epochs, acc, 'bo', label='Training accuracy')\n",
        "# orange is for \"orange\"\n",
        "plt.plot(epochs, val_acc, 'orange', label='Validation accuracy')\n",
        "plt.title('Training and validation accuracy')\n",
        "plt.xlabel('Epochs')\n",
        "plt.ylabel('Accuracy')\n",
        "plt.legend()\n",
        "plt.show()\n",
        "\n",
        "# this is the max value - should correspond to\n",
        "# the HIGHEST train accuracy\n",
        "np.max(val_acc)"
      ]
    },
    {
      "cell_type": "code",
      "execution_count": null,
      "metadata": {
        "colab": {
          "base_uri": "https://localhost:8080/"
        },
        "id": "dIIYm34GEwxy",
        "outputId": "fae91c60-e193-4b88-c176-624bcdac3451"
      },
      "outputs": [
        {
          "name": "stdout",
          "output_type": "stream",
          "text": [
            "573/573 [==============================] - 1s 2ms/step\n",
            "[[14235  2270]\n",
            " [  800  1010]]\n",
            "              precision    recall  f1-score   support\n",
            "\n",
            "         0.0       0.95      0.86      0.90     16505\n",
            "         1.0       0.31      0.56      0.40      1810\n",
            "\n",
            "    accuracy                           0.83     18315\n",
            "   macro avg       0.63      0.71      0.65     18315\n",
            "weighted avg       0.88      0.83      0.85     18315\n",
            "\n"
          ]
        },
        {
          "data": {
            "text/plain": [
              "(14235, 2270, 800, 1010)"
            ]
          },
          "execution_count": 100,
          "metadata": {},
          "output_type": "execute_result"
        }
      ],
      "source": [
        "from sklearn.metrics import confusion_matrix\n",
        "from sklearn.metrics import classification_report\n",
        "\n",
        "preds = np.round(model.predict(X_test),0)\n",
        "\n",
        "# confusion matrix\n",
        "print(confusion_matrix(y_test, preds)) # order matters! (actual, predicted)\n",
        "\n",
        "print(classification_report(y_test, preds))\n",
        "\n",
        "tn, fp, fn, tp = confusion_matrix(y_test, preds).ravel()\n",
        "(tn, fp, fn, tp)"
      ]
    }
  ],
  "metadata": {
    "colab": {
      "collapsed_sections": [
        "9oPd9wk9ZrmG",
        "6ydzTw5MZwdO",
        "A8MO2aLEZ0ed",
        "IWNNF-L4Ewxw",
        "sQz5F2t1Ewxw",
        "6kjc_IH6Ewxw",
        "08aQBOSyEwxx"
      ],
      "toc_visible": true,
      "provenance": []
    },
    "kernelspec": {
      "display_name": "Python 3",
      "name": "python3"
    },
    "language_info": {
      "name": "python"
    }
  },
  "nbformat": 4,
  "nbformat_minor": 0
}