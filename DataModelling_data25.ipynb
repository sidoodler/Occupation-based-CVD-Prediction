{
  "cells": [
    {
      "cell_type": "code",
      "execution_count": null,
      "metadata": {
        "id": "2aXwowx73JPS"
      },
      "outputs": [],
      "source": [
        "import numpy as np\n",
        "import pandas as pd\n",
        "import seaborn as sns\n",
        "import matplotlib.pyplot as plt\n",
        "from sklearn.ensemble import RandomForestClassifier\n",
        "from sklearn.model_selection import train_test_split\n",
        "from sklearn.preprocessing import MinMaxScaler, StandardScaler\n",
        "from sklearn.metrics import accuracy_score\n",
        "from sklearn.metrics import confusion_matrix\n",
        "from sklearn.metrics import f1_score\n",
        "from sklearn.model_selection import KFold\n",
        "from sklearn.linear_model import LogisticRegression\n",
        "from sklearn.ensemble import GradientBoostingClassifier\n",
        "from sklearn import svm\n",
        "from keras.wrappers.scikit_learn import KerasClassifier\n",
        "from keras.utils import np_utils\n",
        "\n",
        "# for modeling\n",
        "from keras.models import Sequential\n",
        "from keras.layers import Dense, Dropout\n",
        "from keras.callbacks import EarlyStopping\n",
        "%matplotlib inline"
      ]
    },
    {
      "cell_type": "code",
      "execution_count": null,
      "metadata": {
        "colab": {
          "base_uri": "https://localhost:8080/"
        },
        "id": "Lrh35cU13LxA",
        "outputId": "d76dce09-aa45-4f59-fe2d-3fe6ef831081"
      },
      "outputs": [
        {
          "output_type": "execute_result",
          "data": {
            "text/plain": [
              "(61050, 81)"
            ]
          },
          "metadata": {},
          "execution_count": 28
        }
      ],
      "source": [
        "data=pd.read_csv(\"data80_detailed.csv\")\n",
        "data.shape"
      ]
    },
    {
      "cell_type": "code",
      "execution_count": null,
      "metadata": {
        "id": "hehkzpbSFelJ"
      },
      "outputs": [],
      "source": [
        "X = data.drop('CVD', axis=1)\n",
        "y = data['CVD']"
      ]
    },
    {
      "cell_type": "code",
      "source": [
        "min_max_scaler = MinMaxScaler()\n",
        "X_normalized = min_max_scaler.fit_transform(X)\n",
        "standard_scaler = StandardScaler()\n",
        "X_standardized = standard_scaler.fit_transform(X_normalized)"
      ],
      "metadata": {
        "id": "Jqqp4qi6Yyqe"
      },
      "execution_count": null,
      "outputs": []
    },
    {
      "cell_type": "code",
      "execution_count": null,
      "metadata": {
        "id": "Czw9YBK1JThd"
      },
      "outputs": [],
      "source": [
        "X_train, X_test, y_train, y_test = train_test_split(X, y, test_size=0.3, random_state=42)"
      ]
    },
    {
      "cell_type": "markdown",
      "metadata": {
        "id": "inO3uUYz32dH"
      },
      "source": [
        "#Model fitting\n",
        "##Models fitted: Random Forest, LR with weights adjusted, SVM, GB"
      ]
    },
    {
      "cell_type": "markdown",
      "metadata": {
        "id": "99Jh1BbWZbVY"
      },
      "source": [
        "##Using PCE + Occupation Features"
      ]
    },
    {
      "cell_type": "markdown",
      "metadata": {
        "id": "b_emSr2IZnEK"
      },
      "source": [
        "###Random Forest"
      ]
    },
    {
      "cell_type": "code",
      "source": [
        "class_weights = y.value_counts().to_dict()\n",
        "weights = [5,7,9,11,13]\n",
        "for i in range(5):\n",
        "  class_weights[1.0] = weights[i]\n",
        "  class_weights[0.0] = 1\n",
        "  print(class_weights)\n",
        "  rf = RandomForestClassifier(n_estimators=10, random_state=42,class_weight=class_weights)\n",
        "  rf.fit(X_train, y_train)\n",
        "  y_pred = rf.predict(X_test)\n",
        "  accuracy = accuracy_score(y_test, y_pred)\n",
        "  cm=confusion_matrix(y_test, y_pred)\n",
        "  print(f'Accuracy: {accuracy}')\n",
        "  tn, fp, fn, tp = confusion_matrix(y_test, y_pred).ravel()\n",
        "  f1 = f1_score(y_test, y_pred)\n",
        "  print(tn, fp, fn, tp, f1)"
      ],
      "metadata": {
        "colab": {
          "base_uri": "https://localhost:8080/"
        },
        "id": "TTolXbvcjsMd",
        "outputId": "b6b9abcc-7a14-46b9-9140-c7db1f14452c"
      },
      "execution_count": null,
      "outputs": [
        {
          "output_type": "stream",
          "name": "stdout",
          "text": [
            "{0.0: 1, 1.0: 5}\n",
            "Accuracy: 0.9025389025389026\n",
            "27137 270 2705 413 0.21731123388581952\n",
            "{0.0: 1, 1.0: 7}\n",
            "Accuracy: 0.9024733824733825\n",
            "27165 242 2735 383 0.20464867753139193\n",
            "{0.0: 1, 1.0: 9}\n",
            "Accuracy: 0.9008353808353808\n",
            "27134 273 2754 364 0.19387483355525967\n",
            "{0.0: 1, 1.0: 11}\n",
            "Accuracy: 0.9013595413595413\n",
            "27125 282 2729 389 0.20533122195830034\n",
            "{0.0: 1, 1.0: 13}\n",
            "Accuracy: 0.9024406224406224\n",
            "27191 216 2762 356 0.19295392953929538\n"
          ]
        }
      ]
    },
    {
      "cell_type": "code",
      "source": [
        "from sklearn.model_selection import KFold\n",
        "from sklearn.linear_model import LogisticRegression\n",
        "from sklearn.metrics import precision_score, recall_score, f1_score\n",
        "\n",
        "# Find the class weights based on the inverse of their frequencies\n",
        "class_weights = y.value_counts().to_dict()\n",
        "weights = [5,7,9,11,13000]\n",
        "\n",
        "for i in range(5):\n",
        "  # Initialize the KFold cross-validator with 10 folds\n",
        "  kf = KFold(n_splits=2, shuffle=True)\n",
        "\n",
        "  total_training_accuracy = 0\n",
        "  total_testing_accuracy = 0\n",
        "  total_precision = 0\n",
        "  total_recall = 0\n",
        "  total_f1 = 0\n",
        "  fold = 1\n",
        "\n",
        "  class_weights[1.0] = weights[i]\n",
        "  class_weights[0.0] = 1\n",
        "  clf = RandomForestClassifier(n_estimators=5, random_state=42, class_weight=class_weights)\n",
        "  #clf = svm.SVC(class_weight=class_weights)\n",
        "\n",
        "  for train_index, test_index in kf.split(X_standardized):\n",
        "      X_train, X_test = X_standardized[train_index], X_standardized[test_index]\n",
        "      y_train, y_test = y.iloc[train_index], y.iloc[test_index]\n",
        "\n",
        "      # Train the model on the training data\n",
        "      clf.fit(X_train, y_train)\n",
        "\n",
        "      # Compute the training accuracy\n",
        "      training_accuracy = clf.score(X_train, y_train)\n",
        "\n",
        "      # Make predictions using the test data\n",
        "      y_test_pred = clf.predict(X_test)\n",
        "\n",
        "      # Compute the testing accuracy, precision, recall, and F1 score\n",
        "      testing_accuracy = clf.score(X_test, y_test)\n",
        "      precision = precision_score(y_test, y_test_pred)\n",
        "      recall = recall_score(y_test, y_test_pred)\n",
        "      f1 = f1_score(y_test, y_test_pred)\n",
        "\n",
        "      # print(f\"Fold {fold}:\")\n",
        "      # print(f\"  Training accuracy: {training_accuracy * 100:.2f}%\")\n",
        "      # print(f\"  Testing accuracy: {testing_accuracy * 100:.2f}%\")\n",
        "      # print(f\"  Precision: {precision:.2f}\")\n",
        "      # print(f\"  Recall: {recall:.2f}\")\n",
        "      # print(f\"  F1 score: {f1:.2f}\")\n",
        "      # print()\n",
        "\n",
        "      total_training_accuracy += training_accuracy\n",
        "      total_testing_accuracy += testing_accuracy\n",
        "      total_precision += precision\n",
        "      total_recall += recall\n",
        "      total_f1 += f1\n",
        "      fold += 1\n",
        "\n",
        "  # Calculate the average training accuracy, testing accuracy, precision, recall, and F1 score\n",
        "  average_training_accuracy = total_training_accuracy / (fold - 1)\n",
        "  average_testing_accuracy = total_testing_accuracy / (fold - 1)\n",
        "  average_precision = total_precision / (fold - 1)\n",
        "  average_recall = total_recall / (fold - 1)\n",
        "  average_f1 = total_f1 / (fold - 1)\n",
        "\n",
        "  print(f\"Average training accuracy: {average_training_accuracy * 100:.2f}%\")\n",
        "  print(f\"Average testing accuracy: {average_testing_accuracy * 100:.2f}%\")\n",
        "  print(f\"Average precision: {average_precision:.2f}\")\n",
        "  print(f\"Average recall: {average_recall:.2f}\")\n",
        "  print(f\"Average F1 score: {average_f1:.2f}\")\n",
        "  print()\n"
      ],
      "metadata": {
        "colab": {
          "base_uri": "https://localhost:8080/"
        },
        "id": "IjFihDHUftyS",
        "outputId": "d311cd1c-3bc8-496d-d53a-190115fbc9c0"
      },
      "execution_count": null,
      "outputs": [
        {
          "output_type": "stream",
          "name": "stdout",
          "text": [
            "Average training accuracy: 98.40%\n",
            "Average testing accuracy: 89.39%\n",
            "Average precision: 0.45\n",
            "Average recall: 0.19\n",
            "Average F1 score: 0.27\n",
            "\n",
            "Average training accuracy: 98.46%\n",
            "Average testing accuracy: 89.47%\n",
            "Average precision: 0.46\n",
            "Average recall: 0.20\n",
            "Average F1 score: 0.28\n",
            "\n",
            "Average training accuracy: 98.40%\n",
            "Average testing accuracy: 89.57%\n",
            "Average precision: 0.47\n",
            "Average recall: 0.19\n",
            "Average F1 score: 0.27\n",
            "\n",
            "Average training accuracy: 98.42%\n",
            "Average testing accuracy: 89.58%\n",
            "Average precision: 0.47\n",
            "Average recall: 0.19\n",
            "Average F1 score: 0.27\n",
            "\n",
            "Average training accuracy: 98.45%\n",
            "Average testing accuracy: 89.63%\n",
            "Average precision: 0.47\n",
            "Average recall: 0.18\n",
            "Average F1 score: 0.26\n",
            "\n"
          ]
        }
      ]
    },
    {
      "cell_type": "markdown",
      "metadata": {
        "id": "9oPd9wk9ZrmG"
      },
      "source": [
        "###Logistic Regression"
      ]
    },
    {
      "cell_type": "code",
      "execution_count": null,
      "metadata": {
        "colab": {
          "base_uri": "https://localhost:8080/"
        },
        "id": "Q74WYUViGZ6j",
        "outputId": "deae9e5d-59df-4e4e-cf66-ba8b308e20b3"
      },
      "outputs": [
        {
          "output_type": "stream",
          "name": "stdout",
          "text": [
            "Average training accuracy: 89.91%\n",
            "Average testing accuracy: 89.87%\n",
            "Average precision: 0.52\n",
            "Average recall: 0.08\n",
            "Average F1 score: 0.13\n",
            "\n",
            "Average training accuracy: 89.41%\n",
            "Average testing accuracy: 89.37%\n",
            "Average precision: 0.45\n",
            "Average recall: 0.20\n",
            "Average F1 score: 0.28\n",
            "\n",
            "Average training accuracy: 88.33%\n",
            "Average testing accuracy: 88.33%\n",
            "Average precision: 0.41\n",
            "Average recall: 0.32\n",
            "Average F1 score: 0.36\n",
            "\n",
            "Average training accuracy: 85.67%\n",
            "Average testing accuracy: 85.66%\n",
            "Average precision: 0.35\n",
            "Average recall: 0.48\n",
            "Average F1 score: 0.41\n",
            "\n",
            "Average training accuracy: 83.27%\n",
            "Average testing accuracy: 83.25%\n",
            "Average precision: 0.32\n",
            "Average recall: 0.60\n",
            "Average F1 score: 0.42\n",
            "\n",
            "Average training accuracy: 80.97%\n",
            "Average testing accuracy: 80.96%\n",
            "Average precision: 0.30\n",
            "Average recall: 0.67\n",
            "Average F1 score: 0.42\n",
            "\n",
            "Average training accuracy: 78.89%\n",
            "Average testing accuracy: 78.86%\n",
            "Average precision: 0.29\n",
            "Average recall: 0.72\n",
            "Average F1 score: 0.41\n",
            "\n",
            "Average training accuracy: 77.07%\n",
            "Average testing accuracy: 77.04%\n",
            "Average precision: 0.27\n",
            "Average recall: 0.76\n",
            "Average F1 score: 0.40\n",
            "\n",
            "Average training accuracy: 75.29%\n",
            "Average testing accuracy: 75.22%\n",
            "Average precision: 0.26\n",
            "Average recall: 0.79\n",
            "Average F1 score: 0.39\n",
            "\n",
            "Average training accuracy: 73.69%\n",
            "Average testing accuracy: 73.67%\n",
            "Average precision: 0.25\n",
            "Average recall: 0.81\n",
            "Average F1 score: 0.39\n",
            "\n"
          ]
        }
      ],
      "source": [
        "from sklearn.model_selection import KFold\n",
        "from sklearn.linear_model import LogisticRegression\n",
        "from sklearn.metrics import precision_score, recall_score, f1_score\n",
        "\n",
        "# Find the class weights based on the inverse of their frequencies\n",
        "class_weights = y.value_counts().to_dict()\n",
        "weights = [1, 1.5, 2, 3, 4, 5, 6, 7, 8, 9]\n",
        "\n",
        "for i in range(10):\n",
        "  # Initialize the KFold cross-validator with 10 folds\n",
        "  kf = KFold(n_splits=10)\n",
        "\n",
        "  total_training_accuracy = 0\n",
        "  total_testing_accuracy = 0\n",
        "  total_precision = 0\n",
        "  total_recall = 0\n",
        "  total_f1 = 0\n",
        "  fold = 1\n",
        "\n",
        "  class_weights[1.0] = weights[i]\n",
        "  class_weights[0.0] = 1\n",
        "  # for key in class_weights:\n",
        "  #     class_weights[key] = 1 / class_weights[key]\n",
        "  #     print(f\"weight: class {key}: {class_weights[key]}\")\n",
        "\n",
        "  # Initialize the Logistic Regression model with class weights and max_iter=1000\n",
        "  lr = LogisticRegression(max_iter=1000, class_weight=class_weights)\n",
        "\n",
        "  for train_index, test_index in kf.split(X_standardized):\n",
        "      X_train, X_test = X_standardized[train_index], X_standardized[test_index]\n",
        "      y_train, y_test = y.iloc[train_index], y.iloc[test_index]\n",
        "\n",
        "      # Train the model on the training data\n",
        "      lr.fit(X_train, y_train)\n",
        "\n",
        "      # Compute the training accuracy\n",
        "      training_accuracy = lr.score(X_train, y_train)\n",
        "\n",
        "      # Make predictions using the test data\n",
        "      y_test_pred = lr.predict(X_test)\n",
        "\n",
        "      # Compute the testing accuracy, precision, recall, and F1 score\n",
        "      testing_accuracy = lr.score(X_test, y_test)\n",
        "      precision = precision_score(y_test, y_test_pred)\n",
        "      recall = recall_score(y_test, y_test_pred)\n",
        "      f1 = f1_score(y_test, y_test_pred)\n",
        "\n",
        "      # print(f\"Fold {fold}:\")\n",
        "      # print(f\"  Training accuracy: {training_accuracy * 100:.2f}%\")\n",
        "      # print(f\"  Testing accuracy: {testing_accuracy * 100:.2f}%\")\n",
        "      # print(f\"  Precision: {precision:.2f}\")\n",
        "      # print(f\"  Recall: {recall:.2f}\")\n",
        "      # print(f\"  F1 score: {f1:.2f}\")\n",
        "      # print()\n",
        "\n",
        "      total_training_accuracy += training_accuracy\n",
        "      total_testing_accuracy += testing_accuracy\n",
        "      total_precision += precision\n",
        "      total_recall += recall\n",
        "      total_f1 += f1\n",
        "      fold += 1\n",
        "\n",
        "  # Calculate the average training accuracy, testing accuracy, precision, recall, and F1 score\n",
        "  average_training_accuracy = total_training_accuracy / (fold - 1)\n",
        "  average_testing_accuracy = total_testing_accuracy / (fold - 1)\n",
        "  average_precision = total_precision / (fold - 1)\n",
        "  average_recall = total_recall / (fold - 1)\n",
        "  average_f1 = total_f1 / (fold - 1)\n",
        "\n",
        "  print(f\"Average training accuracy: {average_training_accuracy * 100:.2f}%\")\n",
        "  print(f\"Average testing accuracy: {average_testing_accuracy * 100:.2f}%\")\n",
        "  print(f\"Average precision: {average_precision:.2f}\")\n",
        "  print(f\"Average recall: {average_recall:.2f}\")\n",
        "  print(f\"Average F1 score: {average_f1:.2f}\")\n",
        "  print()\n"
      ]
    },
    {
      "cell_type": "markdown",
      "metadata": {
        "id": "6ydzTw5MZwdO"
      },
      "source": [
        "###SVM"
      ]
    },
    {
      "cell_type": "code",
      "execution_count": null,
      "metadata": {
        "id": "_7LFmkEK-l3n"
      },
      "outputs": [],
      "source": [
        "from sklearn.model_selection import KFold\n",
        "from sklearn.linear_model import LogisticRegression\n",
        "from sklearn.metrics import precision_score, recall_score, f1_score\n",
        "\n",
        "# Find the class weights based on the inverse of their frequencies\n",
        "class_weights = y.value_counts().to_dict()\n",
        "weights = [5, 6, 7, 8, 9]\n",
        "\n",
        "for i in range(5):\n",
        "  # Initialize the KFold cross-validator with 10 folds\n",
        "  kf = KFold(n_splits=2, shuffle=True)\n",
        "\n",
        "  total_training_accuracy = 0\n",
        "  total_testing_accuracy = 0\n",
        "  total_precision = 0\n",
        "  total_recall = 0\n",
        "  total_f1 = 0\n",
        "  fold = 1\n",
        "\n",
        "  class_weights[1.0] = weights[i]\n",
        "  class_weights[0.0] = 1\n",
        "\n",
        "  clf = svm.SVC(class_weight=class_weights)\n",
        "\n",
        "  for train_index, test_index in kf.split(X_standardized):\n",
        "      X_train, X_test = X_standardized[train_index], X_standardized[test_index]\n",
        "      y_train, y_test = y.iloc[train_index], y.iloc[test_index]\n",
        "\n",
        "      # Train the model on the training data\n",
        "      clf.fit(X_train, y_train)\n",
        "\n",
        "      # Compute the training accuracy\n",
        "      training_accuracy = clf.score(X_train, y_train)\n",
        "\n",
        "      # Make predictions using the test data\n",
        "      y_test_pred = clf.predict(X_test)\n",
        "\n",
        "      # Compute the testing accuracy, precision, recall, and F1 score\n",
        "      testing_accuracy = clf.score(X_test, y_test)\n",
        "      precision = precision_score(y_test, y_test_pred)\n",
        "      recall = recall_score(y_test, y_test_pred)\n",
        "      f1 = f1_score(y_test, y_test_pred)\n",
        "\n",
        "      # print(f\"Fold {fold}:\")\n",
        "      # print(f\"  Training accuracy: {training_accuracy * 100:.2f}%\")\n",
        "      # print(f\"  Testing accuracy: {testing_accuracy * 100:.2f}%\")\n",
        "      # print(f\"  Precision: {precision:.2f}\")\n",
        "      # print(f\"  Recall: {recall:.2f}\")\n",
        "      # print(f\"  F1 score: {f1:.2f}\")\n",
        "      # print()\n",
        "\n",
        "      total_training_accuracy += training_accuracy\n",
        "      total_testing_accuracy += testing_accuracy\n",
        "      total_precision += precision\n",
        "      total_recall += recall\n",
        "      total_f1 += f1\n",
        "      fold += 1\n",
        "\n",
        "  # Calculate the average training accuracy, testing accuracy, precision, recall, and F1 score\n",
        "  average_training_accuracy = total_training_accuracy / (fold - 1)\n",
        "  average_testing_accuracy = total_testing_accuracy / (fold - 1)\n",
        "  average_precision = total_precision / (fold - 1)\n",
        "  average_recall = total_recall / (fold - 1)\n",
        "  average_f1 = total_f1 / (fold - 1)\n",
        "\n",
        "  print(f\"Average training accuracy: {average_training_accuracy * 100:.2f}%\")\n",
        "  print(f\"Average testing accuracy: {average_testing_accuracy * 100:.2f}%\")\n",
        "  print(f\"Average precision: {average_precision:.2f}\")\n",
        "  print(f\"Average recall: {average_recall:.2f}\")\n",
        "  print(f\"Average F1 score: {average_f1:.2f}\")\n",
        "  print()\n"
      ]
    },
    {
      "cell_type": "markdown",
      "metadata": {
        "id": "UNFiFzJmZ5OZ"
      },
      "source": [
        "###Neural Networks"
      ]
    },
    {
      "cell_type": "markdown",
      "metadata": {
        "id": "Z42MQVvUP-LK"
      },
      "source": [
        "####Finding best model architecture"
      ]
    },
    {
      "cell_type": "code",
      "execution_count": null,
      "metadata": {
        "colab": {
          "base_uri": "https://localhost:8080/"
        },
        "id": "v1rFqgJQPKFq",
        "outputId": "ec7e9da3-9995-4eab-afbe-62d8a0a31059"
      },
      "outputs": [
        {
          "output_type": "stream",
          "name": "stdout",
          "text": [
            "Model: \"sequential_2\"\n",
            "_________________________________________________________________\n",
            " Layer (type)                Output Shape              Param #   \n",
            "=================================================================\n",
            " dense_6 (Dense)             (None, 20)                1980      \n",
            "                                                                 \n",
            " dense_7 (Dense)             (None, 10)                210       \n",
            "                                                                 \n",
            " dense_8 (Dense)             (None, 1)                 11        \n",
            "                                                                 \n",
            "=================================================================\n",
            "Total params: 2,201\n",
            "Trainable params: 2,201\n",
            "Non-trainable params: 0\n",
            "_________________________________________________________________\n",
            "Epoch 1/30\n",
            "1128/1128 [==============================] - 4s 3ms/step - loss: 0.4823 - accuracy: 0.7751 - val_loss: 0.4190 - val_accuracy: 0.8055\n",
            "Epoch 2/30\n",
            "1128/1128 [==============================] - 4s 4ms/step - loss: 0.3930 - accuracy: 0.8170 - val_loss: 0.4012 - val_accuracy: 0.8104\n",
            "Epoch 3/30\n",
            "1128/1128 [==============================] - 4s 3ms/step - loss: 0.3669 - accuracy: 0.8328 - val_loss: 0.3896 - val_accuracy: 0.8160\n",
            "Epoch 4/30\n",
            "1128/1128 [==============================] - 6s 5ms/step - loss: 0.3514 - accuracy: 0.8387 - val_loss: 0.3851 - val_accuracy: 0.8179\n",
            "Epoch 5/30\n",
            "1128/1128 [==============================] - 5s 4ms/step - loss: 0.3374 - accuracy: 0.8460 - val_loss: 0.3771 - val_accuracy: 0.8247\n",
            "Epoch 6/30\n",
            "1128/1128 [==============================] - 3s 2ms/step - loss: 0.3254 - accuracy: 0.8526 - val_loss: 0.3836 - val_accuracy: 0.8249\n",
            "Epoch 7/30\n",
            "1128/1128 [==============================] - 3s 2ms/step - loss: 0.3165 - accuracy: 0.8580 - val_loss: 0.3668 - val_accuracy: 0.8317\n",
            "Epoch 8/30\n",
            "1128/1128 [==============================] - 3s 2ms/step - loss: 0.3076 - accuracy: 0.8617 - val_loss: 0.3708 - val_accuracy: 0.8266\n",
            "Epoch 9/30\n",
            "1128/1128 [==============================] - 4s 3ms/step - loss: 0.2991 - accuracy: 0.8666 - val_loss: 0.3679 - val_accuracy: 0.8278\n",
            "Epoch 10/30\n",
            "1128/1128 [==============================] - 3s 2ms/step - loss: 0.2932 - accuracy: 0.8702 - val_loss: 0.3610 - val_accuracy: 0.8282\n",
            "Epoch 11/30\n",
            "1128/1128 [==============================] - 3s 2ms/step - loss: 0.2858 - accuracy: 0.8728 - val_loss: 0.3639 - val_accuracy: 0.8282\n",
            "Epoch 12/30\n",
            "1128/1128 [==============================] - 3s 2ms/step - loss: 0.2808 - accuracy: 0.8746 - val_loss: 0.3619 - val_accuracy: 0.8338\n",
            "Epoch 13/30\n",
            "1128/1128 [==============================] - 3s 3ms/step - loss: 0.2751 - accuracy: 0.8761 - val_loss: 0.3737 - val_accuracy: 0.8307\n",
            "Epoch 14/30\n",
            "1128/1128 [==============================] - 3s 3ms/step - loss: 0.2704 - accuracy: 0.8799 - val_loss: 0.3738 - val_accuracy: 0.8284\n",
            "Epoch 15/30\n",
            "1128/1128 [==============================] - 3s 2ms/step - loss: 0.2672 - accuracy: 0.8819 - val_loss: 0.3707 - val_accuracy: 0.8336\n",
            "Epoch 16/30\n",
            "1128/1128 [==============================] - 3s 2ms/step - loss: 0.2647 - accuracy: 0.8822 - val_loss: 0.3759 - val_accuracy: 0.8322\n",
            "Epoch 17/30\n",
            "1128/1128 [==============================] - 3s 2ms/step - loss: 0.2606 - accuracy: 0.8825 - val_loss: 0.3717 - val_accuracy: 0.8326\n"
          ]
        }
      ],
      "source": [
        "# build a model\n",
        "model = Sequential()\n",
        "model.add(Dense(20, input_shape=(X.shape[1],), activation='relu')) # Add an input shape! (features,)\n",
        "model.add(Dense(10, activation='relu'))\n",
        "model.add(Dense(1, activation='sigmoid'))\n",
        "model.summary()\n",
        "\n",
        "model.compile(optimizer='Adam',\n",
        "               loss='binary_crossentropy',\n",
        "               metrics=['accuracy'])\n",
        "\n",
        "# early stopping callback\n",
        "# This callback will stop the training when there is no improvement in  \n",
        "# the validation loss for 10 consecutive epochs.  \n",
        "es = EarlyStopping(monitor='val_accuracy',\n",
        "                                   mode='max', # don't minimize the accuracy!\n",
        "                                   patience=5,\n",
        "                                   restore_best_weights=True)\n",
        "\n",
        "# now we just update our model fit call\n",
        "history = model.fit(X_train,\n",
        "                    y_train,\n",
        "                    callbacks=[es],\n",
        "                    epochs=30, # you can set this to a big number!\n",
        "                    batch_size=10,\n",
        "                    validation_split=0.3,\n",
        "                    shuffle=True,\n",
        "                    verbose=1)"
      ]
    },
    {
      "cell_type": "code",
      "execution_count": null,
      "metadata": {
        "colab": {
          "base_uri": "https://localhost:8080/",
          "height": 472
        },
        "id": "GFlBFxCQPKFr",
        "outputId": "0ea9b88d-b942-40cc-9853-8de874a41441"
      },
      "outputs": [
        {
          "output_type": "display_data",
          "data": {
            "text/plain": [
              "<Figure size 640x480 with 1 Axes>"
            ],
            "image/png": "[encoded data removed]"
          },
          "metadata": {}
        }
      ],
      "source": [
        "history_dict = history.history\n",
        "# Learning curve(Loss)\n",
        "# let's see the training and validation loss by epoch\n",
        "\n",
        "# loss\n",
        "loss_values = history_dict['loss'] # you can change this\n",
        "val_loss_values = history_dict['val_loss'] # you can also change this\n",
        "\n",
        "# range of X (no. of epochs)\n",
        "epochs = range(1, len(loss_values) + 1) \n",
        "\n",
        "# plot\n",
        "plt.plot(epochs, loss_values, 'bo', label='Training loss')\n",
        "plt.plot(epochs, val_loss_values, 'orange', label='Validation loss')\n",
        "plt.title('Training and validation loss')\n",
        "plt.xlabel('Epochs')\n",
        "plt.ylabel('Loss')\n",
        "plt.legend()\n",
        "plt.show()"
      ]
    },
    {
      "cell_type": "code",
      "execution_count": null,
      "metadata": {
        "colab": {
          "base_uri": "https://localhost:8080/",
          "height": 490
        },
        "id": "djtMOUMIPKFr",
        "outputId": "8616dbb6-6d09-42e7-85b7-6ab254deb79d"
      },
      "outputs": [
        {
          "output_type": "display_data",
          "data": {
            "text/plain": [
              "<Figure size 640x480 with 1 Axes>"
            ],
            "image/png": "[encoded data removed]"
          },
          "metadata": {}
        },
        {
          "output_type": "execute_result",
          "data": {
            "text/plain": [
              "0.8338162302970886"
            ]
          },
          "metadata": {},
          "execution_count": 43
        }
      ],
      "source": [
        "# Learning curve(accuracy)\n",
        "# let's see the training and validation accuracy by epoch\n",
        "\n",
        "# accuracy\n",
        "acc = history.history['accuracy']\n",
        "val_acc = history.history['val_accuracy']\n",
        "\n",
        "# range of X (no. of epochs)\n",
        "epochs = range(1, len(acc) + 1)\n",
        "\n",
        "# plot\n",
        "# \"bo\" is for \"blue dot\"\n",
        "plt.plot(epochs, acc, 'bo', label='Training accuracy')\n",
        "# orange is for \"orange\"\n",
        "plt.plot(epochs, val_acc, 'orange', label='Validation accuracy')\n",
        "plt.title('Training and validation accuracy')\n",
        "plt.xlabel('Epochs')\n",
        "plt.ylabel('Accuracy')\n",
        "plt.legend()\n",
        "plt.show()\n",
        "\n",
        "# this is the max value - should correspond to\n",
        "# the HIGHEST train accuracy\n",
        "np.max(val_acc)"
      ]
    },
    {
      "cell_type": "code",
      "execution_count": null,
      "metadata": {
        "colab": {
          "base_uri": "https://localhost:8080/"
        },
        "id": "mZEoFuI1YF0s",
        "outputId": "c691e75b-04b3-46a2-ab57-da0ada662833"
      },
      "outputs": [
        {
          "output_type": "stream",
          "name": "stdout",
          "text": [
            "504/504 [==============================] - 1s 1ms/step\n",
            "[[6775 1189]\n",
            " [1430 6709]]\n",
            "              precision    recall  f1-score   support\n",
            "\n",
            "         0.0       0.83      0.85      0.84      7964\n",
            "         1.0       0.85      0.82      0.84      8139\n",
            "\n",
            "    accuracy                           0.84     16103\n",
            "   macro avg       0.84      0.84      0.84     16103\n",
            "weighted avg       0.84      0.84      0.84     16103\n",
            "\n"
          ]
        },
        {
          "output_type": "execute_result",
          "data": {
            "text/plain": [
              "(6775, 1189, 1430, 6709)"
            ]
          },
          "metadata": {},
          "execution_count": 44
        }
      ],
      "source": [
        "from sklearn.metrics import confusion_matrix\n",
        "from sklearn.metrics import classification_report\n",
        "\n",
        "preds = np.round(model.predict(X_test),0)\n",
        "\n",
        "# confusion matrix\n",
        "print(confusion_matrix(y_test, preds)) # order matters! (actual, predicted)\n",
        "\n",
        "print(classification_report(y_test, preds))\n",
        "\n",
        "tn, fp, fn, tp = confusion_matrix(y_test, preds).ravel()\n",
        "(tn, fp, fn, tp)"
      ]
    }
  ],
  "metadata": {
    "colab": {
      "provenance": []
    },
    "kernelspec": {
      "display_name": "Python 3",
      "name": "python3"
    },
    "language_info": {
      "name": "python"
    }
  },
  "nbformat": 4,
  "nbformat_minor": 0
}