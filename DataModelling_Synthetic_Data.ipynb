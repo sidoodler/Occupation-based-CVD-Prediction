{
  "cells": [
    {
      "cell_type": "code",
      "execution_count": null,
      "metadata": {
        "id": "2aXwowx73JPS"
      },
      "outputs": [],
      "source": [
        "import numpy as np\n",
        "import pandas as pd\n",
        "import seaborn as sns\n",
        "import matplotlib.pyplot as plt\n",
        "from sklearn.ensemble import RandomForestClassifier\n",
        "from sklearn.model_selection import train_test_split\n",
        "from sklearn.preprocessing import MinMaxScaler, StandardScaler\n",
        "from sklearn.metrics import accuracy_score\n",
        "from sklearn.metrics import confusion_matrix\n",
        "from sklearn.metrics import f1_score\n",
        "from sklearn.model_selection import KFold\n",
        "from sklearn.linear_model import LogisticRegression\n",
        "from sklearn.ensemble import GradientBoostingClassifier\n",
        "from sklearn import svm\n",
        "from keras.wrappers.scikit_learn import KerasClassifier\n",
        "from keras.utils import np_utils\n",
        "\n",
        "# for modeling\n",
        "from keras.models import Sequential\n",
        "from keras.layers import Dense, Dropout\n",
        "from keras.callbacks import EarlyStopping\n",
        "%matplotlib inline"
      ]
    },
    {
      "cell_type": "code",
      "execution_count": null,
      "metadata": {
        "colab": {
          "base_uri": "https://localhost:8080/"
        },
        "id": "Lrh35cU13LxA",
        "outputId": "ed6455f6-c2bf-424d-8cfc-821ad2173fdd"
      },
      "outputs": [
        {
          "output_type": "execute_result",
          "data": {
            "text/plain": [
              "(32207, 144)"
            ]
          },
          "metadata": {},
          "execution_count": 2
        }
      ],
      "source": [
        "data=pd.read_csv(\"finalpreprocessed_detailed.csv\")\n",
        "gan=pd.read_csv(\"synthetic_dataGAN.csv\").drop(['Unnamed: 0', 'id'], axis=1)\n",
        "gc=pd.read_csv(\"synthetic_dataGC.csv\").drop(['Unnamed: 0', 'id'], axis=1)\n",
        "data0=data[data['CVD']==0]\n",
        "data1=data[data['CVD']==1]\n",
        "data0=data0.sample(n=16000)\n",
        "data=pd.concat([data0,data1,gan], axis=0)\n",
        "data=data.sample(n=32207)\n",
        "data.shape"
      ]
    },
    {
      "cell_type": "code",
      "execution_count": null,
      "metadata": {
        "id": "It8dw6VJ3U_1"
      },
      "outputs": [],
      "source": [
        "selected_features = 'AGEP_A,SEX_A,RACEALLP_A_1,RACEALLP_A_2,RACEALLP_A_3,RACEALLP_A_4,RACEALLP_A_5,RACEALLP_A_6,HYPEV_A,CHLEV_A,DIBTYPE_A_1,DIBTYPE_A_2,DIBTYPE_A_3,SMKCIGST_A_1,SMKCIGST_A_2,SMKCIGST_A_3,SMKCIGST_A_4,HYPMED_A,CVD'\n",
        "selected_columns = selected_features.split(',')\n",
        "selected_columns_with_occ = selected_columns.copy()+[col for col in data.columns if col.startswith(\"EMDOCCUPN\") or col.startswith(\"EMDINDSTN\") or col.startswith(\"EMDWRKCAT\")]\n",
        "pce_features_data = data[selected_columns]\n",
        "pce_and_occ_features_data = data[selected_columns_with_occ]\n",
        "\n",
        "# pce_features_data0=pce_features_data[pce_features_data['CVD']==0.0]\n",
        "# pce_features_data1=pce_features_data[pce_features_data['CVD']==1.0]\n",
        "# pce_features_data0=pce_features_data0.sample(n=10000, random_state=1)\n",
        "# pce_features_data=pd.concat([pce_features_data0,pce_features_data1])\n",
        "# pce_features_data= pce_features_data.sample(frac = 1)\n",
        "\n",
        "# pce_and_occ_features_data0=pce_and_occ_features_data[pce_and_occ_features_data['CVD']==0.0]\n",
        "# pce_and_occ_features_data1=pce_and_occ_features_data[pce_and_occ_features_data['CVD']==1.0]\n",
        "# pce_and_occ_features_data0=pce_and_occ_features_data0.sample(n=10000, random_state=1)\n",
        "# pce_and_occ_features_data=pd.concat([pce_and_occ_features_data0,pce_and_occ_features_data1])\n",
        "# pce_and_occ_features_data= pce_and_occ_features_data.sample(frac = 1)"
      ]
    },
    {
      "cell_type": "code",
      "execution_count": null,
      "metadata": {
        "id": "hehkzpbSFelJ"
      },
      "outputs": [],
      "source": [
        "X = pce_and_occ_features_data.drop('CVD', axis=1)\n",
        "y = pce_and_occ_features_data['CVD']"
      ]
    },
    {
      "cell_type": "code",
      "source": [
        "min_max_scaler = MinMaxScaler()\n",
        "X_normalized = min_max_scaler.fit_transform(X)\n",
        "standard_scaler = StandardScaler()\n",
        "X_standardized = standard_scaler.fit_transform(X_normalized)"
      ],
      "metadata": {
        "id": "Jqqp4qi6Yyqe"
      },
      "execution_count": null,
      "outputs": []
    },
    {
      "cell_type": "code",
      "execution_count": null,
      "metadata": {
        "id": "Czw9YBK1JThd"
      },
      "outputs": [],
      "source": [
        "X_train, X_test, y_train, y_test = train_test_split(X, y, test_size=0.3, random_state=42)"
      ]
    },
    {
      "cell_type": "markdown",
      "metadata": {
        "id": "inO3uUYz32dH"
      },
      "source": [
        "#Model fitting\n",
        "##Models fitted: Random Forest, LR with weights adjusted, SVM"
      ]
    },
    {
      "cell_type": "markdown",
      "metadata": {
        "id": "99Jh1BbWZbVY"
      },
      "source": [
        "##Using PCE + Occupation Features"
      ]
    },
    {
      "cell_type": "markdown",
      "metadata": {
        "id": "b_emSr2IZnEK"
      },
      "source": [
        "###Random Forest"
      ]
    },
    {
      "cell_type": "code",
      "source": [
        "from sklearn.model_selection import KFold\n",
        "from sklearn.linear_model import LogisticRegression\n",
        "from sklearn.metrics import precision_score, recall_score, f1_score\n",
        "from sklearn.metrics import confusion_matrix\n",
        "from sklearn.metrics import classification_report\n",
        "\n",
        "# Initialize the KFold cross-validator with 10 folds\n",
        "kf = KFold(n_splits=2, shuffle=True)\n",
        "\n",
        "total_training_accuracy = 0\n",
        "total_testing_accuracy = 0\n",
        "total_precision = 0\n",
        "total_recall = 0\n",
        "total_f1 = 0\n",
        "fold = 1\n",
        "\n",
        "\n",
        "clf = RandomForestClassifier(n_estimators=5, random_state=42)\n",
        "\n",
        "for train_index, test_index in kf.split(X_standardized):\n",
        "    X_train, X_test = X_standardized[train_index], X_standardized[test_index]\n",
        "    y_train, y_test = y.iloc[train_index], y.iloc[test_index]\n",
        "\n",
        "    # Train the model on the training data\n",
        "    clf.fit(X_train, y_train)\n",
        "\n",
        "    # Compute the training accuracy\n",
        "    training_accuracy = clf.score(X_train, y_train)\n",
        "\n",
        "    # Make predictions using the test data\n",
        "    y_test_pred = clf.predict(X_test)\n",
        "\n",
        "    # Compute the testing accuracy, precision, recall, and F1 score\n",
        "    testing_accuracy = clf.score(X_test, y_test)\n",
        "    precision = precision_score(y_test, y_test_pred)\n",
        "    recall = recall_score(y_test, y_test_pred)\n",
        "    f1 = f1_score(y_test, y_test_pred)\n",
        "\n",
        "    total_training_accuracy += training_accuracy\n",
        "    total_testing_accuracy += testing_accuracy\n",
        "    total_precision += precision\n",
        "    total_recall += recall\n",
        "    total_f1 += f1\n",
        "    fold += 1\n",
        "\n",
        "# Calculate the average training accuracy, testing accuracy, precision, recall, and F1 score\n",
        "average_training_accuracy = total_training_accuracy / (fold - 1)\n",
        "average_testing_accuracy = total_testing_accuracy / (fold - 1)\n",
        "average_precision = total_precision / (fold - 1)\n",
        "average_recall = total_recall / (fold - 1)\n",
        "average_f1 = total_f1 / (fold - 1)\n",
        "\n",
        "#print(f\"Average training accuracy: {average_training_accuracy * 100:.2f}%\")\n",
        "print(f\"Average testing accuracy: {average_testing_accuracy * 100:.2f}%\")\n",
        "print(f\"Average precision: {average_precision:.2f}\")\n",
        "print(f\"Average recall: {average_recall:.2f}\")\n",
        "print(f\"Average F1 score: {average_f1:.2f}\")\n",
        "print()"
      ],
      "metadata": {
        "colab": {
          "base_uri": "https://localhost:8080/"
        },
        "id": "yGcQlsuHmsEa",
        "outputId": "698da7b0-488a-4545-91bc-7b156884b799"
      },
      "execution_count": null,
      "outputs": [
        {
          "output_type": "stream",
          "name": "stdout",
          "text": [
            "Average testing accuracy: 82.11%\n",
            "Average precision: 0.82\n",
            "Average recall: 0.83\n",
            "Average F1 score: 0.82\n",
            "\n"
          ]
        }
      ]
    },
    {
      "cell_type": "markdown",
      "metadata": {
        "id": "9oPd9wk9ZrmG"
      },
      "source": [
        "###Logistic Regression"
      ]
    },
    {
      "cell_type": "code",
      "execution_count": null,
      "metadata": {
        "colab": {
          "base_uri": "https://localhost:8080/"
        },
        "id": "Q74WYUViGZ6j",
        "outputId": "962494cd-40a3-40bf-8b02-d5a7478a03fe"
      },
      "outputs": [
        {
          "output_type": "stream",
          "name": "stdout",
          "text": [
            "Average testing accuracy: 80.72%\n",
            "Average precision: 0.79\n",
            "Average recall: 0.83\n",
            "Average F1 score: 0.81\n",
            "\n"
          ]
        }
      ],
      "source": [
        "from sklearn.model_selection import KFold\n",
        "from sklearn.linear_model import LogisticRegression\n",
        "from sklearn.metrics import precision_score, recall_score, f1_score\n",
        "\n",
        "# Initialize the KFold cross-validator with 10 folds\n",
        "kf = KFold(n_splits=10)\n",
        "\n",
        "total_training_accuracy = 0\n",
        "total_testing_accuracy = 0\n",
        "total_precision = 0\n",
        "total_recall = 0\n",
        "total_f1 = 0\n",
        "fold = 1\n",
        "\n",
        "lr = LogisticRegression(max_iter=1000)\n",
        "\n",
        "for train_index, test_index in kf.split(X_standardized):\n",
        "    X_train, X_test = X_standardized[train_index], X_standardized[test_index]\n",
        "    y_train, y_test = y.iloc[train_index], y.iloc[test_index]\n",
        "\n",
        "    # Train the model on the training data\n",
        "    lr.fit(X_train, y_train)\n",
        "\n",
        "    # Compute the training accuracy\n",
        "    training_accuracy = lr.score(X_train, y_train)\n",
        "\n",
        "    # Make predictions using the test data\n",
        "    y_test_pred = lr.predict(X_test)\n",
        "\n",
        "    # Compute the testing accuracy, precision, recall, and F1 score\n",
        "    testing_accuracy = lr.score(X_test, y_test)\n",
        "    precision = precision_score(y_test, y_test_pred)\n",
        "    recall = recall_score(y_test, y_test_pred)\n",
        "    f1 = f1_score(y_test, y_test_pred)\n",
        "\n",
        "    # print(f\"Fold {fold}:\")\n",
        "    # print(f\"  Training accuracy: {training_accuracy * 100:.2f}%\")\n",
        "    # print(f\"  Testing accuracy: {testing_accuracy * 100:.2f}%\")\n",
        "    # print(f\"  Precision: {precision:.2f}\")\n",
        "    # print(f\"  Recall: {recall:.2f}\")\n",
        "    # print(f\"  F1 score: {f1:.2f}\")\n",
        "    # print()\n",
        "\n",
        "    total_training_accuracy += training_accuracy\n",
        "    total_testing_accuracy += testing_accuracy\n",
        "    total_precision += precision\n",
        "    total_recall += recall\n",
        "    total_f1 += f1\n",
        "    fold += 1\n",
        "\n",
        "# Calculate the average training accuracy, testing accuracy, precision, recall, and F1 score\n",
        "average_training_accuracy = total_training_accuracy / (fold - 1)\n",
        "average_testing_accuracy = total_testing_accuracy / (fold - 1)\n",
        "average_precision = total_precision / (fold - 1)\n",
        "average_recall = total_recall / (fold - 1)\n",
        "average_f1 = total_f1 / (fold - 1)\n",
        "\n",
        "#print(f\"Average training accuracy: {average_training_accuracy * 100:.2f}%\")\n",
        "print(f\"Average testing accuracy: {average_testing_accuracy * 100:.2f}%\")\n",
        "print(f\"Average precision: {average_precision:.2f}\")\n",
        "print(f\"Average recall: {average_recall:.2f}\")\n",
        "print(f\"Average F1 score: {average_f1:.2f}\")\n",
        "print()\n"
      ]
    },
    {
      "cell_type": "markdown",
      "metadata": {
        "id": "6ydzTw5MZwdO"
      },
      "source": [
        "###SVM"
      ]
    },
    {
      "cell_type": "code",
      "execution_count": null,
      "metadata": {
        "colab": {
          "base_uri": "https://localhost:8080/"
        },
        "id": "_7LFmkEK-l3n",
        "outputId": "c3478ffe-2021-4ca5-951b-ef68942f795b"
      },
      "outputs": [
        {
          "output_type": "stream",
          "name": "stdout",
          "text": [
            "Average testing accuracy: 83.85%\n",
            "Average precision: 0.84\n",
            "Average recall: 0.83\n",
            "Average F1 score: 0.84\n",
            "\n"
          ]
        }
      ],
      "source": [
        "from sklearn.model_selection import KFold\n",
        "from sklearn.linear_model import LogisticRegression\n",
        "from sklearn.metrics import precision_score, recall_score, f1_score\n",
        "\n",
        "# Initialize the KFold cross-validator with 10 folds\n",
        "kf = KFold(n_splits=2, shuffle=True)\n",
        "\n",
        "total_training_accuracy = 0\n",
        "total_testing_accuracy = 0\n",
        "total_precision = 0\n",
        "total_recall = 0\n",
        "total_f1 = 0\n",
        "fold = 1\n",
        "\n",
        "\n",
        "clf = svm.SVC()\n",
        "\n",
        "for train_index, test_index in kf.split(X_standardized):\n",
        "    X_train, X_test = X_standardized[train_index], X_standardized[test_index]\n",
        "    y_train, y_test = y.iloc[train_index], y.iloc[test_index]\n",
        "\n",
        "    # Train the model on the training data\n",
        "    clf.fit(X_train, y_train)\n",
        "\n",
        "    # Compute the training accuracy\n",
        "    training_accuracy = clf.score(X_train, y_train)\n",
        "\n",
        "    # Make predictions using the test data\n",
        "    y_test_pred = clf.predict(X_test)\n",
        "\n",
        "    # Compute the testing accuracy, precision, recall, and F1 score\n",
        "    testing_accuracy = clf.score(X_test, y_test)\n",
        "    precision = precision_score(y_test, y_test_pred)\n",
        "    recall = recall_score(y_test, y_test_pred)\n",
        "    f1 = f1_score(y_test, y_test_pred)\n",
        "\n",
        "    # print(f\"Fold {fold}:\")\n",
        "    # print(f\"  Training accuracy: {training_accuracy * 100:.2f}%\")\n",
        "    # print(f\"  Testing accuracy: {testing_accuracy * 100:.2f}%\")\n",
        "    # print(f\"  Precision: {precision:.2f}\")\n",
        "    # print(f\"  Recall: {recall:.2f}\")\n",
        "    # print(f\"  F1 score: {f1:.2f}\")\n",
        "    # print()\n",
        "\n",
        "    total_training_accuracy += training_accuracy\n",
        "    total_testing_accuracy += testing_accuracy\n",
        "    total_precision += precision\n",
        "    total_recall += recall\n",
        "    total_f1 += f1\n",
        "    fold += 1\n",
        "\n",
        "# Calculate the average training accuracy, testing accuracy, precision, recall, and F1 score\n",
        "average_training_accuracy = total_training_accuracy / (fold - 1)\n",
        "average_testing_accuracy = total_testing_accuracy / (fold - 1)\n",
        "average_precision = total_precision / (fold - 1)\n",
        "average_recall = total_recall / (fold - 1)\n",
        "average_f1 = total_f1 / (fold - 1)\n",
        "\n",
        "#print(f\"Average training accuracy: {average_training_accuracy * 100:.2f}%\")\n",
        "print(f\"Average testing accuracy: {average_testing_accuracy * 100:.2f}%\")\n",
        "print(f\"Average precision: {average_precision:.2f}\")\n",
        "print(f\"Average recall: {average_recall:.2f}\")\n",
        "print(f\"Average F1 score: {average_f1:.2f}\")\n",
        "print()\n"
      ]
    },
    {
      "cell_type": "markdown",
      "metadata": {
        "id": "UNFiFzJmZ5OZ"
      },
      "source": [
        "###Neural Networks"
      ]
    },
    {
      "cell_type": "markdown",
      "metadata": {
        "id": "Z42MQVvUP-LK"
      },
      "source": [
        "####Finding best model architecture"
      ]
    },
    {
      "cell_type": "code",
      "execution_count": null,
      "metadata": {
        "colab": {
          "base_uri": "https://localhost:8080/"
        },
        "id": "v1rFqgJQPKFq",
        "outputId": "46524949-5300-4015-9c6c-2cf74b89a0ab"
      },
      "outputs": [
        {
          "output_type": "stream",
          "name": "stdout",
          "text": [
            "Model: \"sequential\"\n",
            "_________________________________________________________________\n",
            " Layer (type)                Output Shape              Param #   \n",
            "=================================================================\n",
            " dense (Dense)               (None, 20)                1980      \n",
            "                                                                 \n",
            " dense_1 (Dense)             (None, 10)                210       \n",
            "                                                                 \n",
            " dense_2 (Dense)             (None, 1)                 11        \n",
            "                                                                 \n",
            "=================================================================\n",
            "Total params: 2,201\n",
            "Trainable params: 2,201\n",
            "Non-trainable params: 0\n",
            "_________________________________________________________________\n",
            "Epoch 1/30\n",
            "1128/1128 [==============================] - 4s 3ms/step - loss: 0.4820 - accuracy: 0.7656 - val_loss: 0.4309 - val_accuracy: 0.7997\n",
            "Epoch 2/30\n",
            "1128/1128 [==============================] - 4s 3ms/step - loss: 0.3838 - accuracy: 0.8245 - val_loss: 0.4122 - val_accuracy: 0.8024\n",
            "Epoch 3/30\n",
            "1128/1128 [==============================] - 3s 3ms/step - loss: 0.3594 - accuracy: 0.8377 - val_loss: 0.4022 - val_accuracy: 0.8053\n",
            "Epoch 4/30\n",
            "1128/1128 [==============================] - 3s 2ms/step - loss: 0.3420 - accuracy: 0.8441 - val_loss: 0.3985 - val_accuracy: 0.8094\n",
            "Epoch 5/30\n",
            "1128/1128 [==============================] - 3s 2ms/step - loss: 0.3280 - accuracy: 0.8518 - val_loss: 0.3884 - val_accuracy: 0.8123\n",
            "Epoch 6/30\n",
            "1128/1128 [==============================] - 5s 4ms/step - loss: 0.3172 - accuracy: 0.8558 - val_loss: 0.3835 - val_accuracy: 0.8191\n",
            "Epoch 7/30\n",
            "1128/1128 [==============================] - 6s 5ms/step - loss: 0.3065 - accuracy: 0.8612 - val_loss: 0.3815 - val_accuracy: 0.8171\n",
            "Epoch 8/30\n",
            "1128/1128 [==============================] - 4s 4ms/step - loss: 0.2973 - accuracy: 0.8643 - val_loss: 0.3747 - val_accuracy: 0.8309\n",
            "Epoch 9/30\n",
            "1128/1128 [==============================] - 4s 3ms/step - loss: 0.2906 - accuracy: 0.8687 - val_loss: 0.3682 - val_accuracy: 0.8274\n",
            "Epoch 10/30\n",
            "1128/1128 [==============================] - 3s 2ms/step - loss: 0.2818 - accuracy: 0.8741 - val_loss: 0.3703 - val_accuracy: 0.8257\n",
            "Epoch 11/30\n",
            "1128/1128 [==============================] - 3s 2ms/step - loss: 0.2757 - accuracy: 0.8747 - val_loss: 0.3693 - val_accuracy: 0.8309\n",
            "Epoch 12/30\n",
            "1128/1128 [==============================] - 3s 2ms/step - loss: 0.2696 - accuracy: 0.8787 - val_loss: 0.3691 - val_accuracy: 0.8326\n",
            "Epoch 13/30\n",
            "1128/1128 [==============================] - 3s 3ms/step - loss: 0.2656 - accuracy: 0.8801 - val_loss: 0.3632 - val_accuracy: 0.8307\n",
            "Epoch 14/30\n",
            "1128/1128 [==============================] - 3s 3ms/step - loss: 0.2589 - accuracy: 0.8834 - val_loss: 0.3767 - val_accuracy: 0.8274\n",
            "Epoch 15/30\n",
            "1128/1128 [==============================] - 3s 2ms/step - loss: 0.2566 - accuracy: 0.8846 - val_loss: 0.3637 - val_accuracy: 0.8382\n",
            "Epoch 16/30\n",
            "1128/1128 [==============================] - 3s 2ms/step - loss: 0.2520 - accuracy: 0.8876 - val_loss: 0.3664 - val_accuracy: 0.8456\n",
            "Epoch 17/30\n",
            "1128/1128 [==============================] - 3s 3ms/step - loss: 0.2494 - accuracy: 0.8876 - val_loss: 0.3626 - val_accuracy: 0.8421\n",
            "Epoch 18/30\n",
            "1128/1128 [==============================] - 3s 3ms/step - loss: 0.2453 - accuracy: 0.8921 - val_loss: 0.3650 - val_accuracy: 0.8423\n",
            "Epoch 19/30\n",
            "1128/1128 [==============================] - 3s 2ms/step - loss: 0.2421 - accuracy: 0.8917 - val_loss: 0.3719 - val_accuracy: 0.8396\n",
            "Epoch 20/30\n",
            "1128/1128 [==============================] - 3s 2ms/step - loss: 0.2391 - accuracy: 0.8943 - val_loss: 0.3735 - val_accuracy: 0.8375\n",
            "Epoch 21/30\n",
            "1128/1128 [==============================] - 3s 2ms/step - loss: 0.2379 - accuracy: 0.8930 - val_loss: 0.3770 - val_accuracy: 0.8380\n"
          ]
        }
      ],
      "source": [
        "# build a model\n",
        "model = Sequential()\n",
        "model.add(Dense(20, input_shape=(X.shape[1],), activation='relu')) # Add an input shape! (features,)\n",
        "model.add(Dense(10, activation='relu'))\n",
        "model.add(Dense(1, activation='sigmoid'))\n",
        "model.summary()\n",
        "\n",
        "model.compile(optimizer='Adam',\n",
        "               loss='binary_crossentropy',\n",
        "               metrics=['accuracy'])\n",
        "\n",
        "# early stopping callback\n",
        "# This callback will stop the training when there is no improvement in  \n",
        "# the validation loss for 10 consecutive epochs.  \n",
        "es = EarlyStopping(monitor='val_accuracy',\n",
        "                                   mode='max', # don't minimize the accuracy!\n",
        "                                   patience=5,\n",
        "                                   restore_best_weights=True)\n",
        "\n",
        "# now we just update our model fit call\n",
        "history = model.fit(X_train,\n",
        "                    y_train,\n",
        "                    callbacks=[es],\n",
        "                    epochs=30, # you can set this to a big number!\n",
        "                    batch_size=10,\n",
        "                    validation_split=0.3,\n",
        "                    shuffle=True,\n",
        "                    verbose=1)"
      ]
    },
    {
      "cell_type": "code",
      "execution_count": null,
      "metadata": {
        "colab": {
          "base_uri": "https://localhost:8080/",
          "height": 472
        },
        "id": "GFlBFxCQPKFr",
        "outputId": "a7850f31-d4d4-4872-b31e-fbb0149acc4e"
      },
      "outputs": [
        {
          "output_type": "display_data",
          "data": {
            "text/plain": [
              "<Figure size 640x480 with 1 Axes>"
            ],
            "image/png": "[encoded data removed]"
          },
          "metadata": {}
        }
      ],
      "source": [
        "history_dict = history.history\n",
        "# Learning curve(Loss)\n",
        "# let's see the training and validation loss by epoch\n",
        "\n",
        "# loss\n",
        "loss_values = history_dict['loss'] # you can change this\n",
        "val_loss_values = history_dict['val_loss'] # you can also change this\n",
        "\n",
        "# range of X (no. of epochs)\n",
        "epochs = range(1, len(loss_values) + 1) \n",
        "\n",
        "# plot\n",
        "plt.plot(epochs, loss_values, 'bo', label='Training loss')\n",
        "plt.plot(epochs, val_loss_values, 'orange', label='Validation loss')\n",
        "plt.title('Training and validation loss')\n",
        "plt.xlabel('Epochs')\n",
        "plt.ylabel('Loss')\n",
        "plt.legend()\n",
        "plt.show()"
      ]
    },
    {
      "cell_type": "code",
      "execution_count": null,
      "metadata": {
        "colab": {
          "base_uri": "https://localhost:8080/",
          "height": 490
        },
        "id": "djtMOUMIPKFr",
        "outputId": "1c564b70-e204-4bd5-f671-53e1c1a3e9fb"
      },
      "outputs": [
        {
          "output_type": "display_data",
          "data": {
            "text/plain": [
              "<Figure size 640x480 with 1 Axes>"
            ],
            "image/png": "[encoded data removed]"
          },
          "metadata": {}
        },
        {
          "output_type": "execute_result",
          "data": {
            "text/plain": [
              "0.8456125855445862"
            ]
          },
          "metadata": {},
          "execution_count": 12
        }
      ],
      "source": [
        "# Learning curve(accuracy)\n",
        "# let's see the training and validation accuracy by epoch\n",
        "\n",
        "# accuracy\n",
        "acc = history.history['accuracy']\n",
        "val_acc = history.history['val_accuracy']\n",
        "\n",
        "# range of X (no. of epochs)\n",
        "epochs = range(1, len(acc) + 1)\n",
        "\n",
        "# plot\n",
        "# \"bo\" is for \"blue dot\"\n",
        "plt.plot(epochs, acc, 'bo', label='Training accuracy')\n",
        "# orange is for \"orange\"\n",
        "plt.plot(epochs, val_acc, 'orange', label='Validation accuracy')\n",
        "plt.title('Training and validation accuracy')\n",
        "plt.xlabel('Epochs')\n",
        "plt.ylabel('Accuracy')\n",
        "plt.legend()\n",
        "plt.show()\n",
        "\n",
        "# this is the max value - should correspond to\n",
        "# the HIGHEST train accuracy\n",
        "np.max(val_acc)"
      ]
    },
    {
      "cell_type": "code",
      "execution_count": null,
      "metadata": {
        "colab": {
          "base_uri": "https://localhost:8080/"
        },
        "id": "mZEoFuI1YF0s",
        "outputId": "b965d622-42c1-47f5-b572-8c6320965acd"
      },
      "outputs": [
        {
          "output_type": "stream",
          "name": "stdout",
          "text": [
            "504/504 [==============================] - 1s 1ms/step\n",
            "[[6696 1254]\n",
            " [1455 6698]]\n",
            "              precision    recall  f1-score   support\n",
            "\n",
            "         0.0       0.82      0.84      0.83      7950\n",
            "         1.0       0.84      0.82      0.83      8153\n",
            "\n",
            "    accuracy                           0.83     16103\n",
            "   macro avg       0.83      0.83      0.83     16103\n",
            "weighted avg       0.83      0.83      0.83     16103\n",
            "\n"
          ]
        },
        {
          "output_type": "execute_result",
          "data": {
            "text/plain": [
              "(6696, 1254, 1455, 6698)"
            ]
          },
          "metadata": {},
          "execution_count": 13
        }
      ],
      "source": [
        "from sklearn.metrics import confusion_matrix\n",
        "from sklearn.metrics import classification_report\n",
        "\n",
        "preds = np.round(model.predict(X_test),0)\n",
        "\n",
        "# confusion matrix\n",
        "print(confusion_matrix(y_test, preds)) # order matters! (actual, predicted)\n",
        "\n",
        "print(classification_report(y_test, preds))\n",
        "\n",
        "tn, fp, fn, tp = confusion_matrix(y_test, preds).ravel()\n",
        "(tn, fp, fn, tp)\n"
      ]
    },
    {
      "cell_type": "markdown",
      "metadata": {
        "id": "aEavshLHEwxv"
      },
      "source": [
        "##Using PCE"
      ]
    },
    {
      "cell_type": "code",
      "execution_count": null,
      "metadata": {
        "id": "FmnuVRqEFycR"
      },
      "outputs": [],
      "source": [
        "X = pce_features_data.drop('CVD', axis=1)\n",
        "y = pce_features_data['CVD']"
      ]
    },
    {
      "cell_type": "code",
      "execution_count": null,
      "metadata": {
        "id": "hYGXZoFOEwxv"
      },
      "outputs": [],
      "source": [
        "min_max_scaler = MinMaxScaler()\n",
        "X_normalized = min_max_scaler.fit_transform(X)\n",
        "standard_scaler = StandardScaler()\n",
        "X_standardized = standard_scaler.fit_transform(X_normalized)"
      ]
    },
    {
      "cell_type": "code",
      "execution_count": null,
      "metadata": {
        "id": "_ejulOHEEwxv"
      },
      "outputs": [],
      "source": [
        "X_train, X_test, y_train, y_test = train_test_split(X, y, test_size=0.3, random_state=42)"
      ]
    },
    {
      "cell_type": "markdown",
      "metadata": {
        "id": "IWNNF-L4Ewxw"
      },
      "source": [
        "###Random Forest"
      ]
    },
    {
      "cell_type": "code",
      "source": [
        "from sklearn.model_selection import KFold\n",
        "from sklearn.linear_model import LogisticRegression\n",
        "from sklearn.metrics import precision_score, recall_score, f1_score\n",
        "from sklearn.metrics import confusion_matrix\n",
        "from sklearn.metrics import classification_report\n",
        "\n",
        "# Initialize the KFold cross-validator with 10 folds\n",
        "kf = KFold(n_splits=2, shuffle=True)\n",
        "\n",
        "total_training_accuracy = 0\n",
        "total_testing_accuracy = 0\n",
        "total_precision = 0\n",
        "total_recall = 0\n",
        "total_f1 = 0\n",
        "fold = 1\n",
        "\n",
        "\n",
        "clf = RandomForestClassifier(n_estimators=10, random_state=42)\n",
        "\n",
        "for train_index, test_index in kf.split(X_standardized):\n",
        "    X_train, X_test = X_standardized[train_index], X_standardized[test_index]\n",
        "    y_train, y_test = y.iloc[train_index], y.iloc[test_index]\n",
        "\n",
        "    # Train the model on the training data\n",
        "    clf.fit(X_train, y_train)\n",
        "\n",
        "    # Compute the training accuracy\n",
        "    training_accuracy = clf.score(X_train, y_train)\n",
        "\n",
        "    # Make predictions using the test data\n",
        "    y_test_pred = clf.predict(X_test)\n",
        "\n",
        "    # Compute the testing accuracy, precision, recall, and F1 score\n",
        "    testing_accuracy = clf.score(X_test, y_test)\n",
        "    precision = precision_score(y_test, y_test_pred)\n",
        "    recall = recall_score(y_test, y_test_pred)\n",
        "    f1 = f1_score(y_test, y_test_pred)\n",
        "\n",
        "    print(f\"Fold {fold}:\")\n",
        "    print(f\"  Testing accuracy: {testing_accuracy * 100:.2f}%\")\n",
        "    print(f\"  Precision: {precision:.2f}\")\n",
        "    print(f\"  Recall: {recall:.2f}\")\n",
        "    print(f\"  F1 score: {f1:.2f}\")\n",
        "    print()\n",
        "\n",
        "    # confusion matrix\n",
        "    print(confusion_matrix(y_test, y_test_pred)) # order matters! (actual, predicted)\n",
        "\n",
        "    print(classification_report(y_test, y_test_pred))\n",
        "\n",
        "    tn, fp, fn, tp = confusion_matrix(y_test, y_test_pred).ravel()\n",
        "    (tn, fp, fn, tp)\n",
        "\n",
        "    total_training_accuracy += training_accuracy\n",
        "    total_testing_accuracy += testing_accuracy\n",
        "    total_precision += precision\n",
        "    total_recall += recall\n",
        "    total_f1 += f1\n",
        "    fold += 1\n",
        "\n",
        "# Calculate the average training accuracy, testing accuracy, precision, recall, and F1 score\n",
        "average_training_accuracy = total_training_accuracy / (fold - 1)\n",
        "average_testing_accuracy = total_testing_accuracy / (fold - 1)\n",
        "average_precision = total_precision / (fold - 1)\n",
        "average_recall = total_recall / (fold - 1)\n",
        "average_f1 = total_f1 / (fold - 1)\n",
        "\n",
        "#print(f\"Average training accuracy: {average_training_accuracy * 100:.2f}%\")\n",
        "print(f\"Average testing accuracy: {average_testing_accuracy * 100:.2f}%\")\n",
        "print(f\"Average precision: {average_precision:.2f}\")\n",
        "print(f\"Average recall: {average_recall:.2f}\")\n",
        "print(f\"Average F1 score: {average_f1:.2f}\")\n",
        "print()"
      ],
      "metadata": {
        "colab": {
          "base_uri": "https://localhost:8080/"
        },
        "id": "1g64gHnllzTd",
        "outputId": "3f1a2f2a-4e9c-4994-f4e1-d1a0110f0281"
      },
      "execution_count": null,
      "outputs": [
        {
          "output_type": "stream",
          "name": "stdout",
          "text": [
            "Fold 1:\n",
            "  Testing accuracy: 80.38%\n",
            "  Precision: 0.82\n",
            "  Recall: 0.78\n",
            "  F1 score: 0.80\n",
            "\n",
            "[[6618 1418]\n",
            " [1741 6327]]\n",
            "              precision    recall  f1-score   support\n",
            "\n",
            "         0.0       0.79      0.82      0.81      8036\n",
            "         1.0       0.82      0.78      0.80      8068\n",
            "\n",
            "    accuracy                           0.80     16104\n",
            "   macro avg       0.80      0.80      0.80     16104\n",
            "weighted avg       0.80      0.80      0.80     16104\n",
            "\n",
            "Fold 2:\n",
            "  Testing accuracy: 80.43%\n",
            "  Precision: 0.82\n",
            "  Recall: 0.79\n",
            "  F1 score: 0.80\n",
            "\n",
            "[[6547 1417]\n",
            " [1734 6405]]\n",
            "              precision    recall  f1-score   support\n",
            "\n",
            "         0.0       0.79      0.82      0.81      7964\n",
            "         1.0       0.82      0.79      0.80      8139\n",
            "\n",
            "    accuracy                           0.80     16103\n",
            "   macro avg       0.80      0.80      0.80     16103\n",
            "weighted avg       0.80      0.80      0.80     16103\n",
            "\n",
            "Average testing accuracy: 80.41%\n",
            "Average precision: 0.82\n",
            "Average recall: 0.79\n",
            "Average F1 score: 0.80\n",
            "\n"
          ]
        }
      ]
    },
    {
      "cell_type": "markdown",
      "metadata": {
        "id": "sQz5F2t1Ewxw"
      },
      "source": [
        "###Logistic Regression"
      ]
    },
    {
      "cell_type": "code",
      "execution_count": null,
      "metadata": {
        "colab": {
          "base_uri": "https://localhost:8080/"
        },
        "id": "vXGBO-PfEwxw",
        "outputId": "669e27ac-e49e-4736-9200-b3bee925850c"
      },
      "outputs": [
        {
          "output_type": "stream",
          "name": "stdout",
          "text": [
            "Average testing accuracy: 79.72%\n",
            "Average precision: 0.78\n",
            "Average recall: 0.83\n",
            "Average F1 score: 0.81\n",
            "\n"
          ]
        }
      ],
      "source": [
        "from sklearn.model_selection import KFold\n",
        "from sklearn.linear_model import LogisticRegression\n",
        "from sklearn.metrics import precision_score, recall_score, f1_score\n",
        "\n",
        "# Initialize the KFold cross-validator with 10 folds\n",
        "kf = KFold(n_splits=10)\n",
        "\n",
        "total_training_accuracy = 0\n",
        "total_testing_accuracy = 0\n",
        "total_precision = 0\n",
        "total_recall = 0\n",
        "total_f1 = 0\n",
        "fold = 1\n",
        "\n",
        "lr = LogisticRegression(max_iter=1000)\n",
        "\n",
        "for train_index, test_index in kf.split(X_standardized):\n",
        "    X_train, X_test = X_standardized[train_index], X_standardized[test_index]\n",
        "    y_train, y_test = y.iloc[train_index], y.iloc[test_index]\n",
        "\n",
        "    # Train the model on the training data\n",
        "    lr.fit(X_train, y_train)\n",
        "\n",
        "    # Compute the training accuracy\n",
        "    training_accuracy = lr.score(X_train, y_train)\n",
        "\n",
        "    # Make predictions using the test data\n",
        "    y_test_pred = lr.predict(X_test)\n",
        "\n",
        "    # Compute the testing accuracy, precision, recall, and F1 score\n",
        "    testing_accuracy = lr.score(X_test, y_test)\n",
        "    precision = precision_score(y_test, y_test_pred)\n",
        "    recall = recall_score(y_test, y_test_pred)\n",
        "    f1 = f1_score(y_test, y_test_pred)\n",
        "\n",
        "    # print(f\"Fold {fold}:\")\n",
        "    # print(f\"  Training accuracy: {training_accuracy * 100:.2f}%\")\n",
        "    # print(f\"  Testing accuracy: {testing_accuracy * 100:.2f}%\")\n",
        "    # print(f\"  Precision: {precision:.2f}\")\n",
        "    # print(f\"  Recall: {recall:.2f}\")\n",
        "    # print(f\"  F1 score: {f1:.2f}\")\n",
        "    # print()\n",
        "\n",
        "    total_training_accuracy += training_accuracy\n",
        "    total_testing_accuracy += testing_accuracy\n",
        "    total_precision += precision\n",
        "    total_recall += recall\n",
        "    total_f1 += f1\n",
        "    fold += 1\n",
        "\n",
        "# Calculate the average training accuracy, testing accuracy, precision, recall, and F1 score\n",
        "average_training_accuracy = total_training_accuracy / (fold - 1)\n",
        "average_testing_accuracy = total_testing_accuracy / (fold - 1)\n",
        "average_precision = total_precision / (fold - 1)\n",
        "average_recall = total_recall / (fold - 1)\n",
        "average_f1 = total_f1 / (fold - 1)\n",
        "\n",
        "#print(f\"Average training accuracy: {average_training_accuracy * 100:.2f}%\")\n",
        "print(f\"Average testing accuracy: {average_testing_accuracy * 100:.2f}%\")\n",
        "print(f\"Average precision: {average_precision:.2f}\")\n",
        "print(f\"Average recall: {average_recall:.2f}\")\n",
        "print(f\"Average F1 score: {average_f1:.2f}\")\n",
        "print()"
      ]
    },
    {
      "cell_type": "markdown",
      "metadata": {
        "id": "6kjc_IH6Ewxw"
      },
      "source": [
        "###SVM"
      ]
    },
    {
      "cell_type": "code",
      "execution_count": null,
      "metadata": {
        "colab": {
          "base_uri": "https://localhost:8080/"
        },
        "id": "azittsttEwxw",
        "outputId": "e69f78a0-30c0-48cb-f011-c5a968dbcda3"
      },
      "outputs": [
        {
          "output_type": "stream",
          "name": "stdout",
          "text": [
            "Average training accuracy: 82.66%\n",
            "Average testing accuracy: 81.99%\n",
            "Average precision: 0.80\n",
            "Average recall: 0.85\n",
            "Average F1 score: 0.83\n",
            "\n"
          ]
        }
      ],
      "source": [
        "from sklearn.model_selection import KFold\n",
        "from sklearn.linear_model import LogisticRegression\n",
        "from sklearn.metrics import precision_score, recall_score, f1_score\n",
        "from sklearn.metrics import confusion_matrix\n",
        "from sklearn.metrics import classification_report\n",
        "\n",
        "# Initialize the KFold cross-validator with 10 folds\n",
        "kf = KFold(n_splits=2, shuffle=True)\n",
        "\n",
        "total_training_accuracy = 0\n",
        "total_testing_accuracy = 0\n",
        "total_precision = 0\n",
        "total_recall = 0\n",
        "total_f1 = 0\n",
        "fold = 1\n",
        "\n",
        "\n",
        "clf = svm.SVC()\n",
        "\n",
        "for train_index, test_index in kf.split(X_standardized):\n",
        "    X_train, X_test = X_standardized[train_index], X_standardized[test_index]\n",
        "    y_train, y_test = y.iloc[train_index], y.iloc[test_index]\n",
        "\n",
        "    # Train the model on the training data\n",
        "    clf.fit(X_train, y_train)\n",
        "\n",
        "    # Compute the training accuracy\n",
        "    training_accuracy = clf.score(X_train, y_train)\n",
        "\n",
        "    # Make predictions using the test data\n",
        "    y_test_pred = clf.predict(X_test)\n",
        "\n",
        "    # Compute the testing accuracy, precision, recall, and F1 score\n",
        "    testing_accuracy = clf.score(X_test, y_test)\n",
        "    precision = precision_score(y_test, y_test_pred)\n",
        "    recall = recall_score(y_test, y_test_pred)\n",
        "    f1 = f1_score(y_test, y_test_pred)\n",
        "\n",
        "    # print(f\"Fold {fold}:\")\n",
        "    # print(f\"  Training accuracy: {training_accuracy * 100:.2f}%\")\n",
        "    # print(f\"  Testing accuracy: {testing_accuracy * 100:.2f}%\")\n",
        "    # print(f\"  Precision: {precision:.2f}\")\n",
        "    # print(f\"  Recall: {recall:.2f}\")\n",
        "    # print(f\"  F1 score: {f1:.2f}\")\n",
        "    # print()\n",
        "\n",
        "    total_training_accuracy += training_accuracy\n",
        "    total_testing_accuracy += testing_accuracy\n",
        "    total_precision += precision\n",
        "    total_recall += recall\n",
        "    total_f1 += f1\n",
        "    fold += 1\n",
        "\n",
        "# Calculate the average training accuracy, testing accuracy, precision, recall, and F1 score\n",
        "average_training_accuracy = total_training_accuracy / (fold - 1)\n",
        "average_testing_accuracy = total_testing_accuracy / (fold - 1)\n",
        "average_precision = total_precision / (fold - 1)\n",
        "average_recall = total_recall / (fold - 1)\n",
        "average_f1 = total_f1 / (fold - 1)\n",
        "\n",
        "#print(f\"Average training accuracy: {average_training_accuracy * 100:.2f}%\")\n",
        "print(f\"Average testing accuracy: {average_testing_accuracy * 100:.2f}%\")\n",
        "print(f\"Average precision: {average_precision:.2f}\")\n",
        "print(f\"Average recall: {average_recall:.2f}\")\n",
        "print(f\"Average F1 score: {average_f1:.2f}\")\n",
        "print()"
      ]
    },
    {
      "cell_type": "markdown",
      "metadata": {
        "id": "2-mSLishEwxx"
      },
      "source": [
        "###Neural Networks"
      ]
    },
    {
      "cell_type": "markdown",
      "metadata": {
        "id": "ZREBK4BZEwxx"
      },
      "source": [
        "####Finding best weight on model (20,10)"
      ]
    },
    {
      "cell_type": "code",
      "source": [
        "# build a model\n",
        "model = Sequential()\n",
        "model.add(Dense(20, input_shape=(X.shape[1],), activation='relu')) # Add an input shape! (features,)\n",
        "model.add(Dense(10, activation='relu'))\n",
        "model.add(Dense(1, activation='sigmoid'))\n",
        "model.summary()\n",
        "\n",
        "model.compile(optimizer='Adam',\n",
        "               loss='binary_crossentropy',\n",
        "               metrics=['accuracy'])\n",
        "\n",
        "# early stopping callback\n",
        "# This callback will stop the training when there is no improvement in  \n",
        "# the validation loss for 10 consecutive epochs.  \n",
        "es = EarlyStopping(monitor='val_accuracy',\n",
        "                                   mode='max', # don't minimize the accuracy!\n",
        "                                   patience=5,\n",
        "                                   restore_best_weights=True)\n",
        "\n",
        "# now we just update our model fit call\n",
        "history = model.fit(X_train,\n",
        "                    y_train,\n",
        "                    callbacks=[es],\n",
        "                    epochs=30, # you can set this to a big number!\n",
        "                    batch_size=10,\n",
        "                    validation_split=0.3,\n",
        "                    shuffle=True,\n",
        "                    verbose=1)"
      ],
      "metadata": {
        "colab": {
          "base_uri": "https://localhost:8080/"
        },
        "id": "jIfH05l9XYtf",
        "outputId": "41cd8b71-4abe-4dba-e8ca-7d7788b7c4a8"
      },
      "execution_count": null,
      "outputs": [
        {
          "output_type": "stream",
          "name": "stdout",
          "text": [
            "Model: \"sequential_1\"\n",
            "_________________________________________________________________\n",
            " Layer (type)                Output Shape              Param #   \n",
            "=================================================================\n",
            " dense_3 (Dense)             (None, 20)                380       \n",
            "                                                                 \n",
            " dense_4 (Dense)             (None, 10)                210       \n",
            "                                                                 \n",
            " dense_5 (Dense)             (None, 1)                 11        \n",
            "                                                                 \n",
            "=================================================================\n",
            "Total params: 601\n",
            "Trainable params: 601\n",
            "Non-trainable params: 0\n",
            "_________________________________________________________________\n",
            "Epoch 1/30\n",
            "1128/1128 [==============================] - 4s 3ms/step - loss: 0.4526 - accuracy: 0.7933 - val_loss: 0.4142 - val_accuracy: 0.8075\n",
            "Epoch 2/30\n",
            "1128/1128 [==============================] - 3s 3ms/step - loss: 0.3938 - accuracy: 0.8183 - val_loss: 0.3912 - val_accuracy: 0.8146\n",
            "Epoch 3/30\n",
            "1128/1128 [==============================] - 5s 5ms/step - loss: 0.3751 - accuracy: 0.8257 - val_loss: 0.3764 - val_accuracy: 0.8216\n",
            "Epoch 4/30\n",
            "1128/1128 [==============================] - 3s 3ms/step - loss: 0.3643 - accuracy: 0.8282 - val_loss: 0.3757 - val_accuracy: 0.8173\n",
            "Epoch 5/30\n",
            "1128/1128 [==============================] - 3s 2ms/step - loss: 0.3594 - accuracy: 0.8298 - val_loss: 0.3687 - val_accuracy: 0.8226\n",
            "Epoch 6/30\n",
            "1128/1128 [==============================] - 3s 2ms/step - loss: 0.3568 - accuracy: 0.8306 - val_loss: 0.3650 - val_accuracy: 0.8228\n",
            "Epoch 7/30\n",
            "1128/1128 [==============================] - 3s 2ms/step - loss: 0.3547 - accuracy: 0.8317 - val_loss: 0.3677 - val_accuracy: 0.8181\n",
            "Epoch 8/30\n",
            "1128/1128 [==============================] - 4s 3ms/step - loss: 0.3533 - accuracy: 0.8317 - val_loss: 0.3639 - val_accuracy: 0.8222\n",
            "Epoch 9/30\n",
            "1128/1128 [==============================] - 3s 2ms/step - loss: 0.3520 - accuracy: 0.8310 - val_loss: 0.3640 - val_accuracy: 0.8179\n",
            "Epoch 10/30\n",
            "1128/1128 [==============================] - 3s 2ms/step - loss: 0.3506 - accuracy: 0.8307 - val_loss: 0.3615 - val_accuracy: 0.8228\n",
            "Epoch 11/30\n",
            "1128/1128 [==============================] - 3s 2ms/step - loss: 0.3494 - accuracy: 0.8306 - val_loss: 0.3597 - val_accuracy: 0.8251\n",
            "Epoch 12/30\n",
            "1128/1128 [==============================] - 4s 3ms/step - loss: 0.3491 - accuracy: 0.8320 - val_loss: 0.3641 - val_accuracy: 0.8224\n",
            "Epoch 13/30\n",
            "1128/1128 [==============================] - 3s 3ms/step - loss: 0.3487 - accuracy: 0.8308 - val_loss: 0.3619 - val_accuracy: 0.8220\n",
            "Epoch 14/30\n",
            "1128/1128 [==============================] - 3s 2ms/step - loss: 0.3471 - accuracy: 0.8324 - val_loss: 0.3597 - val_accuracy: 0.8272\n",
            "Epoch 15/30\n",
            "1128/1128 [==============================] - 3s 2ms/step - loss: 0.3468 - accuracy: 0.8318 - val_loss: 0.3634 - val_accuracy: 0.8231\n",
            "Epoch 16/30\n",
            "1128/1128 [==============================] - 3s 2ms/step - loss: 0.3469 - accuracy: 0.8288 - val_loss: 0.3611 - val_accuracy: 0.8253\n",
            "Epoch 17/30\n",
            "1128/1128 [==============================] - 4s 3ms/step - loss: 0.3467 - accuracy: 0.8320 - val_loss: 0.3593 - val_accuracy: 0.8251\n",
            "Epoch 18/30\n",
            "1128/1128 [==============================] - 3s 2ms/step - loss: 0.3465 - accuracy: 0.8322 - val_loss: 0.3612 - val_accuracy: 0.8264\n",
            "Epoch 19/30\n",
            "1128/1128 [==============================] - 3s 2ms/step - loss: 0.3451 - accuracy: 0.8311 - val_loss: 0.3615 - val_accuracy: 0.8237\n"
          ]
        }
      ]
    },
    {
      "cell_type": "code",
      "source": [
        "history_dict = history.history\n",
        "# Learning curve(Loss)\n",
        "# let's see the training and validation loss by epoch\n",
        "\n",
        "# loss\n",
        "loss_values = history_dict['loss'] # you can change this\n",
        "val_loss_values = history_dict['val_loss'] # you can also change this\n",
        "\n",
        "# range of X (no. of epochs)\n",
        "epochs = range(1, len(loss_values) + 1) \n",
        "\n",
        "# plot\n",
        "plt.plot(epochs, loss_values, 'bo', label='Training loss')\n",
        "plt.plot(epochs, val_loss_values, 'orange', label='Validation loss')\n",
        "plt.title('Training and validation loss')\n",
        "plt.xlabel('Epochs')\n",
        "plt.ylabel('Loss')\n",
        "plt.legend()\n",
        "plt.show()"
      ],
      "metadata": {
        "colab": {
          "base_uri": "https://localhost:8080/",
          "height": 472
        },
        "id": "oLitejIgXd2K",
        "outputId": "d2c7fc2c-efe5-439e-e771-18021b072482"
      },
      "execution_count": null,
      "outputs": [
        {
          "output_type": "display_data",
          "data": {
            "text/plain": [
              "<Figure size 640x480 with 1 Axes>"
            ],
            "image/png": "[encoded data removed]"
          },
          "metadata": {}
        }
      ]
    },
    {
      "cell_type": "code",
      "source": [
        "# Learning curve(accuracy)\n",
        "# let's see the training and validation accuracy by epoch\n",
        "\n",
        "# accuracy\n",
        "acc = history.history['accuracy']\n",
        "val_acc = history.history['val_accuracy']\n",
        "\n",
        "# range of X (no. of epochs)\n",
        "epochs = range(1, len(acc) + 1)\n",
        "\n",
        "# plot\n",
        "# \"bo\" is for \"blue dot\"\n",
        "plt.plot(epochs, acc, 'bo', label='Training accuracy')\n",
        "# orange is for \"orange\"\n",
        "plt.plot(epochs, val_acc, 'orange', label='Validation accuracy')\n",
        "plt.title('Training and validation accuracy')\n",
        "plt.xlabel('Epochs')\n",
        "plt.ylabel('Accuracy')\n",
        "plt.legend()\n",
        "plt.show()\n",
        "\n",
        "# this is the max value - should correspond to\n",
        "# the HIGHEST train accuracy\n",
        "np.max(val_acc)"
      ],
      "metadata": {
        "colab": {
          "base_uri": "https://localhost:8080/",
          "height": 490
        },
        "id": "rKqCI4lxXe6s",
        "outputId": "3ea75a64-ab47-419d-9c44-4f11bf586402"
      },
      "execution_count": null,
      "outputs": [
        {
          "output_type": "display_data",
          "data": {
            "text/plain": [
              "<Figure size 640x480 with 1 Axes>"
            ],
            "image/png": "[encoded data removed]"
          },
          "metadata": {}
        },
        {
          "output_type": "execute_result",
          "data": {
            "text/plain": [
              "0.8271937370300293"
            ]
          },
          "metadata": {},
          "execution_count": 22
        }
      ]
    },
    {
      "cell_type": "code",
      "source": [
        "from sklearn.metrics import confusion_matrix\n",
        "from sklearn.metrics import classification_report\n",
        "\n",
        "preds = np.round(model.predict(X_test),0)\n",
        "\n",
        "# confusion matrix\n",
        "print(confusion_matrix(y_test, preds)) # order matters! (actual, predicted)\n",
        "\n",
        "print(classification_report(y_test, preds))\n",
        "\n",
        "tn, fp, fn, tp = confusion_matrix(y_test, preds).ravel()\n",
        "(tn, fp, fn, tp)"
      ],
      "metadata": {
        "colab": {
          "base_uri": "https://localhost:8080/"
        },
        "id": "D5tnhWEGXjq3",
        "outputId": "3342466f-d0df-409a-f69a-8db7fdec2cd6"
      },
      "execution_count": null,
      "outputs": [
        {
          "output_type": "stream",
          "name": "stdout",
          "text": [
            "504/504 [==============================] - 1s 1ms/step\n",
            "[[6463 1498]\n",
            " [1394 6748]]\n",
            "              precision    recall  f1-score   support\n",
            "\n",
            "         0.0       0.82      0.81      0.82      7961\n",
            "         1.0       0.82      0.83      0.82      8142\n",
            "\n",
            "    accuracy                           0.82     16103\n",
            "   macro avg       0.82      0.82      0.82     16103\n",
            "weighted avg       0.82      0.82      0.82     16103\n",
            "\n"
          ]
        },
        {
          "output_type": "execute_result",
          "data": {
            "text/plain": [
              "(6463, 1498, 1394, 6748)"
            ]
          },
          "metadata": {},
          "execution_count": 23
        }
      ]
    }
  ],
  "metadata": {
    "colab": {
      "provenance": [],
      "collapsed_sections": [
        "b_emSr2IZnEK",
        "9oPd9wk9ZrmG",
        "6ydzTw5MZwdO",
        "IWNNF-L4Ewxw",
        "sQz5F2t1Ewxw",
        "6kjc_IH6Ewxw"
      ]
    },
    "kernelspec": {
      "display_name": "Python 3",
      "name": "python3"
    },
    "language_info": {
      "name": "python"
    }
  },
  "nbformat": 4,
  "nbformat_minor": 0
}