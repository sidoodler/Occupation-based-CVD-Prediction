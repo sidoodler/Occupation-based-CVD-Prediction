{
  "cells": [
    {
      "cell_type": "code",
      "execution_count": null,
      "metadata": {
        "id": "2aXwowx73JPS"
      },
      "outputs": [],
      "source": [
        "import numpy as np\n",
        "import pandas as pd\n",
        "import seaborn as sns\n",
        "import matplotlib.pyplot as plt\n",
        "from sklearn.ensemble import RandomForestClassifier\n",
        "from sklearn.model_selection import train_test_split\n",
        "from sklearn.preprocessing import MinMaxScaler, StandardScaler\n",
        "from sklearn.metrics import accuracy_score\n",
        "from sklearn.metrics import confusion_matrix\n",
        "from sklearn.metrics import f1_score\n",
        "from sklearn.model_selection import KFold\n",
        "from sklearn.linear_model import LogisticRegression\n",
        "from sklearn.ensemble import GradientBoostingClassifier\n",
        "from sklearn import svm\n",
        "from keras.wrappers.scikit_learn import KerasClassifier\n",
        "from keras.utils import np_utils\n",
        "\n",
        "# for modeling\n",
        "from keras.models import Sequential\n",
        "from keras.layers import Dense, Dropout\n",
        "from keras.callbacks import EarlyStopping\n",
        "%matplotlib inline"
      ]
    },
    {
      "cell_type": "code",
      "execution_count": null,
      "metadata": {
        "colab": {
          "base_uri": "https://localhost:8080/"
        },
        "id": "Lrh35cU13LxA",
        "outputId": "72f55308-2e88-4174-981d-4c3a231282c4"
      },
      "outputs": [
        {
          "output_type": "stream",
          "name": "stdout",
          "text": [
            "(61050, 144)\n",
            "(10000, 144)\n",
            "(10000, 144)\n",
            "(61050, 26)\n"
          ]
        }
      ],
      "source": [
        "data=pd.read_csv(\"finalpreprocessed_detailed.csv\")\n",
        "print(data.shape)\n",
        "gan=pd.read_csv(\"synthetic_dataGAN.csv\").drop(['Unnamed: 0', 'id'], axis=1)\n",
        "print(gan.shape)\n",
        "gc=pd.read_csv(\"synthetic_dataGC.csv\").drop(['Unnamed: 0', 'id'], axis=1)\n",
        "print(gc.shape)\n",
        "# data=pd.read_csv(\"finalpreprocessed_simple.csv\")\n",
        "# print(data.shape)\n",
        "data=pd.read_csv(\"data25_detailed.csv\")\n",
        "print(data.shape)"
      ]
    },
    {
      "cell_type": "code",
      "execution_count": null,
      "metadata": {
        "id": "ca8Unb9QY3cO"
      },
      "outputs": [],
      "source": [
        "gan_3x = pd.concat([gan]*3, ignore_index=True)\n",
        "gc_2x = pd.concat([gc]*2, ignore_index=True)\n",
        "data = pd.concat([data, gan_3x, gc_2x], ignore_index=True)\n",
        "data = data.sample(frac=1).reset_index(drop=True)"
      ]
    },
    {
      "cell_type": "code",
      "execution_count": null,
      "metadata": {
        "colab": {
          "base_uri": "https://localhost:8080/"
        },
        "id": "lQEBjSpIYWCW",
        "outputId": "e29092d0-edd1-4334-c995-988e950df407"
      },
      "outputs": [
        {
          "output_type": "execute_result",
          "data": {
            "text/plain": [
              "0.0    54843\n",
              "1.0     6207\n",
              "Name: CVD, dtype: int64"
            ]
          },
          "metadata": {},
          "execution_count": 3
        }
      ],
      "source": [
        "data['CVD'].value_counts()"
      ]
    },
    {
      "cell_type": "code",
      "execution_count": null,
      "metadata": {
        "id": "It8dw6VJ3U_1"
      },
      "outputs": [],
      "source": [
        "selected_features = 'AGEP_A,SEX_A,RACEALLP_A_1,RACEALLP_A_2,RACEALLP_A_3,RACEALLP_A_4,RACEALLP_A_5,RACEALLP_A_6,HYPEV_A,CHLEV_A,DIBTYPE_A_1,DIBTYPE_A_2,DIBTYPE_A_3,SMKCIGST_A_1,SMKCIGST_A_2,SMKCIGST_A_3,SMKCIGST_A_4,HYPMED_A,CVD'\n",
        "selected_columns = selected_features.split(',')\n",
        "selected_columns_with_occ = selected_columns.copy()+[col for col in data.columns if col.startswith(\"EMDOCCUPN\") or col.startswith(\"EMDINDSTN\") or col.startswith(\"EMDWRKCAT\")]\n",
        "pce_features_data = data[selected_columns]\n",
        "pce_and_occ_features_data = data[selected_columns_with_occ]\n",
        "\n",
        "# pce_features_data0=pce_features_data[pce_features_data['CVD']==0.0]\n",
        "# pce_features_data1=pce_features_data[pce_features_data['CVD']==1.0]\n",
        "# pce_features_data0=pce_features_data0.sample(n=10000, random_state=1)\n",
        "# pce_features_data=pd.concat([pce_features_data0,pce_features_data1])\n",
        "# pce_features_data= pce_features_data.sample(frac = 1)\n",
        "\n",
        "# pce_and_occ_features_data0=pce_and_occ_features_data[pce_and_occ_features_data['CVD']==0.0]\n",
        "# pce_and_occ_features_data1=pce_and_occ_features_data[pce_and_occ_features_data['CVD']==1.0]\n",
        "# pce_and_occ_features_data0=pce_and_occ_features_data0.sample(n=10000, random_state=1)\n",
        "# pce_and_occ_features_data=pd.concat([pce_and_occ_features_data0,pce_and_occ_features_data1])\n",
        "# pce_and_occ_features_data= pce_and_occ_features_data.sample(frac = 1)"
      ]
    },
    {
      "cell_type": "code",
      "source": [],
      "metadata": {
        "id": "g-xRUIa0K-my"
      },
      "execution_count": null,
      "outputs": []
    },
    {
      "cell_type": "code",
      "execution_count": null,
      "metadata": {
        "id": "hehkzpbSFelJ"
      },
      "outputs": [],
      "source": [
        "X = pce_and_occ_features_data.drop('CVD', axis=1)\n",
        "y = pce_and_occ_features_data['CVD']"
      ]
    },
    {
      "cell_type": "code",
      "source": [
        "X = data.drop('CVD', axis=1)\n",
        "y = data['CVD']"
      ],
      "metadata": {
        "id": "0Cz6mmREK_Z5"
      },
      "execution_count": null,
      "outputs": []
    },
    {
      "cell_type": "code",
      "execution_count": null,
      "metadata": {
        "id": "BJCWxI9LFg0C"
      },
      "outputs": [],
      "source": [
        "# min_max_scaler = MinMaxScaler()\n",
        "# X_normalized = min_max_scaler.fit_transform(X)\n",
        "# standard_scaler = StandardScaler()\n",
        "# X_standardized = standard_scaler.fit_transform(X_normalized)"
      ]
    },
    {
      "cell_type": "code",
      "execution_count": null,
      "metadata": {
        "id": "Czw9YBK1JThd"
      },
      "outputs": [],
      "source": [
        "X_train, X_test, y_train, y_test = train_test_split(X, y, test_size=0.3, random_state=42)"
      ]
    },
    {
      "cell_type": "code",
      "execution_count": null,
      "metadata": {
        "id": "efKxF4YuRJS6"
      },
      "outputs": [],
      "source": [
        "# (we actually should not include any augmented data in test set)"
      ]
    },
    {
      "cell_type": "markdown",
      "metadata": {
        "id": "inO3uUYz32dH"
      },
      "source": [
        "#Model fitting\n",
        "##Models fitted: Random Forest, LR with weights adjusted, SVM, GB"
      ]
    },
    {
      "cell_type": "markdown",
      "metadata": {
        "id": "99Jh1BbWZbVY"
      },
      "source": [
        "##Using PCE + Occupation Features"
      ]
    },
    {
      "cell_type": "markdown",
      "metadata": {
        "id": "b_emSr2IZnEK"
      },
      "source": [
        "###Random Forest"
      ]
    },
    {
      "cell_type": "code",
      "execution_count": null,
      "metadata": {
        "id": "6Wm6gdoDFqot"
      },
      "outputs": [],
      "source": [
        "rf = RandomForestClassifier(n_estimators=100, random_state=42)\n",
        "rf.fit(X_train, y_train)"
      ]
    },
    {
      "cell_type": "code",
      "execution_count": null,
      "metadata": {
        "id": "zzmmTdz5F4ow"
      },
      "outputs": [],
      "source": [
        "y_pred = rf.predict(X_test)\n",
        "accuracy = accuracy_score(y_test, y_pred)\n",
        "cm=confusion_matrix(y_test, y_pred)\n",
        "print(f'Accuracy: {accuracy}')\n",
        "tn, fp, fn, tp = confusion_matrix(y_test, y_pred).ravel()\n",
        "f1 = f1_score(y_test, y_pred)\n",
        "(tn, fp, fn, tp, f1)"
      ]
    },
    {
      "cell_type": "markdown",
      "metadata": {
        "id": "9oPd9wk9ZrmG"
      },
      "source": [
        "###Logistic Regression"
      ]
    },
    {
      "cell_type": "code",
      "execution_count": null,
      "metadata": {
        "id": "Q74WYUViGZ6j"
      },
      "outputs": [],
      "source": [
        "from sklearn.model_selection import KFold\n",
        "from sklearn.linear_model import LogisticRegression\n",
        "from sklearn.metrics import precision_score, recall_score, f1_score\n",
        "\n",
        "# Find the class weights based on the inverse of their frequencies\n",
        "class_weights = y.value_counts().to_dict()\n",
        "weights = [1, 1.5, 2, 3, 4, 5, 6, 7, 8, 9]\n",
        "\n",
        "for i in range(10):\n",
        "  # Initialize the KFold cross-validator with 10 folds\n",
        "  kf = KFold(n_splits=10)\n",
        "\n",
        "  total_training_accuracy = 0\n",
        "  total_testing_accuracy = 0\n",
        "  total_precision = 0\n",
        "  total_recall = 0\n",
        "  total_f1 = 0\n",
        "  fold = 1\n",
        "\n",
        "  class_weights[1.0] = weights[i]\n",
        "  class_weights[0.0] = 1\n",
        "  # for key in class_weights:\n",
        "  #     class_weights[key] = 1 / class_weights[key]\n",
        "  #     print(f\"weight: class {key}: {class_weights[key]}\")\n",
        "\n",
        "  # Initialize the Logistic Regression model with class weights and max_iter=1000\n",
        "  lr = LogisticRegression(max_iter=1000, class_weight=class_weights)\n",
        "\n",
        "  for train_index, test_index in kf.split(X_standardized):\n",
        "      X_train, X_test = X_standardized[train_index], X_standardized[test_index]\n",
        "      y_train, y_test = y.iloc[train_index], y.iloc[test_index]\n",
        "\n",
        "      # Train the model on the training data\n",
        "      lr.fit(X_train, y_train)\n",
        "\n",
        "      # Compute the training accuracy\n",
        "      training_accuracy = lr.score(X_train, y_train)\n",
        "\n",
        "      # Make predictions using the test data\n",
        "      y_test_pred = lr.predict(X_test)\n",
        "\n",
        "      # Compute the testing accuracy, precision, recall, and F1 score\n",
        "      testing_accuracy = lr.score(X_test, y_test)\n",
        "      precision = precision_score(y_test, y_test_pred)\n",
        "      recall = recall_score(y_test, y_test_pred)\n",
        "      f1 = f1_score(y_test, y_test_pred)\n",
        "\n",
        "      # print(f\"Fold {fold}:\")\n",
        "      # print(f\"  Training accuracy: {training_accuracy * 100:.2f}%\")\n",
        "      # print(f\"  Testing accuracy: {testing_accuracy * 100:.2f}%\")\n",
        "      # print(f\"  Precision: {precision:.2f}\")\n",
        "      # print(f\"  Recall: {recall:.2f}\")\n",
        "      # print(f\"  F1 score: {f1:.2f}\")\n",
        "      # print()\n",
        "\n",
        "      total_training_accuracy += training_accuracy\n",
        "      total_testing_accuracy += testing_accuracy\n",
        "      total_precision += precision\n",
        "      total_recall += recall\n",
        "      total_f1 += f1\n",
        "      fold += 1\n",
        "\n",
        "  # Calculate the average training accuracy, testing accuracy, precision, recall, and F1 score\n",
        "  average_training_accuracy = total_training_accuracy / (fold - 1)\n",
        "  average_testing_accuracy = total_testing_accuracy / (fold - 1)\n",
        "  average_precision = total_precision / (fold - 1)\n",
        "  average_recall = total_recall / (fold - 1)\n",
        "  average_f1 = total_f1 / (fold - 1)\n",
        "\n",
        "  print(f\"Average training accuracy: {average_training_accuracy * 100:.2f}%\")\n",
        "  print(f\"Average testing accuracy: {average_testing_accuracy * 100:.2f}%\")\n",
        "  print(f\"Average precision: {average_precision:.2f}\")\n",
        "  print(f\"Average recall: {average_recall:.2f}\")\n",
        "  print(f\"Average F1 score: {average_f1:.2f}\")\n",
        "  print()\n"
      ]
    },
    {
      "cell_type": "markdown",
      "metadata": {
        "id": "6ydzTw5MZwdO"
      },
      "source": [
        "###SVM"
      ]
    },
    {
      "cell_type": "code",
      "execution_count": null,
      "metadata": {
        "id": "_7LFmkEK-l3n"
      },
      "outputs": [],
      "source": [
        "from sklearn.model_selection import KFold\n",
        "from sklearn.linear_model import LogisticRegression\n",
        "from sklearn.metrics import precision_score, recall_score, f1_score\n",
        "\n",
        "# Find the class weights based on the inverse of their frequencies\n",
        "class_weights = y.value_counts().to_dict()\n",
        "weights = [5, 6, 7, 8, 9]\n",
        "\n",
        "for i in range(5):\n",
        "  # Initialize the KFold cross-validator with 10 folds\n",
        "  kf = KFold(n_splits=2, shuffle=True)\n",
        "\n",
        "  total_training_accuracy = 0\n",
        "  total_testing_accuracy = 0\n",
        "  total_precision = 0\n",
        "  total_recall = 0\n",
        "  total_f1 = 0\n",
        "  fold = 1\n",
        "\n",
        "  class_weights[1.0] = weights[i]\n",
        "  class_weights[0.0] = 1\n",
        "\n",
        "  clf = svm.SVC(class_weight=class_weights)\n",
        "\n",
        "  for train_index, test_index in kf.split(X_standardized):\n",
        "      X_train, X_test = X_standardized[train_index], X_standardized[test_index]\n",
        "      y_train, y_test = y.iloc[train_index], y.iloc[test_index]\n",
        "\n",
        "      # Train the model on the training data\n",
        "      clf.fit(X_train, y_train)\n",
        "\n",
        "      # Compute the training accuracy\n",
        "      training_accuracy = clf.score(X_train, y_train)\n",
        "\n",
        "      # Make predictions using the test data\n",
        "      y_test_pred = clf.predict(X_test)\n",
        "\n",
        "      # Compute the testing accuracy, precision, recall, and F1 score\n",
        "      testing_accuracy = clf.score(X_test, y_test)\n",
        "      precision = precision_score(y_test, y_test_pred)\n",
        "      recall = recall_score(y_test, y_test_pred)\n",
        "      f1 = f1_score(y_test, y_test_pred)\n",
        "\n",
        "      # print(f\"Fold {fold}:\")\n",
        "      # print(f\"  Training accuracy: {training_accuracy * 100:.2f}%\")\n",
        "      # print(f\"  Testing accuracy: {testing_accuracy * 100:.2f}%\")\n",
        "      # print(f\"  Precision: {precision:.2f}\")\n",
        "      # print(f\"  Recall: {recall:.2f}\")\n",
        "      # print(f\"  F1 score: {f1:.2f}\")\n",
        "      # print()\n",
        "\n",
        "      total_training_accuracy += training_accuracy\n",
        "      total_testing_accuracy += testing_accuracy\n",
        "      total_precision += precision\n",
        "      total_recall += recall\n",
        "      total_f1 += f1\n",
        "      fold += 1\n",
        "\n",
        "  # Calculate the average training accuracy, testing accuracy, precision, recall, and F1 score\n",
        "  average_training_accuracy = total_training_accuracy / (fold - 1)\n",
        "  average_testing_accuracy = total_testing_accuracy / (fold - 1)\n",
        "  average_precision = total_precision / (fold - 1)\n",
        "  average_recall = total_recall / (fold - 1)\n",
        "  average_f1 = total_f1 / (fold - 1)\n",
        "\n",
        "  print(f\"Average training accuracy: {average_training_accuracy * 100:.2f}%\")\n",
        "  print(f\"Average testing accuracy: {average_testing_accuracy * 100:.2f}%\")\n",
        "  print(f\"Average precision: {average_precision:.2f}\")\n",
        "  print(f\"Average recall: {average_recall:.2f}\")\n",
        "  print(f\"Average F1 score: {average_f1:.2f}\")\n",
        "  print()\n"
      ]
    },
    {
      "cell_type": "markdown",
      "metadata": {
        "id": "UNFiFzJmZ5OZ"
      },
      "source": [
        "###Neural Networks"
      ]
    },
    {
      "cell_type": "markdown",
      "metadata": {
        "id": "XhOuMyVVJg7n"
      },
      "source": [
        "#### keras tuner"
      ]
    },
    {
      "cell_type": "code",
      "execution_count": null,
      "metadata": {
        "colab": {
          "base_uri": "https://localhost:8080/"
        },
        "id": "UcfpWjuqGsqi",
        "outputId": "fb341a51-363c-4bd4-c549-c2c34b3c79d1"
      },
      "outputs": [
        {
          "output_type": "stream",
          "name": "stdout",
          "text": [
            "Looking in indexes: https://pypi.org/simple, https://us-python.pkg.dev/colab-wheels/public/simple/\n",
            "Requirement already satisfied: keras-tuner in /usr/local/lib/python3.10/dist-packages (1.3.5)\n",
            "Requirement already satisfied: packaging in /usr/local/lib/python3.10/dist-packages (from keras-tuner) (23.1)\n",
            "Requirement already satisfied: requests in /usr/local/lib/python3.10/dist-packages (from keras-tuner) (2.27.1)\n",
            "Requirement already satisfied: kt-legacy in /usr/local/lib/python3.10/dist-packages (from keras-tuner) (1.0.5)\n",
            "Requirement already satisfied: urllib3<1.27,>=1.21.1 in /usr/local/lib/python3.10/dist-packages (from requests->keras-tuner) (1.26.15)\n",
            "Requirement already satisfied: certifi>=2017.4.17 in /usr/local/lib/python3.10/dist-packages (from requests->keras-tuner) (2022.12.7)\n",
            "Requirement already satisfied: charset-normalizer~=2.0.0 in /usr/local/lib/python3.10/dist-packages (from requests->keras-tuner) (2.0.12)\n",
            "Requirement already satisfied: idna<4,>=2.5 in /usr/local/lib/python3.10/dist-packages (from requests->keras-tuner) (3.4)\n"
          ]
        }
      ],
      "source": [
        "!pip install keras-tuner"
      ]
    },
    {
      "cell_type": "code",
      "execution_count": null,
      "metadata": {
        "colab": {
          "base_uri": "https://localhost:8080/"
        },
        "id": "Uh9MTKRjGfoL",
        "outputId": "6244fa74-7d6f-4789-f5ad-d059493857c6"
      },
      "outputs": [
        {
          "output_type": "stream",
          "name": "stderr",
          "text": [
            "<ipython-input-8-5dea928aa34f>:3: DeprecationWarning: `import kerastuner` is deprecated, please use `import keras_tuner`.\n",
            "  from kerastuner.tuners import RandomSearch\n"
          ]
        },
        {
          "output_type": "stream",
          "name": "stdout",
          "text": [
            "Search space summary\n",
            "Default search space size: 12\n",
            "num_layers (Int)\n",
            "{'default': None, 'conditions': [], 'min_value': 2, 'max_value': 5, 'step': 1, 'sampling': 'linear'}\n",
            "units_0 (Int)\n",
            "{'default': None, 'conditions': [], 'min_value': 8, 'max_value': 128, 'step': 32, 'sampling': 'linear'}\n",
            "l2_reg_0 (Choice)\n",
            "{'default': 0.01, 'conditions': [], 'values': [0.01, 0.001, 0.0001], 'ordered': True}\n",
            "units_1 (Int)\n",
            "{'default': None, 'conditions': [], 'min_value': 8, 'max_value': 128, 'step': 32, 'sampling': 'linear'}\n",
            "l2_reg_1 (Choice)\n",
            "{'default': 0.01, 'conditions': [], 'values': [0.01, 0.001, 0.0001], 'ordered': True}\n",
            "learning_rate (Choice)\n",
            "{'default': 0.01, 'conditions': [], 'values': [0.01, 0.001, 0.0001], 'ordered': True}\n",
            "units_2 (Int)\n",
            "{'default': None, 'conditions': [], 'min_value': 8, 'max_value': 128, 'step': 32, 'sampling': 'linear'}\n",
            "l2_reg_2 (Choice)\n",
            "{'default': 0.01, 'conditions': [], 'values': [0.01, 0.001, 0.0001], 'ordered': True}\n",
            "units_3 (Int)\n",
            "{'default': None, 'conditions': [], 'min_value': 8, 'max_value': 128, 'step': 32, 'sampling': 'linear'}\n",
            "l2_reg_3 (Choice)\n",
            "{'default': 0.01, 'conditions': [], 'values': [0.01, 0.001, 0.0001], 'ordered': True}\n",
            "units_4 (Int)\n",
            "{'default': None, 'conditions': [], 'min_value': 8, 'max_value': 128, 'step': 32, 'sampling': 'linear'}\n",
            "l2_reg_4 (Choice)\n",
            "{'default': 0.01, 'conditions': [], 'values': [0.01, 0.001, 0.0001], 'ordered': True}\n",
            "Epoch 1/10\n",
            "935/935 [==============================] - 6s 5ms/step - loss: 0.9915 - accuracy: 0.6972 - val_loss: 0.6988 - val_accuracy: 0.6354\n",
            "Epoch 2/10\n",
            "935/935 [==============================] - 9s 10ms/step - loss: 0.9425 - accuracy: 0.7125 - val_loss: 0.5122 - val_accuracy: 0.7362\n",
            "Epoch 3/10\n",
            "935/935 [==============================] - 9s 10ms/step - loss: 0.9255 - accuracy: 0.7164 - val_loss: 0.5077 - val_accuracy: 0.7471\n",
            "Epoch 4/10\n",
            "935/935 [==============================] - 8s 9ms/step - loss: 0.9204 - accuracy: 0.7235 - val_loss: 0.5389 - val_accuracy: 0.7162\n",
            "Epoch 5/10\n",
            "935/935 [==============================] - 12s 13ms/step - loss: 0.9136 - accuracy: 0.7248 - val_loss: 0.5625 - val_accuracy: 0.7038\n",
            "Epoch 6/10\n",
            "935/935 [==============================] - 7s 8ms/step - loss: 0.9117 - accuracy: 0.7235 - val_loss: 0.5589 - val_accuracy: 0.7063\n",
            "Epoch 7/10\n",
            "935/935 [==============================] - 6s 7ms/step - loss: 0.9072 - accuracy: 0.7247 - val_loss: 0.5207 - val_accuracy: 0.7386\n",
            "Epoch 8/10\n",
            "935/935 [==============================] - 4s 4ms/step - loss: 0.9058 - accuracy: 0.7257 - val_loss: 0.4950 - val_accuracy: 0.7462\n",
            "Epoch 9/10\n",
            "935/935 [==============================] - 3s 3ms/step - loss: 0.9035 - accuracy: 0.7283 - val_loss: 0.5523 - val_accuracy: 0.7131\n",
            "Epoch 10/10\n",
            "935/935 [==============================] - 3s 3ms/step - loss: 0.9007 - accuracy: 0.7279 - val_loss: 0.5435 - val_accuracy: 0.7030\n",
            "1/1 [==============================] - 0s 100ms/step\n",
            "Model: \"sequential\"\n",
            "_________________________________________________________________\n",
            " Layer (type)                Output Shape              Param #   \n",
            "=================================================================\n",
            " dense (Dense)               (None, 40)                1040      \n",
            "                                                                 \n",
            " dense_1 (Dense)             (None, 104)               4264      \n",
            "                                                                 \n",
            " dense_2 (Dense)             (None, 8)                 840       \n",
            "                                                                 \n",
            " dense_3 (Dense)             (None, 1)                 9         \n",
            "                                                                 \n",
            "=================================================================\n",
            "Total params: 6,153\n",
            "Trainable params: 6,153\n",
            "Non-trainable params: 0\n",
            "_________________________________________________________________\n"
          ]
        }
      ],
      "source": [
        "from tensorflow import keras\n",
        "from tensorflow.keras import layers\n",
        "from kerastuner.tuners import RandomSearch\n",
        "from tensorflow.keras import regularizers\n",
        "\n",
        "def build_model(hp):\n",
        "    model = keras.Sequential()\n",
        "    # Use hp.Int to define the number of layers\n",
        "    for i in range(hp.Int('num_layers', 2, 5)):\n",
        "        model.add(layers.Dense(units=hp.Int('units_' + str(i),\n",
        "                                            min_value=8,\n",
        "                                            max_value=128,\n",
        "                                            step=32),\n",
        "                               activation='relu',\n",
        "                               kernel_regularizer=regularizers.l2(hp.Choice('l2_reg_'+str(i), values=[0.01, 0.001, 0.0001]))))\n",
        "    \n",
        "    model.add(layers.Dense(1, activation='sigmoid'))\n",
        "    \n",
        "    model.compile(optimizer=keras.optimizers.Adam(hp.Choice('learning_rate', values=[1e-2, 1e-3, 1e-4])),\n",
        "                  loss='binary_crossentropy',\n",
        "                  metrics=['accuracy'])\n",
        "    \n",
        "    return model\n",
        "\n",
        "tuner = RandomSearch(\n",
        "    build_model,\n",
        "    objective='val_accuracy',  # use validation accuracy as the objective\n",
        "    max_trials=5,\n",
        "    executions_per_trial=3,\n",
        "    directory='my_dir',\n",
        "    project_name='helloworld')\n",
        "\n",
        "tuner.search_space_summary()\n",
        "\n",
        "# Define class weights\n",
        "class_weight = {0: 1., 1: 9.}\n",
        "\n",
        "tuner.search(X_train, y_train,\n",
        "             epochs=10,\n",
        "             validation_split=0.3,\n",
        "             class_weight=class_weight)  # add class weights here\n",
        "\n",
        "# Get the best hyperparameters\n",
        "best_hp = tuner.get_best_hyperparameters(num_trials=1)[0]\n",
        "\n",
        "# Build the model with the best hyperparameters and train it on the data\n",
        "model = tuner.hypermodel.build(best_hp)\n",
        "model.fit(X_train, y_train, class_weight=class_weight, epochs=10, validation_split=0.3)  # and here\n",
        "\n",
        "model.predict(X_train[:1])\n",
        "model.summary()\n"
      ]
    },
    {
      "cell_type": "code",
      "execution_count": null,
      "metadata": {
        "id": "1oUpdwJaVL55",
        "colab": {
          "base_uri": "https://localhost:8080/",
          "height": 1000
        },
        "outputId": "bf433024-5a49-4930-9652-c1237ff39cba"
      },
      "outputs": [
        {
          "output_type": "stream",
          "name": "stdout",
          "text": [
            "Epoch 1/15\n",
            "935/935 [==============================] - 3s 3ms/step - loss: 0.8826 - accuracy: 0.7397 - val_loss: 0.5123 - val_accuracy: 0.7457\n",
            "Epoch 2/15\n",
            "935/935 [==============================] - 3s 3ms/step - loss: 0.8829 - accuracy: 0.7405 - val_loss: 0.4992 - val_accuracy: 0.7444\n",
            "Epoch 3/15\n",
            "935/935 [==============================] - 4s 4ms/step - loss: 0.8827 - accuracy: 0.7377 - val_loss: 0.4660 - val_accuracy: 0.7769\n",
            "Epoch 4/15\n",
            "935/935 [==============================] - 3s 3ms/step - loss: 0.8826 - accuracy: 0.7409 - val_loss: 0.5861 - val_accuracy: 0.6953\n",
            "Epoch 5/15\n",
            "935/935 [==============================] - 3s 3ms/step - loss: 0.8807 - accuracy: 0.7390 - val_loss: 0.5275 - val_accuracy: 0.7294\n",
            "Epoch 6/15\n",
            "935/935 [==============================] - 3s 3ms/step - loss: 0.8799 - accuracy: 0.7403 - val_loss: 0.6233 - val_accuracy: 0.6701\n",
            "Epoch 7/15\n",
            "935/935 [==============================] - 3s 4ms/step - loss: 0.8799 - accuracy: 0.7377 - val_loss: 0.4939 - val_accuracy: 0.7451\n",
            "Epoch 8/15\n",
            "935/935 [==============================] - 3s 3ms/step - loss: 0.8782 - accuracy: 0.7367 - val_loss: 0.5400 - val_accuracy: 0.7106\n",
            "Epoch 9/15\n",
            "935/935 [==============================] - 3s 3ms/step - loss: 0.8765 - accuracy: 0.7360 - val_loss: 0.5029 - val_accuracy: 0.7379\n",
            "Epoch 10/15\n",
            "935/935 [==============================] - 3s 3ms/step - loss: 0.8771 - accuracy: 0.7402 - val_loss: 0.4902 - val_accuracy: 0.7429\n",
            "Epoch 11/15\n",
            "935/935 [==============================] - 3s 3ms/step - loss: 0.8760 - accuracy: 0.7399 - val_loss: 0.5075 - val_accuracy: 0.7477\n",
            "Epoch 12/15\n",
            "935/935 [==============================] - 4s 4ms/step - loss: 0.8766 - accuracy: 0.7408 - val_loss: 0.5122 - val_accuracy: 0.7366\n",
            "Epoch 13/15\n",
            "935/935 [==============================] - 3s 3ms/step - loss: 0.8737 - accuracy: 0.7389 - val_loss: 0.4965 - val_accuracy: 0.7537\n",
            "Epoch 14/15\n",
            "935/935 [==============================] - 3s 3ms/step - loss: 0.8736 - accuracy: 0.7425 - val_loss: 0.4884 - val_accuracy: 0.7553\n",
            "Epoch 15/15\n",
            "935/935 [==============================] - 3s 3ms/step - loss: 0.8705 - accuracy: 0.7416 - val_loss: 0.5263 - val_accuracy: 0.7240\n"
          ]
        },
        {
          "output_type": "display_data",
          "data": {
            "text/plain": [
              "<Figure size 640x480 with 1 Axes>"
            ],
            "image/png": "[encoded data removed]"
          },
          "metadata": {}
        }
      ],
      "source": [
        "history = model.fit(X_train, y_train, epochs=15, validation_split=0.3, class_weight=class_weight)\n",
        "\n",
        "# Now you can create your plots\n",
        "history_dict = history.history\n",
        "\n",
        "# loss\n",
        "loss_values = history_dict['loss']\n",
        "val_loss_values = history_dict['val_loss']\n",
        "\n",
        "# range of X (no. of epochs)\n",
        "epochs = range(1, len(loss_values) + 1) \n",
        "\n",
        "# plot\n",
        "plt.plot(epochs, loss_values, 'bo', label='Training loss')\n",
        "plt.plot(epochs, val_loss_values, 'orange', label='Validation loss')\n",
        "plt.title('Training and validation loss')\n",
        "plt.xlabel('Epochs')\n",
        "plt.ylabel('Loss')\n",
        "plt.legend()\n",
        "plt.show()"
      ]
    },
    {
      "cell_type": "code",
      "execution_count": null,
      "metadata": {
        "id": "FLTbf3EvW-Cl",
        "colab": {
          "base_uri": "https://localhost:8080/",
          "height": 489
        },
        "outputId": "226551a7-534f-4ad8-d238-b535f5628d8c"
      },
      "outputs": [
        {
          "output_type": "display_data",
          "data": {
            "text/plain": [
              "<Figure size 640x480 with 1 Axes>"
            ],
            "image/png": "[encoded data removed]"
          },
          "metadata": {}
        },
        {
          "output_type": "execute_result",
          "data": {
            "text/plain": [
              "0.7769284844398499"
            ]
          },
          "metadata": {},
          "execution_count": 11
        }
      ],
      "source": [
        "# Learning curve(accuracy)\n",
        "# let's see the training and validation accuracy by epoch\n",
        "\n",
        "# accuracy\n",
        "acc = history.history['accuracy']\n",
        "val_acc = history.history['val_accuracy']\n",
        "\n",
        "# range of X (no. of epochs)\n",
        "epochs = range(1, len(acc) + 1)\n",
        "\n",
        "# plot\n",
        "# \"bo\" is for \"blue dot\"\n",
        "plt.plot(epochs, acc, 'bo', label='Training accuracy')\n",
        "# orange is for \"orange\"\n",
        "plt.plot(epochs, val_acc, 'orange', label='Validation accuracy')\n",
        "plt.title('Training and validation accuracy')\n",
        "plt.xlabel('Epochs')\n",
        "plt.ylabel('Accuracy')\n",
        "plt.legend()\n",
        "plt.show()\n",
        "\n",
        "# this is the max value - should correspond to\n",
        "# the HIGHEST train accuracy\n",
        "np.max(val_acc)"
      ]
    },
    {
      "cell_type": "code",
      "execution_count": null,
      "metadata": {
        "id": "xAo5y8RJPCo4",
        "colab": {
          "base_uri": "https://localhost:8080/"
        },
        "outputId": "0a3d86db-853d-40ad-9f6e-e196b725c6da"
      },
      "outputs": [
        {
          "output_type": "stream",
          "name": "stdout",
          "text": [
            "573/573 [==============================] - 1s 1ms/step\n",
            "[[11708  4797]\n",
            " [  321  1489]]\n",
            "              precision    recall  f1-score   support\n",
            "\n",
            "         0.0       0.97      0.71      0.82     16505\n",
            "         1.0       0.24      0.82      0.37      1810\n",
            "\n",
            "    accuracy                           0.72     18315\n",
            "   macro avg       0.61      0.77      0.59     18315\n",
            "weighted avg       0.90      0.72      0.78     18315\n",
            "\n"
          ]
        },
        {
          "output_type": "execute_result",
          "data": {
            "text/plain": [
              "(11708, 4797, 321, 1489)"
            ]
          },
          "metadata": {},
          "execution_count": 12
        }
      ],
      "source": [
        "from sklearn.metrics import confusion_matrix\n",
        "from sklearn.metrics import classification_report\n",
        "\n",
        "preds = np.round(model.predict(X_test),0)\n",
        "\n",
        "# confusion matrix\n",
        "print(confusion_matrix(y_test, preds)) # order matters! (actual, predicted)\n",
        "\n",
        "print(classification_report(y_test, preds))\n",
        "\n",
        "tn, fp, fn, tp = confusion_matrix(y_test, preds).ravel()\n",
        "(tn, fp, fn, tp)"
      ]
    },
    {
      "cell_type": "code",
      "source": [
        "from sklearn.metrics import confusion_matrix, classification_report, roc_auc_score\n",
        "import numpy as np\n",
        "\n",
        "preds = np.round(model.predict(X_test),0)\n",
        "\n",
        "# Confusion matrix\n",
        "print(confusion_matrix(y_test, preds)) # Order matters! (actual, predicted)\n",
        "\n",
        "# Classification report\n",
        "print(classification_report(y_test, preds))\n",
        "\n",
        "# AUC-ROC\n",
        "roc_auc = roc_auc_score(y_test, preds)\n",
        "print(\"AUC-ROC: \", roc_auc)\n",
        "\n",
        "tn, fp, fn, tp = confusion_matrix(y_test, preds).ravel()\n",
        "print(tn, fp, fn, tp)\n"
      ],
      "metadata": {
        "id": "z7WxkYf-6ulQ"
      },
      "execution_count": null,
      "outputs": []
    },
    {
      "cell_type": "markdown",
      "metadata": {
        "id": "aEavshLHEwxv"
      },
      "source": [
        "##Using PCE"
      ]
    },
    {
      "cell_type": "code",
      "execution_count": null,
      "metadata": {
        "id": "FmnuVRqEFycR"
      },
      "outputs": [],
      "source": [
        "X = pce_features_data.drop('CVD', axis=1)\n",
        "y = pce_features_data['CVD']"
      ]
    },
    {
      "cell_type": "code",
      "execution_count": null,
      "metadata": {
        "id": "hYGXZoFOEwxv"
      },
      "outputs": [],
      "source": [
        "# min_max_scaler = MinMaxScaler()\n",
        "# X_normalized = min_max_scaler.fit_transform(X)\n",
        "# standard_scaler = StandardScaler()\n",
        "# X_standardized = standard_scaler.fit_transform(X_normalized)"
      ]
    },
    {
      "cell_type": "code",
      "execution_count": null,
      "metadata": {
        "id": "_ejulOHEEwxv"
      },
      "outputs": [],
      "source": [
        "X_train, X_test, y_train, y_test = train_test_split(X, y, test_size=0.3, random_state=42)"
      ]
    },
    {
      "cell_type": "markdown",
      "metadata": {
        "id": "IWNNF-L4Ewxw"
      },
      "source": [
        "###Random Forest"
      ]
    },
    {
      "cell_type": "code",
      "execution_count": null,
      "metadata": {
        "id": "JPOVQy9SEwxw"
      },
      "outputs": [],
      "source": [
        "rf = RandomForestClassifier(n_estimators=100, random_state=42)\n",
        "rf.fit(X_train, y_train)"
      ]
    },
    {
      "cell_type": "code",
      "execution_count": null,
      "metadata": {
        "id": "U0L7Fv6IEwxw"
      },
      "outputs": [],
      "source": [
        "y_pred = rf.predict(X_test)\n",
        "accuracy = accuracy_score(y_test, y_pred)\n",
        "cm=confusion_matrix(y_test, y_pred)\n",
        "print(f'Accuracy: {accuracy}')\n",
        "tn, fp, fn, tp = confusion_matrix(y_test, y_pred).ravel()\n",
        "f1 = f1_score(y_test, y_pred)\n",
        "(tn, fp, fn, tp, f1)"
      ]
    },
    {
      "cell_type": "markdown",
      "metadata": {
        "id": "sQz5F2t1Ewxw"
      },
      "source": [
        "###Logistic Regression"
      ]
    },
    {
      "cell_type": "code",
      "execution_count": null,
      "metadata": {
        "id": "vXGBO-PfEwxw"
      },
      "outputs": [],
      "source": [
        "from sklearn.model_selection import KFold\n",
        "from sklearn.linear_model import LogisticRegression\n",
        "from sklearn.metrics import precision_score, recall_score, f1_score\n",
        "\n",
        "# Find the class weights based on the inverse of their frequencies\n",
        "class_weights = y.value_counts().to_dict()\n",
        "weights = [1, 1.5, 2, 3, 4, 5, 6, 7, 8, 9]\n",
        "\n",
        "for i in range(10):\n",
        "  # Initialize the KFold cross-validator with 10 folds\n",
        "  kf = KFold(n_splits=10)\n",
        "\n",
        "  total_training_accuracy = 0\n",
        "  total_testing_accuracy = 0\n",
        "  total_precision = 0\n",
        "  total_recall = 0\n",
        "  total_f1 = 0\n",
        "  fold = 1\n",
        "\n",
        "  class_weights[1.0] = weights[i]\n",
        "  class_weights[0.0] = 1\n",
        "  # for key in class_weights:\n",
        "  #     class_weights[key] = 1 / class_weights[key]\n",
        "  #     print(f\"weight: class {key}: {class_weights[key]}\")\n",
        "\n",
        "  # Initialize the Logistic Regression model with class weights and max_iter=1000\n",
        "  lr = LogisticRegression(max_iter=1000, class_weight=class_weights)\n",
        "\n",
        "  for train_index, test_index in kf.split(X_standardized):\n",
        "      X_train, X_test = X_standardized[train_index], X_standardized[test_index]\n",
        "      y_train, y_test = y.iloc[train_index], y.iloc[test_index]\n",
        "\n",
        "      # Train the model on the training data\n",
        "      lr.fit(X_train, y_train)\n",
        "\n",
        "      # Compute the training accuracy\n",
        "      training_accuracy = lr.score(X_train, y_train)\n",
        "\n",
        "      # Make predictions using the test data\n",
        "      y_test_pred = lr.predict(X_test)\n",
        "\n",
        "      # Compute the testing accuracy, precision, recall, and F1 score\n",
        "      testing_accuracy = lr.score(X_test, y_test)\n",
        "      precision = precision_score(y_test, y_test_pred)\n",
        "      recall = recall_score(y_test, y_test_pred)\n",
        "      f1 = f1_score(y_test, y_test_pred)\n",
        "\n",
        "      # print(f\"Fold {fold}:\")\n",
        "      # print(f\"  Training accuracy: {training_accuracy * 100:.2f}%\")\n",
        "      # print(f\"  Testing accuracy: {testing_accuracy * 100:.2f}%\")\n",
        "      # print(f\"  Precision: {precision:.2f}\")\n",
        "      # print(f\"  Recall: {recall:.2f}\")\n",
        "      # print(f\"  F1 score: {f1:.2f}\")\n",
        "      # print()\n",
        "\n",
        "      total_training_accuracy += training_accuracy\n",
        "      total_testing_accuracy += testing_accuracy\n",
        "      total_precision += precision\n",
        "      total_recall += recall\n",
        "      total_f1 += f1\n",
        "      fold += 1\n",
        "\n",
        "  # Calculate the average training accuracy, testing accuracy, precision, recall, and F1 score\n",
        "  average_training_accuracy = total_training_accuracy / (fold - 1)\n",
        "  average_testing_accuracy = total_testing_accuracy / (fold - 1)\n",
        "  average_precision = total_precision / (fold - 1)\n",
        "  average_recall = total_recall / (fold - 1)\n",
        "  average_f1 = total_f1 / (fold - 1)\n",
        "\n",
        "  print(f\"Average training accuracy: {average_training_accuracy * 100:.2f}%\")\n",
        "  print(f\"Average testing accuracy: {average_testing_accuracy * 100:.2f}%\")\n",
        "  print(f\"Average precision: {average_precision:.2f}\")\n",
        "  print(f\"Average recall: {average_recall:.2f}\")\n",
        "  print(f\"Average F1 score: {average_f1:.2f}\")\n",
        "  print()\n"
      ]
    },
    {
      "cell_type": "markdown",
      "metadata": {
        "id": "6kjc_IH6Ewxw"
      },
      "source": [
        "###SVM"
      ]
    },
    {
      "cell_type": "code",
      "execution_count": null,
      "metadata": {
        "id": "azittsttEwxw"
      },
      "outputs": [],
      "source": [
        "from sklearn.model_selection import KFold\n",
        "from sklearn.linear_model import LogisticRegression\n",
        "from sklearn.metrics import precision_score, recall_score, f1_score\n",
        "\n",
        "# Find the class weights based on the inverse of their frequencies\n",
        "class_weights = y.value_counts().to_dict()\n",
        "weights = [5, 6, 7, 8, 9]\n",
        "\n",
        "for i in range(5):\n",
        "  # Initialize the KFold cross-validator with 10 folds\n",
        "  kf = KFold(n_splits=2, shuffle=True)\n",
        "\n",
        "  total_training_accuracy = 0\n",
        "  total_testing_accuracy = 0\n",
        "  total_precision = 0\n",
        "  total_recall = 0\n",
        "  total_f1 = 0\n",
        "  fold = 1\n",
        "\n",
        "  class_weights[1.0] = weights[i]\n",
        "  class_weights[0.0] = 1\n",
        "\n",
        "  clf = svm.SVC(class_weight=class_weights)\n",
        "\n",
        "  for train_index, test_index in kf.split(X_standardized):\n",
        "      X_train, X_test = X_standardized[train_index], X_standardized[test_index]\n",
        "      y_train, y_test = y.iloc[train_index], y.iloc[test_index]\n",
        "\n",
        "      # Train the model on the training data\n",
        "      clf.fit(X_train, y_train)\n",
        "\n",
        "      # Compute the training accuracy\n",
        "      training_accuracy = clf.score(X_train, y_train)\n",
        "\n",
        "      # Make predictions using the test data\n",
        "      y_test_pred = clf.predict(X_test)\n",
        "\n",
        "      # Compute the testing accuracy, precision, recall, and F1 score\n",
        "      testing_accuracy = clf.score(X_test, y_test)\n",
        "      precision = precision_score(y_test, y_test_pred)\n",
        "      recall = recall_score(y_test, y_test_pred)\n",
        "      f1 = f1_score(y_test, y_test_pred)\n",
        "\n",
        "      # print(f\"Fold {fold}:\")\n",
        "      # print(f\"  Training accuracy: {training_accuracy * 100:.2f}%\")\n",
        "      # print(f\"  Testing accuracy: {testing_accuracy * 100:.2f}%\")\n",
        "      # print(f\"  Precision: {precision:.2f}\")\n",
        "      # print(f\"  Recall: {recall:.2f}\")\n",
        "      # print(f\"  F1 score: {f1:.2f}\")\n",
        "      # print()\n",
        "\n",
        "      total_training_accuracy += training_accuracy\n",
        "      total_testing_accuracy += testing_accuracy\n",
        "      total_precision += precision\n",
        "      total_recall += recall\n",
        "      total_f1 += f1\n",
        "      fold += 1\n",
        "\n",
        "  # Calculate the average training accuracy, testing accuracy, precision, recall, and F1 score\n",
        "  average_training_accuracy = total_training_accuracy / (fold - 1)\n",
        "  average_testing_accuracy = total_testing_accuracy / (fold - 1)\n",
        "  average_precision = total_precision / (fold - 1)\n",
        "  average_recall = total_recall / (fold - 1)\n",
        "  average_f1 = total_f1 / (fold - 1)\n",
        "\n",
        "  print(f\"Average training accuracy: {average_training_accuracy * 100:.2f}%\")\n",
        "  print(f\"Average testing accuracy: {average_testing_accuracy * 100:.2f}%\")\n",
        "  print(f\"Average precision: {average_precision:.2f}\")\n",
        "  print(f\"Average recall: {average_recall:.2f}\")\n",
        "  print(f\"Average F1 score: {average_f1:.2f}\")\n",
        "  print()\n"
      ]
    },
    {
      "cell_type": "markdown",
      "metadata": {
        "id": "2-mSLishEwxx"
      },
      "source": [
        "###Neural Networks"
      ]
    },
    {
      "cell_type": "markdown",
      "metadata": {
        "id": "ZREBK4BZEwxx"
      },
      "source": [
        "####Finding best weight on model (130,80,40)"
      ]
    },
    {
      "cell_type": "code",
      "execution_count": null,
      "metadata": {
        "colab": {
          "background_save": true
        },
        "id": "Nh24BaF0Znsw"
      },
      "outputs": [],
      "source": [
        "from tensorflow import keras\n",
        "from tensorflow.keras import layers\n",
        "from kerastuner.tuners import RandomSearch\n",
        "\n",
        "def build_model(hp):\n",
        "    model = keras.Sequential()\n",
        "    \n",
        "    # Use hp.Int to define the number of layers\n",
        "    for i in range(hp.Int('num_layers', 2, 20)):\n",
        "        model.add(layers.Dense(units=hp.Int('units_' + str(i),\n",
        "                                            min_value=32,\n",
        "                                            max_value=512,\n",
        "                                            step=32),\n",
        "                               activation='relu'))\n",
        "    \n",
        "    model.add(layers.Dense(1, activation='sigmoid'))\n",
        "    \n",
        "    model.compile(optimizer=keras.optimizers.Adam(hp.Choice('learning_rate', values=[1e-2, 1e-3, 1e-4])),\n",
        "                  loss='binary_crossentropy',\n",
        "                  metrics=['accuracy'])\n",
        "    \n",
        "    return model\n",
        "\n",
        "tuner = RandomSearch(\n",
        "    build_model,\n",
        "    objective='val_accuracy',  # use validation accuracy as the objective\n",
        "    max_trials=5,\n",
        "    executions_per_trial=3,\n",
        "    directory='my_dir',\n",
        "    project_name='helloworld')\n",
        "\n",
        "tuner.search_space_summary()\n",
        "\n",
        "tuner.search(X_train, y_train,\n",
        "             epochs=10,\n",
        "             validation_split=0.3)\n",
        "\n",
        "# Get the best hyperparameters\n",
        "best_hp = tuner.get_best_hyperparameters(num_trials=1)[0]\n",
        "\n",
        "# Build the model with the best hyperparameters and train it on the data\n",
        "model = tuner.hypermodel.build(best_hp)\n",
        "model.predict(X_train[:1])\n",
        "model.summary()\n"
      ]
    },
    {
      "cell_type": "code",
      "execution_count": null,
      "metadata": {
        "id": "4npl9rkYcnXU"
      },
      "outputs": [],
      "source": [
        "history = model.fit(X_train, y_train, epochs=8, validation_split=0.3)\n",
        "\n",
        "# Now you can create your plots\n",
        "history_dict = history.history\n",
        "\n",
        "# loss\n",
        "loss_values = history_dict['loss']\n",
        "val_loss_values = history_dict['val_loss']\n",
        "\n",
        "# range of X (no. of epochs)\n",
        "epochs = range(1, len(loss_values) + 1) \n",
        "\n",
        "# plot\n",
        "plt.plot(epochs, loss_values, 'bo', label='Training loss')\n",
        "plt.plot(epochs, val_loss_values, 'orange', label='Validation loss')\n",
        "plt.title('Training and validation loss')\n",
        "plt.xlabel('Epochs')\n",
        "plt.ylabel('Loss')\n",
        "plt.legend()\n",
        "plt.show()"
      ]
    },
    {
      "cell_type": "code",
      "execution_count": null,
      "metadata": {
        "id": "Xj5_b-taEwxx"
      },
      "outputs": [],
      "source": [
        "import keras.backend as K\n",
        "\n",
        "def custom_loss(y_true, y_pred, class_weights):\n",
        "    epsilon = K.epsilon()  # small value to avoid division by zero\n",
        "    y_pred = K.clip(y_pred, epsilon, 1. - epsilon)  # clip values to avoid log(0)\n",
        "\n",
        "    if class_weights is None:\n",
        "        bce = - y_true * K.log(y_pred) - (1 - y_true) * K.log(1 - y_pred)\n",
        "    else:\n",
        "        bce = - class_weights[0] * y_true * K.log(y_pred) - class_weights[1] * (1 - y_true) * K.log(1 - y_pred)\n",
        "\n",
        "    return K.mean(bce)"
      ]
    },
    {
      "cell_type": "code",
      "execution_count": null,
      "metadata": {
        "id": "ymmRrXw0Ewxx"
      },
      "outputs": [],
      "source": [
        "# build a model\n",
        "model = Sequential()\n",
        "model.add(Dense(130, input_shape=(X.shape[1],), activation='relu')) # Add an input shape! (features,)\n",
        "model.add(Dense(80, activation='relu'))\n",
        "model.add(Dense(40, activation='relu'))\n",
        "model.add(Dense(1, activation='sigmoid'))\n",
        "model.summary()\n",
        "\n",
        "class_weights = [5.0, 1.0]  # adjust the class weights as desired\n",
        "model.compile(optimizer='Adam',\n",
        "               loss=lambda y_true, y_pred: custom_loss(y_true, y_pred, class_weights),\n",
        "               metrics=['accuracy'])\n",
        "\n",
        "# early stopping callback\n",
        "# This callback will stop the training when there is no improvement in  \n",
        "# the validation loss for 10 consecutive epochs.  \n",
        "es = EarlyStopping(monitor='val_accuracy',\n",
        "                                   mode='max', # don't minimize the accuracy!\n",
        "                                   patience=10,\n",
        "                                   restore_best_weights=True)\n",
        "\n",
        "# now we just update our model fit call\n",
        "history = model.fit(X_train,\n",
        "                    y_train,\n",
        "                    callbacks=[es],\n",
        "                    epochs=80, # you can set this to a big number!\n",
        "                    batch_size=10,\n",
        "                    validation_split=0.3,\n",
        "                    shuffle=True,\n",
        "                    verbose=1)"
      ]
    },
    {
      "cell_type": "code",
      "execution_count": null,
      "metadata": {
        "id": "LV7-4-QdEwxx"
      },
      "outputs": [],
      "source": [
        "history_dict = history.history\n",
        "# Learning curve(Loss)\n",
        "# let's see the training and validation loss by epoch\n",
        "\n",
        "# loss\n",
        "loss_values = history_dict['loss'] # you can change this\n",
        "val_loss_values = history_dict['val_loss'] # you can also change this\n",
        "\n",
        "# range of X (no. of epochs)\n",
        "epochs = range(1, len(loss_values) + 1) \n",
        "\n",
        "# plot\n",
        "plt.plot(epochs, loss_values, 'bo', label='Training loss')\n",
        "plt.plot(epochs, val_loss_values, 'orange', label='Validation loss')\n",
        "plt.title('Training and validation loss')\n",
        "plt.xlabel('Epochs')\n",
        "plt.ylabel('Loss')\n",
        "plt.legend()\n",
        "plt.show()"
      ]
    },
    {
      "cell_type": "code",
      "execution_count": null,
      "metadata": {
        "id": "8DC6T3vnEwxx"
      },
      "outputs": [],
      "source": [
        "# Learning curve(accuracy)\n",
        "# let's see the training and validation accuracy by epoch\n",
        "\n",
        "# accuracy\n",
        "acc = history.history['accuracy']\n",
        "val_acc = history.history['val_accuracy']\n",
        "\n",
        "# range of X (no. of epochs)\n",
        "epochs = range(1, len(acc) + 1)\n",
        "\n",
        "# plot\n",
        "# \"bo\" is for \"blue dot\"\n",
        "plt.plot(epochs, acc, 'bo', label='Training accuracy')\n",
        "# orange is for \"orange\"\n",
        "plt.plot(epochs, val_acc, 'orange', label='Validation accuracy')\n",
        "plt.title('Training and validation accuracy')\n",
        "plt.xlabel('Epochs')\n",
        "plt.ylabel('Accuracy')\n",
        "plt.legend()\n",
        "plt.show()\n",
        "\n",
        "# this is the max value - should correspond to\n",
        "# the HIGHEST train accuracy\n",
        "np.max(val_acc)"
      ]
    },
    {
      "cell_type": "code",
      "execution_count": null,
      "metadata": {
        "id": "dIIYm34GEwxy"
      },
      "outputs": [],
      "source": [
        "from sklearn.metrics import confusion_matrix\n",
        "from sklearn.metrics import classification_report\n",
        "\n",
        "preds = np.round(model.predict(X_test),0)\n",
        "\n",
        "# confusion matrix\n",
        "print(confusion_matrix(y_test, preds)) # order matters! (actual, predicted)\n",
        "\n",
        "print(classification_report(y_test, preds))\n",
        "\n",
        "tn, fp, fn, tp = confusion_matrix(y_test, preds).ravel()\n",
        "(tn, fp, fn, tp)"
      ]
    }
  ],
  "metadata": {
    "colab": {
      "collapsed_sections": [
        "IWNNF-L4Ewxw",
        "sQz5F2t1Ewxw"
      ],
      "provenance": []
    },
    "kernelspec": {
      "display_name": "Python 3",
      "name": "python3"
    },
    "language_info": {
      "name": "python"
    }
  },
  "nbformat": 4,
  "nbformat_minor": 0
}